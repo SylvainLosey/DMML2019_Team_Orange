{
 "cells": [
  {
   "cell_type": "markdown",
   "metadata": {},
   "source": [
    "# 2. Analysis"
   ]
  },
  {
   "cell_type": "markdown",
   "metadata": {},
   "source": [
    "## Setup\n",
    "\n",
    "Run the data_cleaning notebook tho have access to all its contents in this shell"
   ]
  },
  {
   "cell_type": "code",
   "execution_count": 1,
   "metadata": {},
   "outputs": [],
   "source": [
    "import pandas as pd\n",
    "import matplotlib.pyplot as plt\n",
    "import seaborn as sns\n",
    "import spacy\n",
    "\n",
    "from sklearn.feature_extraction.text import CountVectorizer, TfidfVectorizer\n",
    "from sklearn.linear_model import LogisticRegression\n",
    "from sklearn.neighbors import KNeighborsClassifier\n",
    "from sklearn import metrics\n",
    "from sklearn.model_selection import train_test_split\n",
    "from sklearn.pipeline import Pipeline\n",
    "from sklearn.preprocessing import LabelEncoder, OneHotEncoder\n",
    "from sklearn.tree import DecisionTreeClassifier\n",
    "from sklearn.utils.multiclass import unique_labels\n",
    "from sklearn.metrics import confusion_matrix, plot_confusion_matrix, average_precision_score\n",
    "from sklearn.metrics import precision_recall_curve, plot_precision_recall_curve\n",
    "\n",
    "sp = spacy.load('en_core_web_sm')\n",
    "plt.rcParams['figure.figsize'] = [10, 7]"
   ]
  },
  {
   "cell_type": "markdown",
   "metadata": {},
   "source": [
    "### Import dataset"
   ]
  },
  {
   "cell_type": "code",
   "execution_count": 2,
   "metadata": {},
   "outputs": [
    {
     "data": {
      "text/html": [
       "<div>\n",
       "<style scoped>\n",
       "    .dataframe tbody tr th:only-of-type {\n",
       "        vertical-align: middle;\n",
       "    }\n",
       "\n",
       "    .dataframe tbody tr th {\n",
       "        vertical-align: top;\n",
       "    }\n",
       "\n",
       "    .dataframe thead th {\n",
       "        text-align: right;\n",
       "    }\n",
       "</style>\n",
       "<table border=\"1\" class=\"dataframe\">\n",
       "  <thead>\n",
       "    <tr style=\"text-align: right;\">\n",
       "      <th></th>\n",
       "      <th>review</th>\n",
       "      <th>sentiment</th>\n",
       "    </tr>\n",
       "  </thead>\n",
       "  <tbody>\n",
       "    <tr>\n",
       "      <th>0</th>\n",
       "      <td>reviewer mention watch episode hook right exac...</td>\n",
       "      <td>positive</td>\n",
       "    </tr>\n",
       "    <tr>\n",
       "      <th>1</th>\n",
       "      <td>wonderful little production technique very una...</td>\n",
       "      <td>positive</td>\n",
       "    </tr>\n",
       "    <tr>\n",
       "      <th>2</th>\n",
       "      <td>think wonderful way spend time hot summer week...</td>\n",
       "      <td>positive</td>\n",
       "    </tr>\n",
       "    <tr>\n",
       "      <th>3</th>\n",
       "      <td>basically family little boy think zombie close...</td>\n",
       "      <td>negative</td>\n",
       "    </tr>\n",
       "    <tr>\n",
       "      <th>4</th>\n",
       "      <td>petter love time money visually stunning film ...</td>\n",
       "      <td>positive</td>\n",
       "    </tr>\n",
       "  </tbody>\n",
       "</table>\n",
       "</div>"
      ],
      "text/plain": [
       "                                              review sentiment\n",
       "0  reviewer mention watch episode hook right exac...  positive\n",
       "1  wonderful little production technique very una...  positive\n",
       "2  think wonderful way spend time hot summer week...  positive\n",
       "3  basically family little boy think zombie close...  negative\n",
       "4  petter love time money visually stunning film ...  positive"
      ]
     },
     "execution_count": 2,
     "metadata": {},
     "output_type": "execute_result"
    }
   ],
   "source": [
    "data = pd.read_csv(\"../data/extremely_clean_dataset.csv\") \n",
    "\n",
    "# Keep the first 100 elements to reduce the load on cpu\n",
    "#data = data[:10]\n",
    "data.head()"
   ]
  },
  {
   "cell_type": "markdown",
   "metadata": {},
   "source": [
    "## 2.1 EDA"
   ]
  },
  {
   "cell_type": "code",
   "execution_count": 3,
   "metadata": {},
   "outputs": [
    {
     "data": {
      "text/html": [
       "<div>\n",
       "<style scoped>\n",
       "    .dataframe tbody tr th:only-of-type {\n",
       "        vertical-align: middle;\n",
       "    }\n",
       "\n",
       "    .dataframe tbody tr th {\n",
       "        vertical-align: top;\n",
       "    }\n",
       "\n",
       "    .dataframe thead th {\n",
       "        text-align: right;\n",
       "    }\n",
       "</style>\n",
       "<table border=\"1\" class=\"dataframe\">\n",
       "  <thead>\n",
       "    <tr style=\"text-align: right;\">\n",
       "      <th></th>\n",
       "      <th>review</th>\n",
       "      <th>sentiment</th>\n",
       "    </tr>\n",
       "  </thead>\n",
       "  <tbody>\n",
       "    <tr>\n",
       "      <th>count</th>\n",
       "      <td>50000</td>\n",
       "      <td>50000</td>\n",
       "    </tr>\n",
       "    <tr>\n",
       "      <th>unique</th>\n",
       "      <td>49569</td>\n",
       "      <td>2</td>\n",
       "    </tr>\n",
       "    <tr>\n",
       "      <th>top</th>\n",
       "      <td>love variety not solely cook great very captiv...</td>\n",
       "      <td>positive</td>\n",
       "    </tr>\n",
       "    <tr>\n",
       "      <th>freq</th>\n",
       "      <td>5</td>\n",
       "      <td>25000</td>\n",
       "    </tr>\n",
       "  </tbody>\n",
       "</table>\n",
       "</div>"
      ],
      "text/plain": [
       "                                                   review sentiment\n",
       "count                                               50000     50000\n",
       "unique                                              49569         2\n",
       "top     love variety not solely cook great very captiv...  positive\n",
       "freq                                                    5     25000"
      ]
     },
     "execution_count": 3,
     "metadata": {},
     "output_type": "execute_result"
    }
   ],
   "source": [
    "data.describe()"
   ]
  },
  {
   "cell_type": "code",
   "execution_count": 4,
   "metadata": {},
   "outputs": [
    {
     "data": {
      "text/plain": [
       "positive    25000\n",
       "negative    25000\n",
       "Name: sentiment, dtype: int64"
      ]
     },
     "execution_count": 4,
     "metadata": {},
     "output_type": "execute_result"
    }
   ],
   "source": [
    "data['sentiment'].value_counts()"
   ]
  },
  {
   "cell_type": "code",
   "execution_count": 5,
   "metadata": {},
   "outputs": [
    {
     "name": "stdout",
     "output_type": "stream",
     "text": [
      "Base rate: 0.5\n"
     ]
    }
   ],
   "source": [
    "base_rate = max(data['sentiment'].value_counts()) / data.shape[0]\n",
    "print(\"Base rate: {}\".format(base_rate))"
   ]
  },
  {
   "cell_type": "markdown",
   "metadata": {},
   "source": [
    "## 2.2 Models\n",
    "\n",
    "#### Splitting the dataset into training and test sets"
   ]
  },
  {
   "cell_type": "code",
   "execution_count": 6,
   "metadata": {},
   "outputs": [],
   "source": [
    "X = data['review'] # the features we want to analyze, we can play with others too\n",
    "y = data['sentiment'] # the labels, or answers, we want to test against\n",
    "\n",
    "X_train, X_test, y_train, y_test = train_test_split(X, y, test_size=0.2, random_state=72)"
   ]
  },
  {
   "cell_type": "markdown",
   "metadata": {},
   "source": [
    "#### Tokenizer"
   ]
  },
  {
   "cell_type": "code",
   "execution_count": 7,
   "metadata": {},
   "outputs": [],
   "source": [
    "nlp = spacy.lang.en.English()\n",
    "\n",
    "def tokenize_review(this_review):\n",
    "    return [token.text for token in nlp(this_review)]"
   ]
  },
  {
   "cell_type": "markdown",
   "metadata": {},
   "source": [
    "### 2.2.1 Logistic Model"
   ]
  },
  {
   "cell_type": "code",
   "execution_count": 8,
   "metadata": {},
   "outputs": [
    {
     "data": {
      "text/plain": [
       "0.8971"
      ]
     },
     "execution_count": 8,
     "metadata": {},
     "output_type": "execute_result"
    }
   ],
   "source": [
    "# Notes: - saga is better than lbfgs for large datasets\n",
    "#        - at default max_iter (1000) the model doesn't converge, 2000 works\n",
    "classifier = LogisticRegression(solver=\"saga\", max_iter=2000)\n",
    "\n",
    "count_vector = CountVectorizer(tokenizer = tokenize_review, ngram_range = (1,2))\n",
    "\n",
    "# Create pipeline using Bag of Words\n",
    "pipe = Pipeline([('vectorizer', count_vector), ('classifier', classifier)])\n",
    "\n",
    "# Fit Model\n",
    "pipe.fit(X_train,y_train)\n",
    "\n",
    "pipe.score(X_test, y_test)"
   ]
  },
  {
   "cell_type": "markdown",
   "metadata": {},
   "source": [
    "### Strongest Coefficients"
   ]
  },
  {
   "cell_type": "code",
   "execution_count": 9,
   "metadata": {},
   "outputs": [],
   "source": [
    "def get_interesting_features(features):\n",
    "    interesting_coefs = []\n",
    "    for best_positive in sorted(features.items(), key=lambda x: x[1], reverse=True)[:5]:\n",
    "        interesting_coefs.append(best_positive)\n",
    "\n",
    "    for best_negative in sorted(features.items(), key=lambda x: x[1])[:5]:\n",
    "        interesting_coefs.append(best_negative)\n",
    "    return interesting_coefs"
   ]
  },
  {
   "cell_type": "code",
   "execution_count": 10,
   "metadata": {},
   "outputs": [],
   "source": [
    "def graph_interesting_features(interesting_features):\n",
    "    sorted_by_coef = sorted(interesting_features, key=lambda tup: tup[1], reverse=True)\n",
    "\n",
    "    feature = [elem[0] for elem in sorted_by_coef]\n",
    "    coef = [elem[1] for elem in sorted_by_coef]\n",
    "\n",
    "    plt.bar(feature, coef)\n",
    "    plt.xticks(feature, fontsize=12)\n",
    "    plt.xticks(rotation=30)\n",
    "    plt.show()"
   ]
  },
  {
   "cell_type": "code",
   "execution_count": 11,
   "metadata": {},
   "outputs": [
    {
     "data": {
      "image/png": "[encoded data removed]",
      "text/plain": [
       "<Figure size 432x288 with 1 Axes>"
      ]
     },
     "metadata": {
      "needs_background": "light"
     },
     "output_type": "display_data"
    }
   ],
   "source": [
    "model_features = {\n",
    "    word: coef for word, coef in zip(\n",
    "        count_vector.get_feature_names(), classifier.coef_[0]\n",
    "    )\n",
    "}\n",
    "\n",
    "interesting_features = get_interesting_features(model_features)\n",
    "graph_interesting_features(interesting_features)"
   ]
  },
  {
   "cell_type": "code",
   "execution_count": 12,
   "metadata": {},
   "outputs": [
    {
     "data": {
      "image/png": "[encoded data removed]",
      "text/plain": [
       "<Figure size 432x288 with 1 Axes>"
      ]
     },
     "metadata": {
      "needs_background": "light"
     },
     "output_type": "display_data"
    }
   ],
   "source": [
    "two_gram_features = {key: model_features[key] for key in model_features.keys() if len(key.split(' ')) == 2}\n",
    "intersting_features = get_interesting_features(two_gram_features)\n",
    "graph_interesting_features(intersting_features)"
   ]
  },
  {
   "cell_type": "markdown",
   "metadata": {},
   "source": [
    "#### Results"
   ]
  },
  {
   "cell_type": "code",
   "execution_count": 14,
   "metadata": {},
   "outputs": [
    {
     "name": "stdout",
     "output_type": "stream",
     "text": [
      "              precision    recall  f1-score   support\n",
      "\n",
      "    negative       0.90      0.89      0.90      4996\n",
      "    positive       0.89      0.90      0.90      5004\n",
      "\n",
      "    accuracy                           0.90     10000\n",
      "   macro avg       0.90      0.90      0.90     10000\n",
      "weighted avg       0.90      0.90      0.90     10000\n",
      "\n"
     ]
    }
   ],
   "source": [
    "#test set metrics\n",
    "from sklearn.metrics import classification_report\n",
    "target_pred = pipe.predict(X_test)\n",
    "print(classification_report(y_test, target_pred))"
   ]
  },
  {
   "cell_type": "markdown",
   "metadata": {},
   "source": [
    "#### Confusion matrix"
   ]
  },
  {
   "cell_type": "code",
   "execution_count": 15,
   "metadata": {},
   "outputs": [
    {
     "data": {
      "image/png": "[encoded data removed]",
      "text/plain": [
       "<Figure size 432x288 with 2 Axes>"
      ]
     },
     "metadata": {
      "needs_background": "light"
     },
     "output_type": "display_data"
    },
    {
     "data": {
      "image/png": "[encoded data removed]",
      "text/plain": [
       "<Figure size 432x288 with 2 Axes>"
      ]
     },
     "metadata": {
      "needs_background": "light"
     },
     "output_type": "display_data"
    }
   ],
   "source": [
    "titles_options = [(\"Confusion matrix, without normalization\", None),\n",
    "                  (\"Normalized confusion matrix\", 'true')]\n",
    "\n",
    "for title, normalize in titles_options:\n",
    "    disp = plot_confusion_matrix(pipe, X_test, y_test, cmap=plt.cm.Greens, normalize=normalize)\n",
    "    disp.ax_.set_title(title)"
   ]
  },
  {
   "cell_type": "markdown",
   "metadata": {},
   "source": [
    "#### Precision Recall Curve\n"
   ]
  },
  {
   "cell_type": "code",
   "execution_count": 16,
   "metadata": {},
   "outputs": [
    {
     "name": "stdout",
     "output_type": "stream",
     "text": [
      "Average precision-recall score: 0.96\n"
     ]
    },
    {
     "data": {
      "text/plain": [
       "Text(0.5, 1.0, '2-class Precision-Recall curve: AP=0.96')"
      ]
     },
     "execution_count": 16,
     "metadata": {},
     "output_type": "execute_result"
    },
    {
     "data": {
      "image/png": "[encoded data removed]",
      "text/plain": [
       "<Figure size 432x288 with 1 Axes>"
      ]
     },
     "metadata": {
      "needs_background": "light"
     },
     "output_type": "display_data"
    }
   ],
   "source": [
    "y_score = pipe.decision_function(X_test)\n",
    "average_precision = average_precision_score(y_test, y_score, pos_label=\"positive\")\n",
    "\n",
    "print('Average precision-recall score: {0:0.2f}'.format(\n",
    "      average_precision))\n",
    "\n",
    "disp = plot_precision_recall_curve(pipe, X_test, y_test)\n",
    "disp.ax_.set_title('2-class Precision-Recall curve: '\n",
    "                   'AP={0:0.2f}'.format(average_precision))"
   ]
  },
  {
   "cell_type": "markdown",
   "metadata": {},
   "source": [
    "### 2.2.2 Decision Trees"
   ]
  },
  {
   "cell_type": "code",
   "execution_count": 17,
   "metadata": {},
   "outputs": [],
   "source": [
    "X = count_vector.fit_transform(data['review'])\n",
    "y = data['sentiment']\n",
    "\n",
    "X_train, X_test, y_train, y_test = train_test_split(X, y, test_size=0.2, random_state=72)"
   ]
  },
  {
   "cell_type": "code",
   "execution_count": 18,
   "metadata": {},
   "outputs": [
    {
     "data": {
      "text/plain": [
       "DecisionTreeClassifier(ccp_alpha=0.0, class_weight=None, criterion='entropy',\n",
       "                       max_depth=10, max_features=None, max_leaf_nodes=None,\n",
       "                       min_impurity_decrease=0.0, min_impurity_split=None,\n",
       "                       min_samples_leaf=1, min_samples_split=2,\n",
       "                       min_weight_fraction_leaf=0.0, presort='deprecated',\n",
       "                       random_state=None, splitter='best')"
      ]
     },
     "execution_count": 18,
     "metadata": {},
     "output_type": "execute_result"
    }
   ],
   "source": [
    "tree = DecisionTreeClassifier(criterion='entropy', max_depth=10)\n",
    "tree.fit(X_train, y_train)"
   ]
  },
  {
   "cell_type": "code",
   "execution_count": 19,
   "metadata": {},
   "outputs": [
    {
     "data": {
      "text/plain": [
       "0.7379"
      ]
     },
     "execution_count": 19,
     "metadata": {},
     "output_type": "execute_result"
    }
   ],
   "source": [
    "tree.score(X_test,y_test)"
   ]
  },
  {
   "cell_type": "code",
   "execution_count": 20,
   "metadata": {},
   "outputs": [
    {
     "data": {
      "text/plain": [
       "10"
      ]
     },
     "execution_count": 20,
     "metadata": {},
     "output_type": "execute_result"
    }
   ],
   "source": [
    "tree.get_depth()"
   ]
  },
  {
   "cell_type": "markdown",
   "metadata": {},
   "source": [
    "#### Tuning the depth of the tree"
   ]
  },
  {
   "cell_type": "code",
   "execution_count": 21,
   "metadata": {},
   "outputs": [],
   "source": [
    "#scores = []\n",
    "#for d in range(1, 21):\n",
    "#    test_tree = DecisionTreeClassifier(criterion='entropy', max_depth=d)\n",
    "#    test_tree.fit(X_train, y_train)\n",
    "#    scores.append(test_tree.score(X_test, y_test))"
   ]
  },
  {
   "cell_type": "code",
   "execution_count": 22,
   "metadata": {},
   "outputs": [],
   "source": [
    "#plt.plot(scores)\n",
    "#plt.ylabel('accuracy', fontsize=15)\n",
    "#plt.xlabel('depth', fontsize=15)"
   ]
  },
  {
   "cell_type": "code",
   "execution_count": 23,
   "metadata": {},
   "outputs": [
    {
     "data": {
      "text/plain": [
       "[Text(198.1759765625, 207.55636363636364, 'X[119891] <= 0.5\\nentropy = 1.0\\nsamples = 40000\\nvalue = [20004, 19996]'),\n",
       " Text(122.6376953125, 187.7890909090909, 'X[1940279] <= 0.5\\nentropy = 0.959\\nsamples = 27837\\nvalue = [10636, 17201]'),\n",
       " Text(86.400390625, 168.0218181818182, 'X[763805] <= 0.5\\nentropy = 0.938\\nsamples = 26334\\nvalue = [9345, 16989]'),\n",
       " Text(50.88359375, 148.25454545454545, 'X[114582] <= 0.5\\nentropy = 0.979\\nsamples = 18680\\nvalue = [7740, 10940]'),\n",
       " Text(31.58125, 128.48727272727274, 'X[581678] <= 0.5\\nentropy = 0.97\\nsamples = 18035\\nvalue = [7188, 10847]'),\n",
       " Text(20.925, 108.72, 'X[186159] <= 0.5\\nentropy = 0.981\\nsamples = 16670\\nvalue = [7003, 9667]'),\n",
       " Text(12.4, 88.95272727272729, 'X[1038302] <= 0.5\\nentropy = 0.973\\nsamples = 15942\\nvalue = [6445, 9497]'),\n",
       " Text(6.2, 69.18545454545455, 'X[1203679] <= 0.5\\nentropy = 0.99\\nsamples = 12388\\nvalue = [5477, 6911]'),\n",
       " Text(3.1, 49.418181818181836, 'X[1781100] <= 0.5\\nentropy = 0.981\\nsamples = 11111\\nvalue = [4651, 6460]'),\n",
       " Text(1.55, 29.650909090909096, 'X[1332986] <= 0.5\\nentropy = 0.975\\nsamples = 10806\\nvalue = [4397, 6409]'),\n",
       " Text(0.775, 9.883636363636384, 'entropy = 0.966\\nsamples = 10302\\nvalue = [4040, 6262]'),\n",
       " Text(2.325, 9.883636363636384, 'entropy = 0.871\\nsamples = 504\\nvalue = [357, 147]'),\n",
       " Text(4.65, 29.650909090909096, 'X[690262] <= 0.5\\nentropy = 0.651\\nsamples = 305\\nvalue = [254, 51]'),\n",
       " Text(3.875, 9.883636363636384, 'entropy = 0.618\\nsamples = 300\\nvalue = [254, 46]'),\n",
       " Text(5.425, 9.883636363636384, 'entropy = 0.0\\nsamples = 5\\nvalue = [0, 5]'),\n",
       " Text(9.3, 49.418181818181836, 'X[651163] <= 5.5\\nentropy = 0.937\\nsamples = 1277\\nvalue = [826, 451]'),\n",
       " Text(7.75, 29.650909090909096, 'X[1983112] <= 0.5\\nentropy = 0.913\\nsamples = 1160\\nvalue = [779, 381]'),\n",
       " Text(6.9750000000000005, 9.883636363636384, 'entropy = 0.897\\nsamples = 1115\\nvalue = [766, 349]'),\n",
       " Text(8.525, 9.883636363636384, 'entropy = 0.867\\nsamples = 45\\nvalue = [13, 32]'),\n",
       " Text(10.85, 29.650909090909096, 'X[190113] <= 0.5\\nentropy = 0.972\\nsamples = 117\\nvalue = [47, 70]'),\n",
       " Text(10.075000000000001, 9.883636363636384, 'entropy = 0.93\\nsamples = 107\\nvalue = [37, 70]'),\n",
       " Text(11.625, 9.883636363636384, 'entropy = 0.0\\nsamples = 10\\nvalue = [10, 0]'),\n",
       " Text(18.6, 69.18545454545455, 'X[1194567] <= 2.5\\nentropy = 0.845\\nsamples = 3554\\nvalue = [968, 2586]'),\n",
       " Text(15.5, 49.418181818181836, 'X[1715520] <= 0.5\\nentropy = 0.744\\nsamples = 2241\\nvalue = [474, 1767]'),\n",
       " Text(13.950000000000001, 29.650909090909096, 'X[1983112] <= 0.5\\nentropy = 0.723\\nsamples = 2184\\nvalue = [438, 1746]'),\n",
       " Text(13.175, 9.883636363636384, 'entropy = 0.753\\nsamples = 1981\\nvalue = [428, 1553]'),\n",
       " Text(14.725, 9.883636363636384, 'entropy = 0.283\\nsamples = 203\\nvalue = [10, 193]'),\n",
       " Text(17.05, 29.650909090909096, 'X[1983112] <= 0.5\\nentropy = 0.949\\nsamples = 57\\nvalue = [36, 21]'),\n",
       " Text(16.275000000000002, 9.883636363636384, 'entropy = 0.905\\nsamples = 53\\nvalue = [36, 17]'),\n",
       " Text(17.825, 9.883636363636384, 'entropy = 0.0\\nsamples = 4\\nvalue = [0, 4]'),\n",
       " Text(21.7, 49.418181818181836, 'X[994391] <= 2.5\\nentropy = 0.955\\nsamples = 1313\\nvalue = [494, 819]'),\n",
       " Text(20.150000000000002, 29.650909090909096, 'X[612336] <= 0.5\\nentropy = 0.968\\nsamples = 1240\\nvalue = [489, 751]'),\n",
       " Text(19.375, 9.883636363636384, 'entropy = 0.952\\nsamples = 1153\\nvalue = [428, 725]'),\n",
       " Text(20.925, 9.883636363636384, 'entropy = 0.88\\nsamples = 87\\nvalue = [61, 26]'),\n",
       " Text(23.25, 29.650909090909096, 'X[441877] <= 0.5\\nentropy = 0.36\\nsamples = 73\\nvalue = [5, 68]'),\n",
       " Text(22.475, 9.883636363636384, 'entropy = 0.253\\nsamples = 71\\nvalue = [3, 68]'),\n",
       " Text(24.025000000000002, 9.883636363636384, 'entropy = 0.0\\nsamples = 2\\nvalue = [2, 0]'),\n",
       " Text(29.45, 88.95272727272729, 'X[1423403] <= 0.5\\nentropy = 0.784\\nsamples = 728\\nvalue = [558, 170]'),\n",
       " Text(27.900000000000002, 69.18545454545455, 'X[1176661] <= 0.5\\nentropy = 0.756\\nsamples = 707\\nvalue = [553, 154]'),\n",
       " Text(27.125, 49.418181818181836, 'X[1715520] <= 0.5\\nentropy = 0.737\\nsamples = 698\\nvalue = [553, 145]'),\n",
       " Text(26.35, 29.650909090909096, 'X[1038302] <= 0.5\\nentropy = 0.771\\nsamples = 641\\nvalue = [496, 145]'),\n",
       " Text(25.575, 9.883636363636384, 'entropy = 0.688\\nsamples = 507\\nvalue = [414, 93]'),\n",
       " Text(27.125, 9.883636363636384, 'entropy = 0.964\\nsamples = 134\\nvalue = [82, 52]'),\n",
       " Text(27.900000000000002, 29.650909090909096, 'entropy = 0.0\\nsamples = 57\\nvalue = [57, 0]'),\n",
       " Text(28.675, 49.418181818181836, 'entropy = 0.0\\nsamples = 9\\nvalue = [0, 9]'),\n",
       " Text(31.0, 69.18545454545455, 'X[259347] <= 0.5\\nentropy = 0.792\\nsamples = 21\\nvalue = [5, 16]'),\n",
       " Text(30.225, 49.418181818181836, 'X[1991762] <= 0.5\\nentropy = 1.0\\nsamples = 10\\nvalue = [5, 5]'),\n",
       " Text(29.45, 29.650909090909096, 'X[1957157] <= 2.0\\nentropy = 0.863\\nsamples = 7\\nvalue = [5, 2]'),\n",
       " Text(28.675, 9.883636363636384, 'entropy = 0.0\\nsamples = 5\\nvalue = [5, 0]'),\n",
       " Text(30.225, 9.883636363636384, 'entropy = 0.0\\nsamples = 2\\nvalue = [0, 2]'),\n",
       " Text(31.0, 29.650909090909096, 'entropy = 0.0\\nsamples = 3\\nvalue = [0, 3]'),\n",
       " Text(31.775000000000002, 49.418181818181836, 'entropy = 0.0\\nsamples = 11\\nvalue = [0, 11]'),\n",
       " Text(42.237500000000004, 108.72, 'X[1194567] <= 2.5\\nentropy = 0.572\\nsamples = 1365\\nvalue = [185, 1180]'),\n",
       " Text(37.5875, 88.95272727272729, 'X[457270] <= 0.5\\nentropy = 0.478\\nsamples = 972\\nvalue = [100, 872]'),\n",
       " Text(36.8125, 69.18545454545455, 'X[612336] <= 0.5\\nentropy = 0.466\\nsamples = 968\\nvalue = [96, 872]'),\n",
       " Text(34.1, 49.418181818181836, 'X[168733] <= 0.5\\nentropy = 0.438\\nsamples = 941\\nvalue = [85, 856]'),\n",
       " Text(32.550000000000004, 29.650909090909096, 'X[424806] <= 0.5\\nentropy = 0.421\\nsamples = 935\\nvalue = [80, 855]'),\n",
       " Text(31.775000000000002, 9.883636363636384, 'entropy = 0.397\\nsamples = 918\\nvalue = [72, 846]'),\n",
       " Text(33.325, 9.883636363636384, 'entropy = 0.998\\nsamples = 17\\nvalue = [8, 9]'),\n",
       " Text(35.65, 29.650909090909096, 'X[1156299] <= 0.5\\nentropy = 0.65\\nsamples = 6\\nvalue = [5, 1]'),\n",
       " Text(34.875, 9.883636363636384, 'entropy = 0.0\\nsamples = 5\\nvalue = [5, 0]'),\n",
       " Text(36.425000000000004, 9.883636363636384, 'entropy = 0.0\\nsamples = 1\\nvalue = [0, 1]'),\n",
       " Text(39.525, 49.418181818181836, 'X[1510401] <= 0.5\\nentropy = 0.975\\nsamples = 27\\nvalue = [11, 16]'),\n",
       " Text(38.75, 29.650909090909096, 'X[1657254] <= 0.5\\nentropy = 0.887\\nsamples = 23\\nvalue = [7, 16]'),\n",
       " Text(37.975, 9.883636363636384, 'entropy = 0.722\\nsamples = 20\\nvalue = [4, 16]'),\n",
       " Text(39.525, 9.883636363636384, 'entropy = 0.0\\nsamples = 3\\nvalue = [3, 0]'),\n",
       " Text(40.300000000000004, 29.650909090909096, 'entropy = 0.0\\nsamples = 4\\nvalue = [4, 0]'),\n",
       " Text(38.362500000000004, 69.18545454545455, 'entropy = 0.0\\nsamples = 4\\nvalue = [4, 0]'),\n",
       " Text(46.8875, 88.95272727272729, 'X[1576580] <= 0.5\\nentropy = 0.753\\nsamples = 393\\nvalue = [85, 308]'),\n",
       " Text(46.112500000000004, 69.18545454545455, 'X[1460028] <= 0.5\\nentropy = 0.734\\nsamples = 388\\nvalue = [80, 308]'),\n",
       " Text(43.4, 49.418181818181836, 'X[1351457] <= 0.5\\nentropy = 0.69\\nsamples = 368\\nvalue = [68, 300]'),\n",
       " Text(41.85, 29.650909090909096, 'X[1372915] <= 1.5\\nentropy = 0.659\\nsamples = 358\\nvalue = [61, 297]'),\n",
       " Text(41.075, 9.883636363636384, 'entropy = 0.637\\nsamples = 354\\nvalue = [57, 297]'),\n",
       " Text(42.625, 9.883636363636384, 'entropy = 0.0\\nsamples = 4\\nvalue = [4, 0]'),\n",
       " Text(44.95, 29.650909090909096, 'X[942220] <= 0.5\\nentropy = 0.881\\nsamples = 10\\nvalue = [7, 3]'),\n",
       " Text(44.175000000000004, 9.883636363636384, 'entropy = 0.0\\nsamples = 7\\nvalue = [7, 0]'),\n",
       " Text(45.725, 9.883636363636384, 'entropy = 0.0\\nsamples = 3\\nvalue = [0, 3]'),\n",
       " Text(48.825, 49.418181818181836, 'X[1793616] <= 1.5\\nentropy = 0.971\\nsamples = 20\\nvalue = [12, 8]'),\n",
       " Text(48.050000000000004, 29.650909090909096, 'X[819134] <= 0.5\\nentropy = 0.811\\nsamples = 16\\nvalue = [12, 4]'),\n",
       " Text(47.275, 9.883636363636384, 'entropy = 0.391\\nsamples = 13\\nvalue = [12, 1]'),\n",
       " Text(48.825, 9.883636363636384, 'entropy = 0.0\\nsamples = 3\\nvalue = [0, 3]'),\n",
       " Text(49.6, 29.650909090909096, 'entropy = 0.0\\nsamples = 4\\nvalue = [0, 4]'),\n",
       " Text(47.6625, 69.18545454545455, 'entropy = 0.0\\nsamples = 5\\nvalue = [5, 0]'),\n",
       " Text(70.18593750000001, 128.48727272727274, 'X[751249] <= 2.5\\nentropy = 0.595\\nsamples = 645\\nvalue = [552, 93]'),\n",
       " Text(64.421875, 108.72, 'X[633528] <= 0.5\\nentropy = 0.537\\nsamples = 612\\nvalue = [537, 75]'),\n",
       " Text(59.09375, 88.95272727272729, 'X[462728] <= 0.5\\nentropy = 0.486\\nsamples = 588\\nvalue = [526, 62]'),\n",
       " Text(55.4125, 69.18545454545455, 'X[1281902] <= 0.5\\nentropy = 0.438\\nsamples = 563\\nvalue = [512, 51]'),\n",
       " Text(52.7, 49.418181818181836, 'X[920285] <= 0.5\\nentropy = 0.396\\nsamples = 549\\nvalue = [506, 43]'),\n",
       " Text(51.15, 29.650909090909096, 'X[434550] <= 0.5\\nentropy = 0.367\\nsamples = 541\\nvalue = [503, 38]'),\n",
       " Text(50.375, 9.883636363636384, 'entropy = 0.347\\nsamples = 538\\nvalue = [503, 35]'),\n",
       " Text(51.925000000000004, 9.883636363636384, 'entropy = 0.0\\nsamples = 3\\nvalue = [0, 3]'),\n",
       " Text(54.25, 29.650909090909096, 'X[1932687] <= 0.5\\nentropy = 0.954\\nsamples = 8\\nvalue = [3, 5]'),\n",
       " Text(53.475, 9.883636363636384, 'entropy = 0.811\\nsamples = 4\\nvalue = [3, 1]'),\n",
       " Text(55.025, 9.883636363636384, 'entropy = 0.0\\nsamples = 4\\nvalue = [0, 4]'),\n",
       " Text(58.125, 49.418181818181836, 'X[1027761] <= 0.5\\nentropy = 0.985\\nsamples = 14\\nvalue = [6, 8]'),\n",
       " Text(57.35, 29.650909090909096, 'X[947336] <= 0.5\\nentropy = 0.503\\nsamples = 9\\nvalue = [1, 8]'),\n",
       " Text(56.575, 9.883636363636384, 'entropy = 0.0\\nsamples = 8\\nvalue = [0, 8]'),\n",
       " Text(58.125, 9.883636363636384, 'entropy = 0.0\\nsamples = 1\\nvalue = [1, 0]'),\n",
       " Text(58.9, 29.650909090909096, 'entropy = 0.0\\nsamples = 5\\nvalue = [5, 0]'),\n",
       " Text(62.775, 69.18545454545455, 'X[955024] <= 0.5\\nentropy = 0.99\\nsamples = 25\\nvalue = [14, 11]'),\n",
       " Text(61.225, 49.418181818181836, 'X[866594] <= 0.5\\nentropy = 0.779\\nsamples = 13\\nvalue = [3, 10]'),\n",
       " Text(60.45, 29.650909090909096, 'X[1803409] <= 0.5\\nentropy = 0.439\\nsamples = 11\\nvalue = [1, 10]'),\n",
       " Text(59.675000000000004, 9.883636363636384, 'entropy = 0.0\\nsamples = 10\\nvalue = [0, 10]'),\n",
       " Text(61.225, 9.883636363636384, 'entropy = 0.0\\nsamples = 1\\nvalue = [1, 0]'),\n",
       " Text(62.0, 29.650909090909096, 'entropy = 0.0\\nsamples = 2\\nvalue = [2, 0]'),\n",
       " Text(64.325, 49.418181818181836, 'X[1869880] <= 0.5\\nentropy = 0.414\\nsamples = 12\\nvalue = [11, 1]'),\n",
       " Text(63.550000000000004, 29.650909090909096, 'entropy = 0.0\\nsamples = 11\\nvalue = [11, 0]'),\n",
       " Text(65.10000000000001, 29.650909090909096, 'entropy = 0.0\\nsamples = 1\\nvalue = [0, 1]'),\n",
       " Text(69.75, 88.95272727272729, 'X[651163] <= 0.5\\nentropy = 0.995\\nsamples = 24\\nvalue = [11, 13]'),\n",
       " Text(68.2, 69.18545454545455, 'X[618868] <= 0.5\\nentropy = 0.863\\nsamples = 14\\nvalue = [10, 4]'),\n",
       " Text(67.425, 49.418181818181836, 'X[633640] <= 0.5\\nentropy = 0.439\\nsamples = 11\\nvalue = [10, 1]'),\n",
       " Text(66.65, 29.650909090909096, 'entropy = 0.0\\nsamples = 10\\nvalue = [10, 0]'),\n",
       " Text(68.2, 29.650909090909096, 'entropy = 0.0\\nsamples = 1\\nvalue = [0, 1]'),\n",
       " Text(68.97500000000001, 49.418181818181836, 'entropy = 0.0\\nsamples = 3\\nvalue = [0, 3]'),\n",
       " Text(71.3, 69.18545454545455, 'X[1565454] <= 0.5\\nentropy = 0.469\\nsamples = 10\\nvalue = [1, 9]'),\n",
       " Text(70.525, 49.418181818181836, 'entropy = 0.0\\nsamples = 9\\nvalue = [0, 9]'),\n",
       " Text(72.075, 49.418181818181836, 'entropy = 0.0\\nsamples = 1\\nvalue = [1, 0]'),\n",
       " Text(75.95, 108.72, 'X[96838] <= 0.5\\nentropy = 0.994\\nsamples = 33\\nvalue = [15, 18]'),\n",
       " Text(75.175, 88.95272727272729, 'X[1941095] <= 1.5\\nentropy = 0.983\\nsamples = 26\\nvalue = [15, 11]'),\n",
       " Text(74.4, 69.18545454545455, 'X[994391] <= 0.5\\nentropy = 0.998\\nsamples = 21\\nvalue = [10, 11]'),\n",
       " Text(73.625, 49.418181818181836, 'X[1906637] <= 1.5\\nentropy = 0.954\\nsamples = 16\\nvalue = [10, 6]'),\n",
       " Text(72.85000000000001, 29.650909090909096, 'X[1194567] <= 3.5\\nentropy = 0.971\\nsamples = 10\\nvalue = [4, 6]'),\n",
       " Text(72.075, 9.883636363636384, 'entropy = 0.0\\nsamples = 5\\nvalue = [0, 5]'),\n",
       " Text(73.625, 9.883636363636384, 'entropy = 0.722\\nsamples = 5\\nvalue = [4, 1]'),\n",
       " Text(74.4, 29.650909090909096, 'entropy = 0.0\\nsamples = 6\\nvalue = [6, 0]'),\n",
       " Text(75.175, 49.418181818181836, 'entropy = 0.0\\nsamples = 5\\nvalue = [0, 5]'),\n",
       " Text(75.95, 69.18545454545455, 'entropy = 0.0\\nsamples = 5\\nvalue = [5, 0]'),\n",
       " Text(76.72500000000001, 88.95272727272729, 'entropy = 0.0\\nsamples = 7\\nvalue = [0, 7]'),\n",
       " Text(121.9171875, 148.25454545454545, 'X[114582] <= 0.5\\nentropy = 0.741\\nsamples = 7654\\nvalue = [1605, 6049]'),\n",
       " Text(106.659375, 128.48727272727274, 'X[763805] <= 1.5\\nentropy = 0.721\\nsamples = 7487\\nvalue = [1494, 5993]'),\n",
       " Text(93.0, 108.72, 'X[1203679] <= 0.5\\nentropy = 0.783\\nsamples = 5125\\nvalue = [1193, 3932]'),\n",
       " Text(85.25, 88.95272727272729, 'X[1334186] <= 0.5\\nentropy = 0.744\\nsamples = 4590\\nvalue = [971, 3619]'),\n",
       " Text(80.60000000000001, 69.18545454545455, 'X[66397] <= 0.5\\nentropy = 0.73\\nsamples = 4527\\nvalue = [923, 3604]'),\n",
       " Text(77.5, 49.418181818181836, 'X[186159] <= 0.5\\nentropy = 0.713\\nsamples = 4442\\nvalue = [869, 3573]'),\n",
       " Text(75.95, 29.650909090909096, 'X[475642] <= 0.5\\nentropy = 0.694\\nsamples = 4311\\nvalue = [804, 3507]'),\n",
       " Text(75.175, 9.883636363636384, 'entropy = 0.683\\nsamples = 4267\\nvalue = [773, 3494]'),\n",
       " Text(76.72500000000001, 9.883636363636384, 'entropy = 0.876\\nsamples = 44\\nvalue = [31, 13]'),\n",
       " Text(79.05, 29.650909090909096, 'X[55788] <= 0.5\\nentropy = 1.0\\nsamples = 131\\nvalue = [65, 66]'),\n",
       " Text(78.275, 9.883636363636384, 'entropy = 0.996\\nsamples = 121\\nvalue = [65, 56]'),\n",
       " Text(79.825, 9.883636363636384, 'entropy = 0.0\\nsamples = 10\\nvalue = [0, 10]'),\n",
       " Text(83.7, 49.418181818181836, 'X[289634] <= 0.5\\nentropy = 0.947\\nsamples = 85\\nvalue = [54, 31]'),\n",
       " Text(82.15, 29.650909090909096, 'X[1281902] <= 0.5\\nentropy = 0.852\\nsamples = 72\\nvalue = [52, 20]'),\n",
       " Text(81.375, 9.883636363636384, 'entropy = 0.752\\nsamples = 65\\nvalue = [51, 14]'),\n",
       " Text(82.925, 9.883636363636384, 'entropy = 0.592\\nsamples = 7\\nvalue = [1, 6]'),\n",
       " Text(85.25, 29.650909090909096, 'X[2006299] <= 0.5\\nentropy = 0.619\\nsamples = 13\\nvalue = [2, 11]'),\n",
       " Text(84.47500000000001, 9.883636363636384, 'entropy = 0.0\\nsamples = 11\\nvalue = [0, 11]'),\n",
       " Text(86.025, 9.883636363636384, 'entropy = 0.0\\nsamples = 2\\nvalue = [2, 0]'),\n",
       " Text(89.9, 69.18545454545455, 'X[1138079] <= 0.5\\nentropy = 0.792\\nsamples = 63\\nvalue = [48, 15]'),\n",
       " Text(89.125, 49.418181818181836, 'X[473989] <= 0.5\\nentropy = 0.694\\nsamples = 59\\nvalue = [48, 11]'),\n",
       " Text(88.35000000000001, 29.650909090909096, 'X[1895660] <= 0.5\\nentropy = 0.629\\nsamples = 57\\nvalue = [48, 9]'),\n",
       " Text(87.575, 9.883636363636384, 'entropy = 0.55\\nsamples = 55\\nvalue = [48, 7]'),\n",
       " Text(89.125, 9.883636363636384, 'entropy = 0.0\\nsamples = 2\\nvalue = [0, 2]'),\n",
       " Text(89.9, 29.650909090909096, 'entropy = 0.0\\nsamples = 2\\nvalue = [0, 2]'),\n",
       " Text(90.675, 49.418181818181836, 'entropy = 0.0\\nsamples = 4\\nvalue = [0, 4]'),\n",
       " Text(100.75, 88.95272727272729, 'X[1281902] <= 0.5\\nentropy = 0.979\\nsamples = 535\\nvalue = [222, 313]'),\n",
       " Text(96.10000000000001, 69.18545454545455, 'X[1194567] <= 1.5\\nentropy = 0.993\\nsamples = 477\\nvalue = [215, 262]'),\n",
       " Text(93.0, 49.418181818181836, 'X[2010203] <= 0.5\\nentropy = 0.869\\nsamples = 155\\nvalue = [45, 110]'),\n",
       " Text(91.45, 29.650909090909096, 'X[149468] <= 0.5\\nentropy = 0.934\\nsamples = 123\\nvalue = [43, 80]'),\n",
       " Text(90.675, 9.883636363636384, 'entropy = 0.963\\nsamples = 111\\nvalue = [43, 68]'),\n",
       " Text(92.22500000000001, 9.883636363636384, 'entropy = 0.0\\nsamples = 12\\nvalue = [0, 12]'),\n",
       " Text(94.55, 29.650909090909096, 'X[1632090] <= 0.5\\nentropy = 0.337\\nsamples = 32\\nvalue = [2, 30]'),\n",
       " Text(93.775, 9.883636363636384, 'entropy = 0.0\\nsamples = 30\\nvalue = [0, 30]'),\n",
       " Text(95.325, 9.883636363636384, 'entropy = 0.0\\nsamples = 2\\nvalue = [2, 0]'),\n",
       " Text(99.2, 49.418181818181836, 'X[994391] <= 0.5\\nentropy = 0.998\\nsamples = 322\\nvalue = [170, 152]'),\n",
       " Text(97.65, 29.650909090909096, 'X[1038302] <= 1.5\\nentropy = 0.972\\nsamples = 226\\nvalue = [135, 91]'),\n",
       " Text(96.875, 9.883636363636384, 'entropy = 0.947\\nsamples = 205\\nvalue = [130, 75]'),\n",
       " Text(98.425, 9.883636363636384, 'entropy = 0.792\\nsamples = 21\\nvalue = [5, 16]'),\n",
       " Text(100.75, 29.650909090909096, 'X[1130600] <= 1.5\\nentropy = 0.946\\nsamples = 96\\nvalue = [35, 61]'),\n",
       " Text(99.97500000000001, 9.883636363636384, 'entropy = 0.986\\nsamples = 79\\nvalue = [34, 45]'),\n",
       " Text(101.525, 9.883636363636384, 'entropy = 0.323\\nsamples = 17\\nvalue = [1, 16]'),\n",
       " Text(105.4, 69.18545454545455, 'X[558677] <= 0.5\\nentropy = 0.531\\nsamples = 58\\nvalue = [7, 51]'),\n",
       " Text(104.625, 49.418181818181836, 'X[514013] <= 0.5\\nentropy = 0.434\\nsamples = 56\\nvalue = [5, 51]'),\n",
       " Text(103.85000000000001, 29.650909090909096, 'X[1781100] <= 0.5\\nentropy = 0.31\\nsamples = 54\\nvalue = [3, 51]'),\n",
       " Text(103.075, 9.883636363636384, 'entropy = 0.139\\nsamples = 51\\nvalue = [1, 50]'),\n",
       " Text(104.625, 9.883636363636384, 'entropy = 0.918\\nsamples = 3\\nvalue = [2, 1]'),\n",
       " Text(105.4, 29.650909090909096, 'entropy = 0.0\\nsamples = 2\\nvalue = [2, 0]'),\n",
       " Text(106.175, 49.418181818181836, 'entropy = 0.0\\nsamples = 2\\nvalue = [2, 0]'),\n",
       " Text(120.31875000000001, 108.72, 'X[1194567] <= 2.5\\nentropy = 0.55\\nsamples = 2362\\nvalue = [301, 2061]'),\n",
       " Text(114.50625000000001, 88.95272727272729, 'X[514013] <= 0.5\\nentropy = 0.412\\nsamples = 1377\\nvalue = [114, 1263]'),\n",
       " Text(111.2125, 69.18545454545455, 'X[960761] <= 0.5\\nentropy = 0.388\\nsamples = 1357\\nvalue = [103, 1254]'),\n",
       " Text(108.5, 49.418181818181836, 'X[475642] <= 0.5\\nentropy = 0.355\\nsamples = 1312\\nvalue = [88, 1224]'),\n",
       " Text(106.95, 29.650909090909096, 'X[97883] <= 0.5\\nentropy = 0.334\\nsamples = 1296\\nvalue = [80, 1216]'),\n",
       " Text(106.175, 9.883636363636384, 'entropy = 0.323\\nsamples = 1291\\nvalue = [76, 1215]'),\n",
       " Text(107.72500000000001, 9.883636363636384, 'entropy = 0.722\\nsamples = 5\\nvalue = [4, 1]'),\n",
       " Text(110.05, 29.650909090909096, 'X[1947120] <= 0.5\\nentropy = 1.0\\nsamples = 16\\nvalue = [8, 8]'),\n",
       " Text(109.275, 9.883636363636384, 'entropy = 0.845\\nsamples = 11\\nvalue = [8, 3]'),\n",
       " Text(110.825, 9.883636363636384, 'entropy = 0.0\\nsamples = 5\\nvalue = [0, 5]'),\n",
       " Text(113.925, 49.418181818181836, 'X[1822793] <= 0.5\\nentropy = 0.918\\nsamples = 45\\nvalue = [15, 30]'),\n",
       " Text(113.15, 29.650909090909096, 'X[1876029] <= 0.5\\nentropy = 0.839\\nsamples = 41\\nvalue = [11, 30]'),\n",
       " Text(112.375, 9.883636363636384, 'entropy = 0.742\\nsamples = 38\\nvalue = [8, 30]'),\n",
       " Text(113.925, 9.883636363636384, 'entropy = 0.0\\nsamples = 3\\nvalue = [3, 0]'),\n",
       " Text(114.7, 29.650909090909096, 'entropy = 0.0\\nsamples = 4\\nvalue = [4, 0]'),\n",
       " Text(117.8, 69.18545454545455, 'X[542583] <= 0.5\\nentropy = 0.993\\nsamples = 20\\nvalue = [11, 9]'),\n",
       " Text(117.025, 49.418181818181836, 'X[1979338] <= 0.5\\nentropy = 0.94\\nsamples = 14\\nvalue = [5, 9]'),\n",
       " Text(116.25, 29.650909090909096, 'X[1790636] <= 0.5\\nentropy = 0.684\\nsamples = 11\\nvalue = [2, 9]'),\n",
       " Text(115.47500000000001, 9.883636363636384, 'entropy = 0.0\\nsamples = 8\\nvalue = [0, 8]'),\n",
       " Text(117.025, 9.883636363636384, 'entropy = 0.918\\nsamples = 3\\nvalue = [2, 1]'),\n",
       " Text(117.8, 29.650909090909096, 'entropy = 0.0\\nsamples = 3\\nvalue = [3, 0]'),\n",
       " Text(118.575, 49.418181818181836, 'entropy = 0.0\\nsamples = 6\\nvalue = [6, 0]'),\n",
       " Text(126.13125000000001, 88.95272727272729, 'X[581678] <= 0.5\\nentropy = 0.701\\nsamples = 985\\nvalue = [187, 798]'),\n",
       " Text(122.0625, 69.18545454545455, 'X[1552725] <= 0.5\\nentropy = 0.748\\nsamples = 849\\nvalue = [181, 668]'),\n",
       " Text(120.125, 49.418181818181836, 'X[1045180] <= 0.5\\nentropy = 0.837\\nsamples = 480\\nvalue = [128, 352]'),\n",
       " Text(119.35000000000001, 29.650909090909096, 'X[1029463] <= 0.5\\nentropy = 0.823\\nsamples = 474\\nvalue = [122, 352]'),\n",
       " Text(118.575, 9.883636363636384, 'entropy = 0.782\\nsamples = 439\\nvalue = [102, 337]'),\n",
       " Text(120.125, 9.883636363636384, 'entropy = 0.985\\nsamples = 35\\nvalue = [20, 15]'),\n",
       " Text(120.9, 29.650909090909096, 'entropy = 0.0\\nsamples = 6\\nvalue = [6, 0]'),\n",
       " Text(124.0, 49.418181818181836, 'X[168237] <= 0.5\\nentropy = 0.594\\nsamples = 369\\nvalue = [53, 316]'),\n",
       " Text(122.45, 29.650909090909096, 'X[188272] <= 0.5\\nentropy = 0.551\\nsamples = 360\\nvalue = [46, 314]'),\n",
       " Text(121.675, 9.883636363636384, 'entropy = 0.506\\nsamples = 348\\nvalue = [39, 309]'),\n",
       " Text(123.22500000000001, 9.883636363636384, 'entropy = 0.98\\nsamples = 12\\nvalue = [7, 5]'),\n",
       " Text(125.55, 29.650909090909096, 'X[1038302] <= 0.5\\nentropy = 0.764\\nsamples = 9\\nvalue = [7, 2]'),\n",
       " Text(124.775, 9.883636363636384, 'entropy = 0.0\\nsamples = 7\\nvalue = [7, 0]'),\n",
       " Text(126.325, 9.883636363636384, 'entropy = 0.0\\nsamples = 2\\nvalue = [0, 2]'),\n",
       " Text(130.20000000000002, 69.18545454545455, 'X[1505882] <= 0.5\\nentropy = 0.261\\nsamples = 136\\nvalue = [6, 130]'),\n",
       " Text(129.425, 49.418181818181836, 'X[761183] <= 0.5\\nentropy = 0.194\\nsamples = 134\\nvalue = [4, 130]'),\n",
       " Text(128.65, 29.650909090909096, 'X[611407] <= 0.5\\nentropy = 0.113\\nsamples = 132\\nvalue = [2, 130]'),\n",
       " Text(127.875, 9.883636363636384, 'entropy = 0.0\\nsamples = 128\\nvalue = [0, 128]'),\n",
       " Text(129.425, 9.883636363636384, 'entropy = 1.0\\nsamples = 4\\nvalue = [2, 2]'),\n",
       " Text(130.20000000000002, 29.650909090909096, 'entropy = 0.0\\nsamples = 2\\nvalue = [2, 0]'),\n",
       " Text(130.975, 49.418181818181836, 'entropy = 0.0\\nsamples = 2\\nvalue = [2, 0]'),\n",
       " Text(137.175, 128.48727272727274, 'X[1185551] <= 1.5\\nentropy = 0.92\\nsamples = 167\\nvalue = [111, 56]'),\n",
       " Text(135.625, 108.72, 'X[349492] <= 0.5\\nentropy = 0.965\\nsamples = 141\\nvalue = [86, 55]'),\n",
       " Text(134.85, 88.95272727272729, 'X[1607771] <= 0.5\\nentropy = 0.941\\nsamples = 134\\nvalue = [86, 48]'),\n",
       " Text(134.07500000000002, 69.18545454545455, 'X[2010203] <= 1.5\\nentropy = 0.918\\nsamples = 129\\nvalue = [86, 43]'),\n",
       " Text(133.3, 49.418181818181836, 'X[820630] <= 0.5\\nentropy = 0.889\\nsamples = 124\\nvalue = [86, 38]'),\n",
       " Text(131.75, 29.650909090909096, 'X[1138079] <= 0.5\\nentropy = 0.846\\nsamples = 117\\nvalue = [85, 32]'),\n",
       " Text(130.975, 9.883636363636384, 'entropy = 0.789\\nsamples = 110\\nvalue = [84, 26]'),\n",
       " Text(132.525, 9.883636363636384, 'entropy = 0.592\\nsamples = 7\\nvalue = [1, 6]'),\n",
       " Text(134.85, 29.650909090909096, 'X[1907803] <= 0.5\\nentropy = 0.592\\nsamples = 7\\nvalue = [1, 6]'),\n",
       " Text(134.07500000000002, 9.883636363636384, 'entropy = 0.0\\nsamples = 6\\nvalue = [0, 6]'),\n",
       " Text(135.625, 9.883636363636384, 'entropy = 0.0\\nsamples = 1\\nvalue = [1, 0]'),\n",
       " Text(134.85, 49.418181818181836, 'entropy = 0.0\\nsamples = 5\\nvalue = [0, 5]'),\n",
       " Text(135.625, 69.18545454545455, 'entropy = 0.0\\nsamples = 5\\nvalue = [0, 5]'),\n",
       " Text(136.4, 88.95272727272729, 'entropy = 0.0\\nsamples = 7\\nvalue = [0, 7]'),\n",
       " Text(138.725, 108.72, 'X[408152] <= 0.5\\nentropy = 0.235\\nsamples = 26\\nvalue = [25, 1]'),\n",
       " Text(137.95000000000002, 88.95272727272729, 'entropy = 0.0\\nsamples = 25\\nvalue = [25, 0]'),\n",
       " Text(139.5, 88.95272727272729, 'entropy = 0.0\\nsamples = 1\\nvalue = [0, 1]'),\n",
       " Text(158.875, 168.0218181818182, 'X[763805] <= 0.5\\nentropy = 0.587\\nsamples = 1503\\nvalue = [1291, 212]'),\n",
       " Text(151.803125, 148.25454545454545, 'X[1940890] <= 0.5\\nentropy = 0.489\\nsamples = 1212\\nvalue = [1083, 129]'),\n",
       " Text(147.83125, 128.48727272727274, 'X[1097987] <= 0.5\\nentropy = 0.597\\nsamples = 683\\nvalue = [584, 99]'),\n",
       " Text(144.5375, 108.72, 'X[199646] <= 0.5\\nentropy = 0.558\\nsamples = 661\\nvalue = [575, 86]'),\n",
       " Text(141.82500000000002, 88.95272727272729, 'X[1714692] <= 0.5\\nentropy = 0.527\\nsamples = 647\\nvalue = [570, 77]'),\n",
       " Text(140.275, 69.18545454545455, 'X[555086] <= 0.5\\nentropy = 0.503\\nsamples = 639\\nvalue = [568, 71]'),\n",
       " Text(139.5, 49.418181818181836, 'X[581678] <= 0.5\\nentropy = 0.491\\nsamples = 636\\nvalue = [568, 68]'),\n",
       " Text(137.95000000000002, 29.650909090909096, 'X[482821] <= 0.5\\nentropy = 0.451\\nsamples = 604\\nvalue = [547, 57]'),\n",
       " Text(137.175, 9.883636363636384, 'entropy = 0.436\\nsamples = 601\\nvalue = [547, 54]'),\n",
       " Text(138.725, 9.883636363636384, 'entropy = 0.0\\nsamples = 3\\nvalue = [0, 3]'),\n",
       " Text(141.05, 29.650909090909096, 'X[162656] <= 0.5\\nentropy = 0.928\\nsamples = 32\\nvalue = [21, 11]'),\n",
       " Text(140.275, 9.883636363636384, 'entropy = 0.706\\nsamples = 26\\nvalue = [21, 5]'),\n",
       " Text(141.82500000000002, 9.883636363636384, 'entropy = 0.0\\nsamples = 6\\nvalue = [0, 6]'),\n",
       " Text(141.05, 49.418181818181836, 'entropy = 0.0\\nsamples = 3\\nvalue = [0, 3]'),\n",
       " Text(143.375, 69.18545454545455, 'X[637807] <= 0.5\\nentropy = 0.811\\nsamples = 8\\nvalue = [2, 6]'),\n",
       " Text(142.6, 49.418181818181836, 'entropy = 0.0\\nsamples = 6\\nvalue = [0, 6]'),\n",
       " Text(144.15, 49.418181818181836, 'entropy = 0.0\\nsamples = 2\\nvalue = [2, 0]'),\n",
       " Text(147.25, 88.95272727272729, 'X[1609067] <= 0.5\\nentropy = 0.94\\nsamples = 14\\nvalue = [5, 9]'),\n",
       " Text(146.475, 69.18545454545455, 'X[1940342] <= 0.5\\nentropy = 0.684\\nsamples = 11\\nvalue = [2, 9]'),\n",
       " Text(145.70000000000002, 49.418181818181836, 'entropy = 0.0\\nsamples = 8\\nvalue = [0, 8]'),\n",
       " Text(147.25, 49.418181818181836, 'X[1074635] <= 0.5\\nentropy = 0.918\\nsamples = 3\\nvalue = [2, 1]'),\n",
       " Text(146.475, 29.650909090909096, 'entropy = 0.0\\nsamples = 2\\nvalue = [2, 0]'),\n",
       " Text(148.025, 29.650909090909096, 'entropy = 0.0\\nsamples = 1\\nvalue = [0, 1]'),\n",
       " Text(148.025, 69.18545454545455, 'entropy = 0.0\\nsamples = 3\\nvalue = [3, 0]'),\n",
       " Text(151.125, 108.72, 'X[1080543] <= 0.5\\nentropy = 0.976\\nsamples = 22\\nvalue = [9, 13]'),\n",
       " Text(150.35, 88.95272727272729, 'X[1510401] <= 0.5\\nentropy = 0.696\\nsamples = 16\\nvalue = [3, 13]'),\n",
       " Text(149.57500000000002, 69.18545454545455, 'X[1279942] <= 0.5\\nentropy = 0.371\\nsamples = 14\\nvalue = [1, 13]'),\n",
       " Text(148.8, 49.418181818181836, 'entropy = 0.0\\nsamples = 13\\nvalue = [0, 13]'),\n",
       " Text(150.35, 49.418181818181836, 'entropy = 0.0\\nsamples = 1\\nvalue = [1, 0]'),\n",
       " Text(151.125, 69.18545454545455, 'entropy = 0.0\\nsamples = 2\\nvalue = [2, 0]'),\n",
       " Text(151.9, 88.95272727272729, 'entropy = 0.0\\nsamples = 6\\nvalue = [6, 0]'),\n",
       " Text(155.775, 128.48727272727274, 'X[1522932] <= 0.5\\nentropy = 0.314\\nsamples = 529\\nvalue = [499, 30]'),\n",
       " Text(154.225, 108.72, 'X[224521] <= 2.5\\nentropy = 0.285\\nsamples = 524\\nvalue = [498, 26]'),\n",
       " Text(153.45000000000002, 88.95272727272729, 'X[1621708] <= 0.5\\nentropy = 0.269\\nsamples = 522\\nvalue = [498, 24]'),\n",
       " Text(152.675, 69.18545454545455, 'X[1323467] <= 0.5\\nentropy = 0.253\\nsamples = 520\\nvalue = [498, 22]'),\n",
       " Text(151.9, 49.418181818181836, 'X[1950714] <= 0.5\\nentropy = 0.236\\nsamples = 518\\nvalue = [498, 20]'),\n",
       " Text(151.125, 29.650909090909096, 'X[1810216] <= 0.5\\nentropy = 0.218\\nsamples = 516\\nvalue = [498, 18]'),\n",
       " Text(150.35, 9.883636363636384, 'entropy = 0.2\\nsamples = 514\\nvalue = [498, 16]'),\n",
       " Text(151.9, 9.883636363636384, 'entropy = 0.0\\nsamples = 2\\nvalue = [0, 2]'),\n",
       " Text(152.675, 29.650909090909096, 'entropy = 0.0\\nsamples = 2\\nvalue = [0, 2]'),\n",
       " Text(153.45000000000002, 49.418181818181836, 'entropy = 0.0\\nsamples = 2\\nvalue = [0, 2]'),\n",
       " Text(154.225, 69.18545454545455, 'entropy = 0.0\\nsamples = 2\\nvalue = [0, 2]'),\n",
       " Text(155.0, 88.95272727272729, 'entropy = 0.0\\nsamples = 2\\nvalue = [0, 2]'),\n",
       " Text(157.32500000000002, 108.72, 'X[1321014] <= 1.5\\nentropy = 0.722\\nsamples = 5\\nvalue = [1, 4]'),\n",
       " Text(156.55, 88.95272727272729, 'entropy = 0.0\\nsamples = 4\\nvalue = [0, 4]'),\n",
       " Text(158.1, 88.95272727272729, 'entropy = 0.0\\nsamples = 1\\nvalue = [1, 0]'),\n",
       " Text(165.946875, 148.25454545454545, 'X[199646] <= 0.5\\nentropy = 0.862\\nsamples = 291\\nvalue = [208, 83]'),\n",
       " Text(163.33125, 128.48727272727274, 'X[1733970] <= 0.5\\nentropy = 0.81\\nsamples = 273\\nvalue = [205, 68]'),\n",
       " Text(162.55625, 108.72, 'X[550752] <= 0.5\\nentropy = 0.777\\nsamples = 266\\nvalue = [205, 61]'),\n",
       " Text(159.65, 88.95272727272729, 'X[1880840] <= 0.5\\nentropy = 0.708\\nsamples = 233\\nvalue = [188, 45]'),\n",
       " Text(158.875, 69.18545454545455, 'X[114074] <= 0.5\\nentropy = 0.678\\nsamples = 229\\nvalue = [188, 41]'),\n",
       " Text(157.32500000000002, 49.418181818181836, 'X[141609] <= 1.5\\nentropy = 0.638\\nsamples = 223\\nvalue = [187, 36]'),\n",
       " Text(156.55, 29.650909090909096, 'X[751249] <= 4.5\\nentropy = 0.61\\nsamples = 220\\nvalue = [187, 33]'),\n",
       " Text(155.775, 9.883636363636384, 'entropy = 0.58\\nsamples = 217\\nvalue = [187, 30]'),\n",
       " Text(157.32500000000002, 9.883636363636384, 'entropy = 0.0\\nsamples = 3\\nvalue = [0, 3]'),\n",
       " Text(158.1, 29.650909090909096, 'entropy = 0.0\\nsamples = 3\\nvalue = [0, 3]'),\n",
       " Text(160.425, 49.418181818181836, 'X[712296] <= 0.5\\nentropy = 0.65\\nsamples = 6\\nvalue = [1, 5]'),\n",
       " Text(159.65, 29.650909090909096, 'entropy = 0.0\\nsamples = 5\\nvalue = [0, 5]'),\n",
       " Text(161.20000000000002, 29.650909090909096, 'entropy = 0.0\\nsamples = 1\\nvalue = [1, 0]'),\n",
       " Text(160.425, 69.18545454545455, 'entropy = 0.0\\nsamples = 4\\nvalue = [0, 4]'),\n",
       " Text(165.4625, 88.95272727272729, 'X[1941095] <= 0.5\\nentropy = 0.999\\nsamples = 33\\nvalue = [17, 16]'),\n",
       " Text(162.75, 69.18545454545455, 'X[1178343] <= 0.5\\nentropy = 0.75\\nsamples = 14\\nvalue = [3, 11]'),\n",
       " Text(161.975, 49.418181818181836, 'entropy = 0.0\\nsamples = 9\\nvalue = [0, 9]'),\n",
       " Text(163.525, 49.418181818181836, 'X[1589985] <= 0.5\\nentropy = 0.971\\nsamples = 5\\nvalue = [3, 2]'),\n",
       " Text(162.75, 29.650909090909096, 'entropy = 0.0\\nsamples = 3\\nvalue = [3, 0]'),\n",
       " Text(164.3, 29.650909090909096, 'entropy = 0.0\\nsamples = 2\\nvalue = [0, 2]'),\n",
       " Text(168.175, 69.18545454545455, 'X[1806352] <= 1.5\\nentropy = 0.831\\nsamples = 19\\nvalue = [14, 5]'),\n",
       " Text(166.625, 49.418181818181836, 'X[133220] <= 0.5\\nentropy = 0.391\\nsamples = 13\\nvalue = [12, 1]'),\n",
       " Text(165.85, 29.650909090909096, 'entropy = 0.0\\nsamples = 12\\nvalue = [12, 0]'),\n",
       " Text(167.4, 29.650909090909096, 'entropy = 0.0\\nsamples = 1\\nvalue = [0, 1]'),\n",
       " Text(169.725, 49.418181818181836, 'X[1322505] <= 0.5\\nentropy = 0.918\\nsamples = 6\\nvalue = [2, 4]'),\n",
       " Text(168.95000000000002, 29.650909090909096, 'entropy = 0.0\\nsamples = 4\\nvalue = [0, 4]'),\n",
       " Text(170.5, 29.650909090909096, 'entropy = 0.0\\nsamples = 2\\nvalue = [2, 0]'),\n",
       " Text(164.10625000000002, 108.72, 'entropy = 0.0\\nsamples = 7\\nvalue = [0, 7]'),\n",
       " Text(168.5625, 128.48727272727274, 'X[1975735] <= 0.5\\nentropy = 0.65\\nsamples = 18\\nvalue = [3, 15]'),\n",
       " Text(167.7875, 108.72, 'X[945303] <= 0.5\\nentropy = 0.337\\nsamples = 16\\nvalue = [1, 15]'),\n",
       " Text(167.01250000000002, 88.95272727272729, 'entropy = 0.0\\nsamples = 15\\nvalue = [0, 15]'),\n",
       " Text(168.5625, 88.95272727272729, 'entropy = 0.0\\nsamples = 1\\nvalue = [1, 0]'),\n",
       " Text(169.3375, 108.72, 'entropy = 0.0\\nsamples = 2\\nvalue = [2, 0]'),\n",
       " Text(273.7142578125, 187.7890909090909, 'X[119891] <= 1.5\\nentropy = 0.778\\nsamples = 12163\\nvalue = [9368, 2795]'),\n",
       " Text(234.619140625, 168.0218181818182, 'X[763805] <= 0.5\\nentropy = 0.885\\nsamples = 7333\\nvalue = [5113, 2220]'),\n",
       " Text(211.9625, 148.25454545454545, 'X[1940279] <= 0.5\\nentropy = 0.792\\nsamples = 5524\\nvalue = [4208, 1316]'),\n",
       " Text(199.36875, 128.48727272727274, 'X[751249] <= 0.5\\nentropy = 0.833\\nsamples = 4868\\nvalue = [3582, 1286]'),\n",
       " Text(188.80937500000002, 108.72, 'X[581678] <= 0.5\\nentropy = 0.693\\nsamples = 2492\\nvalue = [2028, 464]'),\n",
       " Text(182.31875, 88.95272727272729, 'X[114582] <= 0.5\\nentropy = 0.665\\nsamples = 2416\\nvalue = [1997, 419]'),\n",
       " Text(176.70000000000002, 69.18545454545455, 'X[849938] <= 0.5\\nentropy = 0.702\\nsamples = 2165\\nvalue = [1753, 412]'),\n",
       " Text(173.6, 49.418181818181836, 'X[186159] <= 0.5\\nentropy = 0.674\\nsamples = 2054\\nvalue = [1690, 364]'),\n",
       " Text(172.05, 29.650909090909096, 'X[1640649] <= 0.5\\nentropy = 0.697\\nsamples = 1913\\nvalue = [1554, 359]'),\n",
       " Text(171.275, 9.883636363636384, 'entropy = 0.685\\nsamples = 1893\\nvalue = [1548, 345]'),\n",
       " Text(172.82500000000002, 9.883636363636384, 'entropy = 0.881\\nsamples = 20\\nvalue = [6, 14]'),\n",
       " Text(175.15, 29.650909090909096, 'X[1644824] <= 0.5\\nentropy = 0.221\\nsamples = 141\\nvalue = [136, 5]'),\n",
       " Text(174.375, 9.883636363636384, 'entropy = 0.15\\nsamples = 139\\nvalue = [136, 3]'),\n",
       " Text(175.925, 9.883636363636384, 'entropy = 0.0\\nsamples = 2\\nvalue = [0, 2]'),\n",
       " Text(179.8, 49.418181818181836, 'X[1307580] <= 0.5\\nentropy = 0.987\\nsamples = 111\\nvalue = [63, 48]'),\n",
       " Text(178.25, 29.650909090909096, 'X[252349] <= 0.5\\nentropy = 0.953\\nsamples = 99\\nvalue = [62, 37]'),\n",
       " Text(177.475, 9.883636363636384, 'entropy = 0.925\\nsamples = 94\\nvalue = [62, 32]'),\n",
       " Text(179.025, 9.883636363636384, 'entropy = 0.0\\nsamples = 5\\nvalue = [0, 5]'),\n",
       " Text(181.35, 29.650909090909096, 'X[1595746] <= 0.5\\nentropy = 0.414\\nsamples = 12\\nvalue = [1, 11]'),\n",
       " Text(180.57500000000002, 9.883636363636384, 'entropy = 0.0\\nsamples = 11\\nvalue = [0, 11]'),\n",
       " Text(182.125, 9.883636363636384, 'entropy = 0.0\\nsamples = 1\\nvalue = [1, 0]'),\n",
       " Text(187.9375, 69.18545454545455, 'X[748367] <= 0.5\\nentropy = 0.184\\nsamples = 251\\nvalue = [244, 7]'),\n",
       " Text(186.0, 49.418181818181836, 'X[111443] <= 0.5\\nentropy = 0.143\\nsamples = 247\\nvalue = [242, 5]'),\n",
       " Text(184.45000000000002, 29.650909090909096, 'X[409242] <= 0.5\\nentropy = 0.097\\nsamples = 241\\nvalue = [238, 3]'),\n",
       " Text(183.675, 9.883636363636384, 'entropy = 0.07\\nsamples = 240\\nvalue = [238, 2]'),\n",
       " Text(185.225, 9.883636363636384, 'entropy = 0.0\\nsamples = 1\\nvalue = [0, 1]'),\n",
       " Text(187.55, 29.650909090909096, 'X[994391] <= 0.5\\nentropy = 0.918\\nsamples = 6\\nvalue = [4, 2]'),\n",
       " Text(186.775, 9.883636363636384, 'entropy = 0.0\\nsamples = 4\\nvalue = [4, 0]'),\n",
       " Text(188.32500000000002, 9.883636363636384, 'entropy = 0.0\\nsamples = 2\\nvalue = [0, 2]'),\n",
       " Text(189.875, 49.418181818181836, 'X[711232] <= 0.5\\nentropy = 1.0\\nsamples = 4\\nvalue = [2, 2]'),\n",
       " Text(189.1, 29.650909090909096, 'entropy = 0.0\\nsamples = 2\\nvalue = [0, 2]'),\n",
       " Text(190.65, 29.650909090909096, 'entropy = 0.0\\nsamples = 2\\nvalue = [2, 0]'),\n",
       " Text(195.3, 88.95272727272729, 'X[932321] <= 0.5\\nentropy = 0.975\\nsamples = 76\\nvalue = [31, 45]'),\n",
       " Text(194.525, 69.18545454545455, 'X[1552725] <= 0.5\\nentropy = 0.996\\nsamples = 67\\nvalue = [31, 36]'),\n",
       " Text(192.975, 49.418181818181836, 'X[1251279] <= 0.5\\nentropy = 0.98\\nsamples = 48\\nvalue = [28, 20]'),\n",
       " Text(192.20000000000002, 29.650909090909096, 'X[131142] <= 0.5\\nentropy = 0.918\\nsamples = 42\\nvalue = [28, 14]'),\n",
       " Text(191.425, 9.883636363636384, 'entropy = 0.831\\nsamples = 38\\nvalue = [28, 10]'),\n",
       " Text(192.975, 9.883636363636384, 'entropy = 0.0\\nsamples = 4\\nvalue = [0, 4]'),\n",
       " Text(193.75, 29.650909090909096, 'entropy = 0.0\\nsamples = 6\\nvalue = [0, 6]'),\n",
       " Text(196.07500000000002, 49.418181818181836, 'X[1715520] <= 1.0\\nentropy = 0.629\\nsamples = 19\\nvalue = [3, 16]'),\n",
       " Text(195.3, 29.650909090909096, 'X[771925] <= 0.5\\nentropy = 0.323\\nsamples = 17\\nvalue = [1, 16]'),\n",
       " Text(194.525, 9.883636363636384, 'entropy = 0.0\\nsamples = 16\\nvalue = [0, 16]'),\n",
       " Text(196.07500000000002, 9.883636363636384, 'entropy = 0.0\\nsamples = 1\\nvalue = [1, 0]'),\n",
       " Text(196.85, 29.650909090909096, 'entropy = 0.0\\nsamples = 2\\nvalue = [2, 0]'),\n",
       " Text(196.07500000000002, 69.18545454545455, 'entropy = 0.0\\nsamples = 9\\nvalue = [0, 9]'),\n",
       " Text(209.928125, 108.72, 'X[114582] <= 0.5\\nentropy = 0.93\\nsamples = 2376\\nvalue = [1554, 822]'),\n",
       " Text(205.95625, 88.95272727272729, 'X[581678] <= 0.5\\nentropy = 0.949\\nsamples = 2182\\nvalue = [1379, 803]'),\n",
       " Text(202.6625, 69.18545454545455, 'X[1983112] <= 0.5\\nentropy = 0.932\\nsamples = 2048\\nvalue = [1337, 711]'),\n",
       " Text(199.95000000000002, 49.418181818181836, 'X[1781100] <= 0.5\\nentropy = 0.918\\nsamples = 1977\\nvalue = [1319, 658]'),\n",
       " Text(198.4, 29.650909090909096, 'X[964141] <= 0.5\\nentropy = 0.933\\nsamples = 1847\\nvalue = [1202, 645]'),\n",
       " Text(197.625, 9.883636363636384, 'entropy = 0.943\\nsamples = 1783\\nvalue = [1141, 642]'),\n",
       " Text(199.175, 9.883636363636384, 'entropy = 0.273\\nsamples = 64\\nvalue = [61, 3]'),\n",
       " Text(201.5, 29.650909090909096, 'X[1403189] <= 0.5\\nentropy = 0.469\\nsamples = 130\\nvalue = [117, 13]'),\n",
       " Text(200.725, 9.883636363636384, 'entropy = 0.398\\nsamples = 127\\nvalue = [117, 10]'),\n",
       " Text(202.275, 9.883636363636384, 'entropy = 0.0\\nsamples = 3\\nvalue = [0, 3]'),\n",
       " Text(205.375, 49.418181818181836, 'X[1238744] <= 2.5\\nentropy = 0.817\\nsamples = 71\\nvalue = [18, 53]'),\n",
       " Text(204.6, 29.650909090909096, 'X[1029463] <= 0.5\\nentropy = 0.69\\nsamples = 65\\nvalue = [12, 53]'),\n",
       " Text(203.82500000000002, 9.883636363636384, 'entropy = 0.598\\nsamples = 62\\nvalue = [9, 53]'),\n",
       " Text(205.375, 9.883636363636384, 'entropy = 0.0\\nsamples = 3\\nvalue = [3, 0]'),\n",
       " Text(206.15, 29.650909090909096, 'entropy = 0.0\\nsamples = 6\\nvalue = [6, 0]'),\n",
       " Text(209.25, 69.18545454545455, 'X[582359] <= 0.5\\nentropy = 0.897\\nsamples = 134\\nvalue = [42, 92]'),\n",
       " Text(208.475, 49.418181818181836, 'X[581678] <= 1.5\\nentropy = 0.865\\nsamples = 129\\nvalue = [37, 92]'),\n",
       " Text(207.70000000000002, 29.650909090909096, 'X[942220] <= 0.5\\nentropy = 0.912\\nsamples = 113\\nvalue = [37, 76]'),\n",
       " Text(206.925, 9.883636363636384, 'entropy = 0.948\\nsamples = 101\\nvalue = [37, 64]'),\n",
       " Text(208.475, 9.883636363636384, 'entropy = 0.0\\nsamples = 12\\nvalue = [0, 12]'),\n",
       " Text(209.25, 29.650909090909096, 'entropy = 0.0\\nsamples = 16\\nvalue = [0, 16]'),\n",
       " Text(210.025, 49.418181818181836, 'entropy = 0.0\\nsamples = 5\\nvalue = [5, 0]'),\n",
       " Text(213.9, 88.95272727272729, 'X[1335448] <= 0.5\\nentropy = 0.462\\nsamples = 194\\nvalue = [175, 19]'),\n",
       " Text(213.125, 69.18545454545455, 'X[705493] <= 0.5\\nentropy = 0.415\\nsamples = 191\\nvalue = [175, 16]'),\n",
       " Text(212.35, 49.418181818181836, 'X[177265] <= 0.5\\nentropy = 0.363\\nsamples = 188\\nvalue = [175, 13]'),\n",
       " Text(210.8, 29.650909090909096, 'X[196892] <= 0.5\\nentropy = 0.305\\nsamples = 184\\nvalue = [174, 10]'),\n",
       " Text(210.025, 9.883636363636384, 'entropy = 0.26\\nsamples = 182\\nvalue = [174, 8]'),\n",
       " Text(211.57500000000002, 9.883636363636384, 'entropy = 0.0\\nsamples = 2\\nvalue = [0, 2]'),\n",
       " Text(213.9, 29.650909090909096, 'X[1417103] <= 0.5\\nentropy = 0.811\\nsamples = 4\\nvalue = [1, 3]'),\n",
       " Text(213.125, 9.883636363636384, 'entropy = 0.0\\nsamples = 3\\nvalue = [0, 3]'),\n",
       " Text(214.675, 9.883636363636384, 'entropy = 0.0\\nsamples = 1\\nvalue = [1, 0]'),\n",
       " Text(213.9, 49.418181818181836, 'entropy = 0.0\\nsamples = 3\\nvalue = [0, 3]'),\n",
       " Text(214.675, 69.18545454545455, 'entropy = 0.0\\nsamples = 3\\nvalue = [0, 3]'),\n",
       " Text(224.55625, 128.48727272727274, 'X[1640649] <= 0.5\\nentropy = 0.268\\nsamples = 656\\nvalue = [626, 30]'),\n",
       " Text(223.78125, 108.72, 'X[849938] <= 0.5\\nentropy = 0.242\\nsamples = 652\\nvalue = [626, 26]'),\n",
       " Text(220.4875, 88.95272727272729, 'X[1146968] <= 1.5\\nentropy = 0.196\\nsamples = 628\\nvalue = [609, 19]'),\n",
       " Text(218.55, 69.18545454545455, 'X[1360292] <= 0.5\\nentropy = 0.145\\nsamples = 583\\nvalue = [571, 12]'),\n",
       " Text(217.775, 49.418181818181836, 'X[1428459] <= 0.5\\nentropy = 0.125\\nsamples = 581\\nvalue = [571, 10]'),\n",
       " Text(217.0, 29.650909090909096, 'X[120524] <= 0.5\\nentropy = 0.105\\nsamples = 579\\nvalue = [571, 8]'),\n",
       " Text(216.225, 9.883636363636384, 'entropy = 0.083\\nsamples = 577\\nvalue = [571, 6]'),\n",
       " Text(217.775, 9.883636363636384, 'entropy = 0.0\\nsamples = 2\\nvalue = [0, 2]'),\n",
       " Text(218.55, 29.650909090909096, 'entropy = 0.0\\nsamples = 2\\nvalue = [0, 2]'),\n",
       " Text(219.32500000000002, 49.418181818181836, 'entropy = 0.0\\nsamples = 2\\nvalue = [0, 2]'),\n",
       " Text(222.425, 69.18545454545455, 'X[1987769] <= 1.5\\nentropy = 0.624\\nsamples = 45\\nvalue = [38, 7]'),\n",
       " Text(221.65, 49.418181818181836, 'X[1195043] <= 0.5\\nentropy = 0.454\\nsamples = 42\\nvalue = [38, 4]'),\n",
       " Text(220.1, 29.650909090909096, 'X[1427070] <= 0.5\\nentropy = 0.183\\nsamples = 36\\nvalue = [35, 1]'),\n",
       " Text(219.32500000000002, 9.883636363636384, 'entropy = 0.0\\nsamples = 35\\nvalue = [35, 0]'),\n",
       " Text(220.875, 9.883636363636384, 'entropy = 0.0\\nsamples = 1\\nvalue = [0, 1]'),\n",
       " Text(223.20000000000002, 29.650909090909096, 'X[1082578] <= 0.5\\nentropy = 1.0\\nsamples = 6\\nvalue = [3, 3]'),\n",
       " Text(222.425, 9.883636363636384, 'entropy = 0.0\\nsamples = 3\\nvalue = [3, 0]'),\n",
       " Text(223.975, 9.883636363636384, 'entropy = 0.0\\nsamples = 3\\nvalue = [0, 3]'),\n",
       " Text(223.20000000000002, 49.418181818181836, 'entropy = 0.0\\nsamples = 3\\nvalue = [0, 3]'),\n",
       " Text(227.07500000000002, 88.95272727272729, 'X[558677] <= 0.5\\nentropy = 0.871\\nsamples = 24\\nvalue = [17, 7]'),\n",
       " Text(226.3, 69.18545454545455, 'X[599813] <= 0.5\\nentropy = 0.702\\nsamples = 21\\nvalue = [17, 4]'),\n",
       " Text(225.525, 49.418181818181836, 'X[1086579] <= 0.5\\nentropy = 0.485\\nsamples = 19\\nvalue = [17, 2]'),\n",
       " Text(224.75, 29.650909090909096, 'entropy = 0.0\\nsamples = 17\\nvalue = [17, 0]'),\n",
       " Text(226.3, 29.650909090909096, 'entropy = 0.0\\nsamples = 2\\nvalue = [0, 2]'),\n",
       " Text(227.07500000000002, 49.418181818181836, 'entropy = 0.0\\nsamples = 2\\nvalue = [0, 2]'),\n",
       " Text(227.85, 69.18545454545455, 'entropy = 0.0\\nsamples = 3\\nvalue = [0, 3]'),\n",
       " Text(225.33125, 108.72, 'entropy = 0.0\\nsamples = 4\\nvalue = [0, 4]'),\n",
       " Text(257.27578125, 148.25454545454545, 'X[1940279] <= 0.5\\nentropy = 1.0\\nsamples = 1809\\nvalue = [905, 904]'),\n",
       " Text(248.9203125, 128.48727272727274, 'X[581678] <= 0.5\\nentropy = 0.996\\nsamples = 1634\\nvalue = [757, 877]'),\n",
       " Text(241.703125, 108.72, 'X[763805] <= 1.5\\nentropy = 1.0\\nsamples = 1481\\nvalue = [728, 753]'),\n",
       " Text(235.79375000000002, 88.95272727272729, 'X[1281902] <= 0.5\\nentropy = 0.993\\nsamples = 1036\\nvalue = [570, 466]'),\n",
       " Text(232.1125, 69.18545454545455, 'X[186159] <= 0.5\\nentropy = 0.985\\nsamples = 981\\nvalue = [560, 421]'),\n",
       " Text(229.4, 49.418181818181836, 'X[1781100] <= 0.5\\nentropy = 0.993\\nsamples = 910\\nvalue = [500, 410]'),\n",
       " Text(227.85, 29.650909090909096, 'X[1271771] <= 0.5\\nentropy = 0.997\\nsamples = 863\\nvalue = [459, 404]'),\n",
       " Text(227.07500000000002, 9.883636363636384, 'entropy = 0.999\\nsamples = 840\\nvalue = [437, 403]'),\n",
       " Text(228.625, 9.883636363636384, 'entropy = 0.258\\nsamples = 23\\nvalue = [22, 1]'),\n",
       " Text(230.95000000000002, 29.650909090909096, 'X[84943] <= 0.5\\nentropy = 0.551\\nsamples = 47\\nvalue = [41, 6]'),\n",
       " Text(230.175, 9.883636363636384, 'entropy = 0.359\\nsamples = 44\\nvalue = [41, 3]'),\n",
       " Text(231.725, 9.883636363636384, 'entropy = 0.0\\nsamples = 3\\nvalue = [0, 3]'),\n",
       " Text(234.82500000000002, 49.418181818181836, 'X[1095889] <= 0.5\\nentropy = 0.622\\nsamples = 71\\nvalue = [60, 11]'),\n",
       " Text(234.05, 29.650909090909096, 'X[1321014] <= 0.5\\nentropy = 0.559\\nsamples = 69\\nvalue = [60, 9]'),\n",
       " Text(233.275, 9.883636363636384, 'entropy = 0.74\\nsamples = 43\\nvalue = [34, 9]'),\n",
       " Text(234.82500000000002, 9.883636363636384, 'entropy = 0.0\\nsamples = 26\\nvalue = [26, 0]'),\n",
       " Text(235.6, 29.650909090909096, 'entropy = 0.0\\nsamples = 2\\nvalue = [0, 2]'),\n",
       " Text(239.475, 69.18545454545455, 'X[536019] <= 0.5\\nentropy = 0.684\\nsamples = 55\\nvalue = [10, 45]'),\n",
       " Text(238.70000000000002, 49.418181818181836, 'X[506962] <= 0.5\\nentropy = 0.57\\nsamples = 52\\nvalue = [7, 45]'),\n",
       " Text(237.15, 29.650909090909096, 'X[1938855] <= 0.5\\nentropy = 0.414\\nsamples = 48\\nvalue = [4, 44]'),\n",
       " Text(236.375, 9.883636363636384, 'entropy = 0.258\\nsamples = 46\\nvalue = [2, 44]'),\n",
       " Text(237.925, 9.883636363636384, 'entropy = 0.0\\nsamples = 2\\nvalue = [2, 0]'),\n",
       " Text(240.25, 29.650909090909096, 'X[629979] <= 0.5\\nentropy = 0.811\\nsamples = 4\\nvalue = [3, 1]'),\n",
       " Text(239.475, 9.883636363636384, 'entropy = 0.0\\nsamples = 3\\nvalue = [3, 0]'),\n",
       " Text(241.025, 9.883636363636384, 'entropy = 0.0\\nsamples = 1\\nvalue = [0, 1]'),\n",
       " Text(240.25, 49.418181818181836, 'entropy = 0.0\\nsamples = 3\\nvalue = [3, 0]'),\n",
       " Text(247.6125, 88.95272727272729, 'X[666406] <= 0.5\\nentropy = 0.939\\nsamples = 445\\nvalue = [158, 287]'),\n",
       " Text(245.675, 69.18545454545455, 'X[114582] <= 0.5\\nentropy = 0.92\\nsamples = 430\\nvalue = [144, 286]'),\n",
       " Text(244.125, 49.418181818181836, 'X[1566190] <= 1.5\\nentropy = 0.895\\nsamples = 408\\nvalue = [127, 281]'),\n",
       " Text(243.35, 29.650909090909096, 'X[1657466] <= 0.5\\nentropy = 0.88\\nsamples = 401\\nvalue = [120, 281]'),\n",
       " Text(242.57500000000002, 9.883636363636384, 'entropy = 0.855\\nsamples = 386\\nvalue = [108, 278]'),\n",
       " Text(244.125, 9.883636363636384, 'entropy = 0.722\\nsamples = 15\\nvalue = [12, 3]'),\n",
       " Text(244.9, 29.650909090909096, 'entropy = 0.0\\nsamples = 7\\nvalue = [7, 0]'),\n",
       " Text(247.225, 49.418181818181836, 'X[1908148] <= 0.5\\nentropy = 0.773\\nsamples = 22\\nvalue = [17, 5]'),\n",
       " Text(246.45000000000002, 29.650909090909096, 'X[1386007] <= 0.5\\nentropy = 0.61\\nsamples = 20\\nvalue = [17, 3]'),\n",
       " Text(245.675, 9.883636363636384, 'entropy = 0.31\\nsamples = 18\\nvalue = [17, 1]'),\n",
       " Text(247.225, 9.883636363636384, 'entropy = 0.0\\nsamples = 2\\nvalue = [0, 2]'),\n",
       " Text(248.0, 29.650909090909096, 'entropy = 0.0\\nsamples = 2\\nvalue = [0, 2]'),\n",
       " Text(249.55, 69.18545454545455, 'X[1315565] <= 0.5\\nentropy = 0.353\\nsamples = 15\\nvalue = [14, 1]'),\n",
       " Text(248.775, 49.418181818181836, 'entropy = 0.0\\nsamples = 14\\nvalue = [14, 0]'),\n",
       " Text(250.32500000000002, 49.418181818181836, 'entropy = 0.0\\nsamples = 1\\nvalue = [0, 1]'),\n",
       " Text(256.1375, 108.72, 'X[1365976] <= 0.5\\nentropy = 0.701\\nsamples = 153\\nvalue = [29, 124]'),\n",
       " Text(254.5875, 88.95272727272729, 'X[1471366] <= 0.5\\nentropy = 0.631\\nsamples = 145\\nvalue = [23, 122]'),\n",
       " Text(253.8125, 69.18545454545455, 'X[956292] <= 0.5\\nentropy = 0.586\\nsamples = 142\\nvalue = [20, 122]'),\n",
       " Text(251.875, 49.418181818181836, 'X[474751] <= 0.5\\nentropy = 0.52\\nsamples = 137\\nvalue = [16, 121]'),\n",
       " Text(250.32500000000002, 29.650909090909096, 'X[1970589] <= 0.5\\nentropy = 0.444\\nsamples = 130\\nvalue = [12, 118]'),\n",
       " Text(249.55, 9.883636363636384, 'entropy = 0.347\\nsamples = 123\\nvalue = [8, 115]'),\n",
       " Text(251.1, 9.883636363636384, 'entropy = 0.985\\nsamples = 7\\nvalue = [4, 3]'),\n",
       " Text(253.425, 29.650909090909096, 'X[790112] <= 0.5\\nentropy = 0.985\\nsamples = 7\\nvalue = [4, 3]'),\n",
       " Text(252.65, 9.883636363636384, 'entropy = 0.811\\nsamples = 4\\nvalue = [1, 3]'),\n",
       " Text(254.20000000000002, 9.883636363636384, 'entropy = 0.0\\nsamples = 3\\nvalue = [3, 0]'),\n",
       " Text(255.75, 49.418181818181836, 'X[1030706] <= 0.5\\nentropy = 0.722\\nsamples = 5\\nvalue = [4, 1]'),\n",
       " Text(254.975, 29.650909090909096, 'entropy = 0.0\\nsamples = 4\\nvalue = [4, 0]'),\n",
       " Text(256.52500000000003, 29.650909090909096, 'entropy = 0.0\\nsamples = 1\\nvalue = [0, 1]'),\n",
       " Text(255.3625, 69.18545454545455, 'entropy = 0.0\\nsamples = 3\\nvalue = [3, 0]'),\n",
       " Text(257.6875, 88.95272727272729, 'X[89802] <= 0.5\\nentropy = 0.811\\nsamples = 8\\nvalue = [6, 2]'),\n",
       " Text(256.9125, 69.18545454545455, 'entropy = 0.0\\nsamples = 6\\nvalue = [6, 0]'),\n",
       " Text(258.46250000000003, 69.18545454545455, 'entropy = 0.0\\nsamples = 2\\nvalue = [0, 2]'),\n",
       " Text(265.63125, 128.48727272727274, 'X[633528] <= 0.5\\nentropy = 0.62\\nsamples = 175\\nvalue = [148, 27]'),\n",
       " Text(263.5, 108.72, 'X[966733] <= 0.5\\nentropy = 0.531\\nsamples = 166\\nvalue = [146, 20]'),\n",
       " Text(261.5625, 88.95272727272729, 'X[1171173] <= 1.5\\nentropy = 0.432\\nsamples = 158\\nvalue = [144, 14]'),\n",
       " Text(260.0125, 69.18545454545455, 'X[1181688] <= 0.5\\nentropy = 0.348\\nsamples = 153\\nvalue = [143, 10]'),\n",
       " Text(259.2375, 49.418181818181836, 'X[1366868] <= 0.5\\nentropy = 0.299\\nsamples = 151\\nvalue = [143, 8]'),\n",
       " Text(258.46250000000003, 29.650909090909096, 'X[1808984] <= 0.5\\nentropy = 0.244\\nsamples = 149\\nvalue = [143, 6]'),\n",
       " Text(257.6875, 9.883636363636384, 'entropy = 0.18\\nsamples = 147\\nvalue = [143, 4]'),\n",
       " Text(259.2375, 9.883636363636384, 'entropy = 0.0\\nsamples = 2\\nvalue = [0, 2]'),\n",
       " Text(260.0125, 29.650909090909096, 'entropy = 0.0\\nsamples = 2\\nvalue = [0, 2]'),\n",
       " Text(260.7875, 49.418181818181836, 'entropy = 0.0\\nsamples = 2\\nvalue = [0, 2]'),\n",
       " Text(263.1125, 69.18545454545455, 'X[1485600] <= 0.5\\nentropy = 0.722\\nsamples = 5\\nvalue = [1, 4]'),\n",
       " Text(262.33750000000003, 49.418181818181836, 'entropy = 0.0\\nsamples = 4\\nvalue = [0, 4]'),\n",
       " Text(263.8875, 49.418181818181836, 'entropy = 0.0\\nsamples = 1\\nvalue = [1, 0]'),\n",
       " Text(265.4375, 88.95272727272729, 'X[1940890] <= 0.5\\nentropy = 0.811\\nsamples = 8\\nvalue = [2, 6]'),\n",
       " Text(264.6625, 69.18545454545455, 'entropy = 0.0\\nsamples = 5\\nvalue = [0, 5]'),\n",
       " Text(266.21250000000003, 69.18545454545455, 'X[1640868] <= 0.5\\nentropy = 0.918\\nsamples = 3\\nvalue = [2, 1]'),\n",
       " Text(265.4375, 49.418181818181836, 'entropy = 0.0\\nsamples = 2\\nvalue = [2, 0]'),\n",
       " Text(266.9875, 49.418181818181836, 'entropy = 0.0\\nsamples = 1\\nvalue = [0, 1]'),\n",
       " Text(267.7625, 108.72, 'X[945719] <= 0.5\\nentropy = 0.764\\nsamples = 9\\nvalue = [2, 7]'),\n",
       " Text(266.9875, 88.95272727272729, 'entropy = 0.0\\nsamples = 6\\nvalue = [0, 6]'),\n",
       " Text(268.5375, 88.95272727272729, 'X[1427893] <= 0.5\\nentropy = 0.918\\nsamples = 3\\nvalue = [2, 1]'),\n",
       " Text(267.7625, 69.18545454545455, 'entropy = 0.0\\nsamples = 2\\nvalue = [2, 0]'),\n",
       " Text(269.3125, 69.18545454545455, 'entropy = 0.0\\nsamples = 1\\nvalue = [0, 1]'),\n",
       " Text(312.809375, 168.0218181818182, 'X[763805] <= 0.5\\nentropy = 0.527\\nsamples = 4830\\nvalue = [4255, 575]'),\n",
       " Text(299.36796875, 148.25454545454545, 'X[1940279] <= 0.5\\nentropy = 0.427\\nsamples = 3769\\nvalue = [3440, 329]'),\n",
       " Text(290.2859375, 128.48727272727274, 'X[121084] <= 0.5\\nentropy = 0.47\\nsamples = 3221\\nvalue = [2898, 323]'),\n",
       " Text(281.421875, 108.72, 'X[119891] <= 2.5\\nentropy = 0.426\\nsamples = 2962\\nvalue = [2705, 257]'),\n",
       " Text(274.93125000000003, 88.95272727272729, 'X[751249] <= 1.5\\nentropy = 0.51\\nsamples = 1695\\nvalue = [1503, 192]'),\n",
       " Text(271.25, 69.18545454545455, 'X[1991762] <= 1.5\\nentropy = 0.427\\nsamples = 1319\\nvalue = [1204, 115]'),\n",
       " Text(268.5375, 49.418181818181836, 'X[121610] <= 0.5\\nentropy = 0.407\\nsamples = 1301\\nvalue = [1195, 106]'),\n",
       " Text(266.9875, 29.650909090909096, 'X[1138079] <= 0.5\\nentropy = 0.46\\nsamples = 998\\nvalue = [901, 97]'),\n",
       " Text(266.21250000000003, 9.883636363636384, 'entropy = 0.425\\nsamples = 957\\nvalue = [874, 83]'),\n",
       " Text(267.7625, 9.883636363636384, 'entropy = 0.926\\nsamples = 41\\nvalue = [27, 14]'),\n",
       " Text(270.08750000000003, 29.650909090909096, 'X[1907591] <= 0.5\\nentropy = 0.193\\nsamples = 303\\nvalue = [294, 9]'),\n",
       " Text(269.3125, 9.883636363636384, 'entropy = 0.161\\nsamples = 298\\nvalue = [291, 7]'),\n",
       " Text(270.8625, 9.883636363636384, 'entropy = 0.971\\nsamples = 5\\nvalue = [3, 2]'),\n",
       " Text(273.96250000000003, 49.418181818181836, 'X[1846397] <= 0.5\\nentropy = 1.0\\nsamples = 18\\nvalue = [9, 9]'),\n",
       " Text(273.1875, 29.650909090909096, 'X[977333] <= 0.5\\nentropy = 0.89\\nsamples = 13\\nvalue = [4, 9]'),\n",
       " Text(272.4125, 9.883636363636384, 'entropy = 0.469\\nsamples = 10\\nvalue = [1, 9]'),\n",
       " Text(273.96250000000003, 9.883636363636384, 'entropy = 0.0\\nsamples = 3\\nvalue = [3, 0]'),\n",
       " Text(274.7375, 29.650909090909096, 'entropy = 0.0\\nsamples = 5\\nvalue = [5, 0]'),\n",
       " Text(278.6125, 69.18545454545455, 'X[1830182] <= 0.5\\nentropy = 0.731\\nsamples = 376\\nvalue = [299, 77]'),\n",
       " Text(277.83750000000003, 49.418181818181836, 'X[1029463] <= 0.5\\nentropy = 0.705\\nsamples = 370\\nvalue = [299, 71]'),\n",
       " Text(276.2875, 29.650909090909096, 'X[1389589] <= 0.5\\nentropy = 0.754\\nsamples = 323\\nvalue = [253, 70]'),\n",
       " Text(275.5125, 9.883636363636384, 'entropy = 0.731\\nsamples = 318\\nvalue = [253, 65]'),\n",
       " Text(277.0625, 9.883636363636384, 'entropy = 0.0\\nsamples = 5\\nvalue = [0, 5]'),\n",
       " Text(279.3875, 29.650909090909096, 'X[1585008] <= 0.5\\nentropy = 0.149\\nsamples = 47\\nvalue = [46, 1]'),\n",
       " Text(278.6125, 9.883636363636384, 'entropy = 0.0\\nsamples = 46\\nvalue = [46, 0]'),\n",
       " Text(280.1625, 9.883636363636384, 'entropy = 0.0\\nsamples = 1\\nvalue = [0, 1]'),\n",
       " Text(279.3875, 49.418181818181836, 'entropy = 0.0\\nsamples = 6\\nvalue = [0, 6]'),\n",
       " Text(287.9125, 88.95272727272729, 'X[1278060] <= 1.5\\nentropy = 0.292\\nsamples = 1267\\nvalue = [1202, 65]'),\n",
       " Text(284.8125, 69.18545454545455, 'X[1427791] <= 0.5\\nentropy = 0.242\\nsamples = 1127\\nvalue = [1082, 45]'),\n",
       " Text(283.2625, 49.418181818181836, 'X[1698329] <= 1.5\\nentropy = 0.227\\nsamples = 1120\\nvalue = [1079, 41]'),\n",
       " Text(282.4875, 29.650909090909096, 'X[808433] <= 2.0\\nentropy = 0.218\\nsamples = 1118\\nvalue = [1079, 39]'),\n",
       " Text(281.71250000000003, 9.883636363636384, 'entropy = 0.21\\nsamples = 1116\\nvalue = [1079, 37]'),\n",
       " Text(283.2625, 9.883636363636384, 'entropy = 0.0\\nsamples = 2\\nvalue = [0, 2]'),\n",
       " Text(284.0375, 29.650909090909096, 'entropy = 0.0\\nsamples = 2\\nvalue = [0, 2]'),\n",
       " Text(286.3625, 49.418181818181836, 'X[1034933] <= 0.5\\nentropy = 0.985\\nsamples = 7\\nvalue = [3, 4]'),\n",
       " Text(285.58750000000003, 29.650909090909096, 'X[207824] <= 0.5\\nentropy = 0.811\\nsamples = 4\\nvalue = [3, 1]'),\n",
       " Text(284.8125, 9.883636363636384, 'entropy = 0.0\\nsamples = 3\\nvalue = [3, 0]'),\n",
       " Text(286.3625, 9.883636363636384, 'entropy = 0.0\\nsamples = 1\\nvalue = [0, 1]'),\n",
       " Text(287.1375, 29.650909090909096, 'entropy = 0.0\\nsamples = 3\\nvalue = [0, 3]'),\n",
       " Text(291.0125, 69.18545454545455, 'X[875825] <= 0.5\\nentropy = 0.592\\nsamples = 140\\nvalue = [120, 20]'),\n",
       " Text(289.46250000000003, 49.418181818181836, 'X[521126] <= 1.5\\nentropy = 0.485\\nsamples = 133\\nvalue = [119, 14]'),\n",
       " Text(288.6875, 29.650909090909096, 'X[550752] <= 1.5\\nentropy = 0.418\\nsamples = 130\\nvalue = [119, 11]'),\n",
       " Text(287.9125, 9.883636363636384, 'entropy = 0.341\\nsamples = 126\\nvalue = [118, 8]'),\n",
       " Text(289.46250000000003, 9.883636363636384, 'entropy = 0.811\\nsamples = 4\\nvalue = [1, 3]'),\n",
       " Text(290.2375, 29.650909090909096, 'entropy = 0.0\\nsamples = 3\\nvalue = [0, 3]'),\n",
       " Text(292.5625, 49.418181818181836, 'X[1013572] <= 0.5\\nentropy = 0.592\\nsamples = 7\\nvalue = [1, 6]'),\n",
       " Text(291.7875, 29.650909090909096, 'entropy = 0.0\\nsamples = 6\\nvalue = [0, 6]'),\n",
       " Text(293.33750000000003, 29.650909090909096, 'entropy = 0.0\\nsamples = 1\\nvalue = [1, 0]'),\n",
       " Text(299.15000000000003, 108.72, 'X[119891] <= 2.5\\nentropy = 0.819\\nsamples = 259\\nvalue = [193, 66]'),\n",
       " Text(297.21250000000003, 88.95272727272729, 'X[255764] <= 0.5\\nentropy = 0.976\\nsamples = 115\\nvalue = [68, 47]'),\n",
       " Text(296.4375, 69.18545454545455, 'X[629334] <= 0.5\\nentropy = 0.941\\nsamples = 106\\nvalue = [68, 38]'),\n",
       " Text(295.6625, 49.418181818181836, 'X[1892167] <= 0.5\\nentropy = 0.904\\nsamples = 100\\nvalue = [68, 32]'),\n",
       " Text(294.8875, 29.650909090909096, 'X[1906637] <= 1.5\\nentropy = 0.946\\nsamples = 88\\nvalue = [56, 32]'),\n",
       " Text(294.1125, 9.883636363636384, 'entropy = 0.896\\nsamples = 80\\nvalue = [55, 25]'),\n",
       " Text(295.6625, 9.883636363636384, 'entropy = 0.544\\nsamples = 8\\nvalue = [1, 7]'),\n",
       " Text(296.4375, 29.650909090909096, 'entropy = 0.0\\nsamples = 12\\nvalue = [12, 0]'),\n",
       " Text(297.21250000000003, 49.418181818181836, 'entropy = 0.0\\nsamples = 6\\nvalue = [0, 6]'),\n",
       " Text(297.9875, 69.18545454545455, 'entropy = 0.0\\nsamples = 9\\nvalue = [0, 9]'),\n",
       " Text(301.08750000000003, 88.95272727272729, 'X[1498190] <= 0.5\\nentropy = 0.563\\nsamples = 144\\nvalue = [125, 19]'),\n",
       " Text(299.5375, 69.18545454545455, 'X[1251279] <= 0.5\\nentropy = 0.373\\nsamples = 125\\nvalue = [116, 9]'),\n",
       " Text(298.7625, 49.418181818181836, 'X[552382] <= 0.5\\nentropy = 0.315\\nsamples = 123\\nvalue = [116, 7]'),\n",
       " Text(297.9875, 29.650909090909096, 'X[112037] <= 0.5\\nentropy = 0.248\\nsamples = 121\\nvalue = [116, 5]'),\n",
       " Text(297.21250000000003, 9.883636363636384, 'entropy = 0.17\\nsamples = 119\\nvalue = [116, 3]'),\n",
       " Text(298.7625, 9.883636363636384, 'entropy = 0.0\\nsamples = 2\\nvalue = [0, 2]'),\n",
       " Text(299.5375, 29.650909090909096, 'entropy = 0.0\\nsamples = 2\\nvalue = [0, 2]'),\n",
       " Text(300.3125, 49.418181818181836, 'entropy = 0.0\\nsamples = 2\\nvalue = [0, 2]'),\n",
       " Text(302.6375, 69.18545454545455, 'X[1108370] <= 0.5\\nentropy = 0.998\\nsamples = 19\\nvalue = [9, 10]'),\n",
       " Text(301.8625, 49.418181818181836, 'X[13838] <= 0.5\\nentropy = 0.779\\nsamples = 13\\nvalue = [3, 10]'),\n",
       " Text(301.08750000000003, 29.650909090909096, 'X[199646] <= 0.5\\nentropy = 0.439\\nsamples = 11\\nvalue = [1, 10]'),\n",
       " Text(300.3125, 9.883636363636384, 'entropy = 0.0\\nsamples = 10\\nvalue = [0, 10]'),\n",
       " Text(301.8625, 9.883636363636384, 'entropy = 0.0\\nsamples = 1\\nvalue = [1, 0]'),\n",
       " Text(302.6375, 29.650909090909096, 'entropy = 0.0\\nsamples = 2\\nvalue = [2, 0]'),\n",
       " Text(303.4125, 49.418181818181836, 'entropy = 0.0\\nsamples = 6\\nvalue = [6, 0]'),\n",
       " Text(308.45, 128.48727272727274, 'X[808843] <= 0.5\\nentropy = 0.087\\nsamples = 548\\nvalue = [542, 6]'),\n",
       " Text(306.5125, 108.72, 'X[914859] <= 0.5\\nentropy = 0.049\\nsamples = 542\\nvalue = [539, 3]'),\n",
       " Text(304.96250000000003, 88.95272727272729, 'X[491050] <= 1.5\\nentropy = 0.02\\nsamples = 537\\nvalue = [536, 1]'),\n",
       " Text(304.1875, 69.18545454545455, 'entropy = 0.0\\nsamples = 536\\nvalue = [536, 0]'),\n",
       " Text(305.7375, 69.18545454545455, 'entropy = 0.0\\nsamples = 1\\nvalue = [0, 1]'),\n",
       " Text(308.0625, 88.95272727272729, 'X[1025435] <= 0.5\\nentropy = 0.971\\nsamples = 5\\nvalue = [3, 2]'),\n",
       " Text(307.2875, 69.18545454545455, 'entropy = 0.0\\nsamples = 3\\nvalue = [3, 0]'),\n",
       " Text(308.83750000000003, 69.18545454545455, 'entropy = 0.0\\nsamples = 2\\nvalue = [0, 2]'),\n",
       " Text(310.3875, 108.72, 'X[1940890] <= 0.5\\nentropy = 1.0\\nsamples = 6\\nvalue = [3, 3]'),\n",
       " Text(309.6125, 88.95272727272729, 'entropy = 0.0\\nsamples = 3\\nvalue = [0, 3]'),\n",
       " Text(311.1625, 88.95272727272729, 'entropy = 0.0\\nsamples = 3\\nvalue = [3, 0]'),\n",
       " Text(326.25078125, 148.25454545454545, 'X[763805] <= 2.5\\nentropy = 0.781\\nsamples = 1061\\nvalue = [815, 246]'),\n",
       " Text(321.5765625, 128.48727272727274, 'X[114582] <= 0.5\\nentropy = 0.73\\nsamples = 975\\nvalue = [776, 199]'),\n",
       " Text(317.653125, 108.72, 'X[1038302] <= 0.5\\nentropy = 0.781\\nsamples = 837\\nvalue = [643, 194]'),\n",
       " Text(313.68125000000003, 88.95272727272729, 'X[1182341] <= 0.5\\nentropy = 0.702\\nsamples = 663\\nvalue = [537, 126]'),\n",
       " Text(310.3875, 69.18545454545455, 'X[581678] <= 0.5\\nentropy = 0.677\\nsamples = 650\\nvalue = [534, 116]'),\n",
       " Text(307.675, 49.418181818181836, 'X[1781100] <= 0.5\\nentropy = 0.633\\nsamples = 609\\nvalue = [512, 97]'),\n",
       " Text(306.125, 29.650909090909096, 'X[205975] <= 0.5\\nentropy = 0.677\\nsamples = 532\\nvalue = [437, 95]'),\n",
       " Text(305.35, 9.883636363636384, 'entropy = 0.657\\nsamples = 524\\nvalue = [435, 89]'),\n",
       " Text(306.90000000000003, 9.883636363636384, 'entropy = 0.811\\nsamples = 8\\nvalue = [2, 6]'),\n",
       " Text(309.225, 29.650909090909096, 'X[1138911] <= 0.5\\nentropy = 0.174\\nsamples = 77\\nvalue = [75, 2]'),\n",
       " Text(308.45, 9.883636363636384, 'entropy = 0.101\\nsamples = 76\\nvalue = [75, 1]'),\n",
       " Text(310.0, 9.883636363636384, 'entropy = 0.0\\nsamples = 1\\nvalue = [0, 1]'),\n",
       " Text(313.1, 49.418181818181836, 'X[1746949] <= 0.5\\nentropy = 0.996\\nsamples = 41\\nvalue = [22, 19]'),\n",
       " Text(312.325, 29.650909090909096, 'X[1278060] <= 1.5\\nentropy = 0.952\\nsamples = 35\\nvalue = [22, 13]'),\n",
       " Text(311.55, 9.883636363636384, 'entropy = 1.0\\nsamples = 26\\nvalue = [13, 13]'),\n",
       " Text(313.1, 9.883636363636384, 'entropy = 0.0\\nsamples = 9\\nvalue = [9, 0]'),\n",
       " Text(313.875, 29.650909090909096, 'entropy = 0.0\\nsamples = 6\\nvalue = [0, 6]'),\n",
       " Text(316.975, 69.18545454545455, 'X[1378180] <= 0.5\\nentropy = 0.779\\nsamples = 13\\nvalue = [3, 10]'),\n",
       " Text(316.2, 49.418181818181836, 'X[1330258] <= 0.5\\nentropy = 0.439\\nsamples = 11\\nvalue = [1, 10]'),\n",
       " Text(315.425, 29.650909090909096, 'entropy = 0.0\\nsamples = 10\\nvalue = [0, 10]'),\n",
       " Text(316.975, 29.650909090909096, 'entropy = 0.0\\nsamples = 1\\nvalue = [1, 0]'),\n",
       " Text(317.75, 49.418181818181836, 'entropy = 0.0\\nsamples = 2\\nvalue = [2, 0]'),\n",
       " Text(321.625, 88.95272727272729, 'X[1284568] <= 2.5\\nentropy = 0.965\\nsamples = 174\\nvalue = [106, 68]'),\n",
       " Text(320.85, 69.18545454545455, 'X[1140169] <= 0.5\\nentropy = 0.95\\nsamples = 168\\nvalue = [106, 62]'),\n",
       " Text(320.075, 49.418181818181836, 'X[1138079] <= 0.5\\nentropy = 0.968\\nsamples = 157\\nvalue = [95, 62]'),\n",
       " Text(318.52500000000003, 29.650909090909096, 'X[271769] <= 0.5\\nentropy = 0.928\\nsamples = 137\\nvalue = [90, 47]'),\n",
       " Text(317.75, 9.883636363636384, 'entropy = 0.897\\nsamples = 131\\nvalue = [90, 41]'),\n",
       " Text(319.3, 9.883636363636384, 'entropy = 0.0\\nsamples = 6\\nvalue = [0, 6]'),\n",
       " Text(321.625, 29.650909090909096, 'X[85954] <= 0.5\\nentropy = 0.811\\nsamples = 20\\nvalue = [5, 15]'),\n",
       " Text(320.85, 9.883636363636384, 'entropy = 0.523\\nsamples = 17\\nvalue = [2, 15]'),\n",
       " Text(322.40000000000003, 9.883636363636384, 'entropy = 0.0\\nsamples = 3\\nvalue = [3, 0]'),\n",
       " Text(321.625, 49.418181818181836, 'entropy = 0.0\\nsamples = 11\\nvalue = [11, 0]'),\n",
       " Text(322.40000000000003, 69.18545454545455, 'entropy = 0.0\\nsamples = 6\\nvalue = [0, 6]'),\n",
       " Text(325.5, 108.72, 'X[1283308] <= 0.5\\nentropy = 0.225\\nsamples = 138\\nvalue = [133, 5]'),\n",
       " Text(324.725, 88.95272727272729, 'X[624544] <= 1.5\\nentropy = 0.153\\nsamples = 136\\nvalue = [133, 3]'),\n",
       " Text(323.95, 69.18545454545455, 'X[457648] <= 0.5\\nentropy = 0.063\\nsamples = 134\\nvalue = [133, 1]'),\n",
       " Text(323.175, 49.418181818181836, 'entropy = 0.0\\nsamples = 133\\nvalue = [133, 0]'),\n",
       " Text(324.725, 49.418181818181836, 'entropy = 0.0\\nsamples = 1\\nvalue = [0, 1]'),\n",
       " Text(325.5, 69.18545454545455, 'entropy = 0.0\\nsamples = 2\\nvalue = [0, 2]'),\n",
       " Text(326.27500000000003, 88.95272727272729, 'entropy = 0.0\\nsamples = 2\\nvalue = [0, 2]'),\n",
       " Text(330.925, 128.48727272727274, 'X[859002] <= 0.5\\nentropy = 0.994\\nsamples = 86\\nvalue = [39, 47]'),\n",
       " Text(329.375, 108.72, 'X[604097] <= 0.5\\nentropy = 0.933\\nsamples = 66\\nvalue = [23, 43]'),\n",
       " Text(328.6, 88.95272727272729, 'X[744842] <= 0.5\\nentropy = 0.977\\nsamples = 56\\nvalue = [23, 33]'),\n",
       " Text(327.05, 69.18545454545455, 'X[1334186] <= 0.5\\nentropy = 0.784\\nsamples = 30\\nvalue = [7, 23]'),\n",
       " Text(326.27500000000003, 49.418181818181836, 'X[148754] <= 0.5\\nentropy = 0.605\\nsamples = 27\\nvalue = [4, 23]'),\n",
       " Text(325.5, 29.650909090909096, 'X[751249] <= 0.5\\nentropy = 0.402\\nsamples = 25\\nvalue = [2, 23]'),\n",
       " Text(324.725, 9.883636363636384, 'entropy = 1.0\\nsamples = 4\\nvalue = [2, 2]'),\n",
       " Text(326.27500000000003, 9.883636363636384, 'entropy = 0.0\\nsamples = 21\\nvalue = [0, 21]'),\n",
       " Text(327.05, 29.650909090909096, 'entropy = 0.0\\nsamples = 2\\nvalue = [2, 0]'),\n",
       " Text(327.825, 49.418181818181836, 'entropy = 0.0\\nsamples = 3\\nvalue = [3, 0]'),\n",
       " Text(330.15000000000003, 69.18545454545455, 'X[1485600] <= 0.5\\nentropy = 0.961\\nsamples = 26\\nvalue = [16, 10]'),\n",
       " Text(329.375, 49.418181818181836, 'X[1806352] <= 0.5\\nentropy = 0.845\\nsamples = 22\\nvalue = [16, 6]'),\n",
       " Text(328.6, 29.650909090909096, 'X[1488036] <= 0.5\\nentropy = 0.971\\nsamples = 10\\nvalue = [4, 6]'),\n",
       " Text(327.825, 9.883636363636384, 'entropy = 0.592\\nsamples = 7\\nvalue = [1, 6]'),\n",
       " Text(329.375, 9.883636363636384, 'entropy = 0.0\\nsamples = 3\\nvalue = [3, 0]'),\n",
       " Text(330.15000000000003, 29.650909090909096, 'entropy = 0.0\\nsamples = 12\\nvalue = [12, 0]'),\n",
       " Text(330.925, 49.418181818181836, 'entropy = 0.0\\nsamples = 4\\nvalue = [0, 4]'),\n",
       " Text(330.15000000000003, 88.95272727272729, 'entropy = 0.0\\nsamples = 10\\nvalue = [0, 10]'),\n",
       " Text(332.475, 108.72, 'X[542583] <= 0.5\\nentropy = 0.722\\nsamples = 20\\nvalue = [16, 4]'),\n",
       " Text(331.7, 88.95272727272729, 'entropy = 0.0\\nsamples = 13\\nvalue = [13, 0]'),\n",
       " Text(333.25, 88.95272727272729, 'X[655555] <= 0.5\\nentropy = 0.985\\nsamples = 7\\nvalue = [3, 4]'),\n",
       " Text(332.475, 69.18545454545455, 'entropy = 0.0\\nsamples = 4\\nvalue = [0, 4]'),\n",
       " Text(334.02500000000003, 69.18545454545455, 'entropy = 0.0\\nsamples = 3\\nvalue = [3, 0]')]"
      ]
     },
     "execution_count": 23,
     "metadata": {},
     "output_type": "execute_result"
    },
    {
     "data": {
      "image/png": "[encoded data removed]",
      "text/plain": [
       "<Figure size 432x288 with 1 Axes>"
      ]
     },
     "metadata": {
      "needs_background": "light"
     },
     "output_type": "display_data"
    }
   ],
   "source": [
    "from sklearn.tree import plot_tree\n",
    "\n",
    "plot_tree(tree)"
   ]
  },
  {
   "cell_type": "code",
   "execution_count": 24,
   "metadata": {},
   "outputs": [
    {
     "name": "stdout",
     "output_type": "stream",
     "text": [
      "              precision    recall  f1-score   support\n",
      "\n",
      "    negative       0.78      0.66      0.71      4996\n",
      "    positive       0.71      0.82      0.76      5004\n",
      "\n",
      "    accuracy                           0.74     10000\n",
      "   macro avg       0.74      0.74      0.74     10000\n",
      "weighted avg       0.74      0.74      0.74     10000\n",
      "\n"
     ]
    }
   ],
   "source": [
    "#test set metrics\n",
    "from sklearn.metrics import classification_report\n",
    "target_pred = tree.predict(X_test)\n",
    "print(classification_report(y_test, target_pred))"
   ]
  },
  {
   "cell_type": "markdown",
   "metadata": {},
   "source": [
    "#### Confusion matrix"
   ]
  },
  {
   "cell_type": "code",
   "execution_count": 25,
   "metadata": {},
   "outputs": [
    {
     "data": {
      "image/png": "[encoded data removed]",
      "text/plain": [
       "<Figure size 432x288 with 2 Axes>"
      ]
     },
     "metadata": {
      "needs_background": "light"
     },
     "output_type": "display_data"
    },
    {
     "data": {
      "image/png": "[encoded data removed]",
      "text/plain": [
       "<Figure size 432x288 with 2 Axes>"
      ]
     },
     "metadata": {
      "needs_background": "light"
     },
     "output_type": "display_data"
    }
   ],
   "source": [
    "titles_options = [(\"Confusion matrix, without normalization\", None),\n",
    "                  (\"Normalized confusion matrix\", 'true')]\n",
    "\n",
    "for title, normalize in titles_options:\n",
    "    disp = plot_confusion_matrix(tree, X_test, y_test, cmap=plt.cm.Greens, normalize=normalize)\n",
    "    disp.ax_.set_title(title)"
   ]
  },
  {
   "cell_type": "markdown",
   "metadata": {},
   "source": [
    "###  2.2.3 KNN Classification"
   ]
  },
  {
   "cell_type": "code",
   "execution_count": 26,
   "metadata": {},
   "outputs": [],
   "source": [
    "knn = KNeighborsClassifier(n_neighbors=5, weights='uniform')"
   ]
  },
  {
   "cell_type": "code",
   "execution_count": 27,
   "metadata": {},
   "outputs": [],
   "source": [
    "X = count_vector.fit_transform(data['review'])\n",
    "y = data['sentiment']"
   ]
  },
  {
   "cell_type": "code",
   "execution_count": 28,
   "metadata": {},
   "outputs": [],
   "source": [
    "X_train, X_test, y_train, y_test = train_test_split(X, y, test_size=0.2, random_state=72)"
   ]
  },
  {
   "cell_type": "code",
   "execution_count": 29,
   "metadata": {},
   "outputs": [
    {
     "data": {
      "text/plain": [
       "KNeighborsClassifier(algorithm='auto', leaf_size=30, metric='minkowski',\n",
       "                     metric_params=None, n_jobs=None, n_neighbors=5, p=2,\n",
       "                     weights='uniform')"
      ]
     },
     "execution_count": 29,
     "metadata": {},
     "output_type": "execute_result"
    }
   ],
   "source": [
    "knn.fit(X_train, y_train)"
   ]
  },
  {
   "cell_type": "code",
   "execution_count": 30,
   "metadata": {},
   "outputs": [
    {
     "data": {
      "text/plain": [
       "0.604"
      ]
     },
     "execution_count": 30,
     "metadata": {},
     "output_type": "execute_result"
    }
   ],
   "source": [
    "knn.score(X_test, y_test)"
   ]
  },
  {
   "cell_type": "code",
   "execution_count": 31,
   "metadata": {},
   "outputs": [
    {
     "name": "stdout",
     "output_type": "stream",
     "text": [
      "              precision    recall  f1-score   support\n",
      "\n",
      "    negative       0.58      0.74      0.65      4996\n",
      "    positive       0.64      0.47      0.54      5004\n",
      "\n",
      "    accuracy                           0.60     10000\n",
      "   macro avg       0.61      0.60      0.60     10000\n",
      "weighted avg       0.61      0.60      0.60     10000\n",
      "\n"
     ]
    }
   ],
   "source": [
    "#test set metrics\n",
    "from sklearn.metrics import classification_report\n",
    "target_pred = knn.predict(X_test)\n",
    "print(classification_report(y_test, target_pred))"
   ]
  },
  {
   "cell_type": "markdown",
   "metadata": {},
   "source": [
    "#### Tuning the value of n"
   ]
  },
  {
   "cell_type": "code",
   "execution_count": 32,
   "metadata": {},
   "outputs": [],
   "source": [
    "#scores = []\n",
    "#for n in range(1, 21):\n",
    "#    knn = KNeighborsClassifier(n_neighbors=n, weights='uniform')\n",
    "#    knn.fit(X_train, y_train)\n",
    "#    scores.append(knn.score(X_test, y_test))"
   ]
  },
  {
   "cell_type": "code",
   "execution_count": 33,
   "metadata": {},
   "outputs": [],
   "source": [
    "#plt.plot(scores)\n",
    "#plt.ylabel('accuracy', fontsize=15)\n",
    "#plt.xlabel('N', fontsize=15)"
   ]
  },
  {
   "cell_type": "markdown",
   "metadata": {},
   "source": [
    "#### Confusion matrix"
   ]
  },
  {
   "cell_type": "code",
   "execution_count": 34,
   "metadata": {},
   "outputs": [
    {
     "data": {
      "image/png": "[encoded data removed]",
      "text/plain": [
       "<Figure size 432x288 with 2 Axes>"
      ]
     },
     "metadata": {
      "needs_background": "light"
     },
     "output_type": "display_data"
    },
    {
     "data": {
      "image/png": "[encoded data removed]",
      "text/plain": [
       "<Figure size 432x288 with 2 Axes>"
      ]
     },
     "metadata": {
      "needs_background": "light"
     },
     "output_type": "display_data"
    }
   ],
   "source": [
    "titles_options = [(\"Confusion matrix, without normalization\", None),\n",
    "                  (\"Normalized confusion matrix\", 'true')]\n",
    "\n",
    "for title, normalize in titles_options:\n",
    "    disp = plot_confusion_matrix(knn, X_test, y_test, cmap=plt.cm.Greens, normalize=normalize)\n",
    "    disp.ax_.set_title(title)"
   ]
  },
  {
   "cell_type": "markdown",
   "metadata": {},
   "source": [
    "# 2.3. Conclusion and Recommendation"
   ]
  },
  {
   "cell_type": "markdown",
   "metadata": {},
   "source": [
    "From the analysis shown above we can see that the best performing method of classification of the reviews into binary class positive/negative is Logistic Regression method......"
   ]
  }
 ],
 "metadata": {
  "kernelspec": {
   "display_name": "Python 3",
   "language": "python",
   "name": "python3"
  },
  "language_info": {
   "codemirror_mode": {
    "name": "ipython",
    "version": 3
   },
   "file_extension": ".py",
   "mimetype": "text/x-python",
   "name": "python",
   "nbconvert_exporter": "python",
   "pygments_lexer": "ipython3",
   "version": "3.7.2"
  }
 },
 "nbformat": 4,
 "nbformat_minor": 2
}
