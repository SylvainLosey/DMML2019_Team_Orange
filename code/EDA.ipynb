{
 "cells": [
  {
   "cell_type": "markdown",
   "metadata": {},
   "source": [
    "#### EDA"
   ]
  },
  {
   "cell_type": "code",
   "execution_count": null,
   "metadata": {},
   "outputs": [],
   "source": [
    "pos=data.loc[data['sentiment'] == 'positive', ['mastacleaned_reviews']]\n",
    "neg=data.loc[data['sentiment'] == 'negative', ['mastacleaned_reviews']]\n",
    "\n",
    "pos_wordlist=[]\n",
    "neg_wordlist=[]\n",
    "for i in pos['mastacleaned_reviews']:\n",
    "    pos_wordlist=pos_wordlist + i\n",
    "print(pos_wordlist)\n",
    "for j in neg['mastacleaned_reviews']:\n",
    "    neg_wordlist=neg_wordlist + j\n",
    "print(neg_wordlist)"
   ]
  }
 ],
 "metadata": {
  "kernelspec": {
   "display_name": "Python 3",
   "language": "python",
   "name": "python3"
  },
  "language_info": {
   "codemirror_mode": {
    "name": "ipython",
    "version": 3
   },
   "file_extension": ".py",
   "mimetype": "text/x-python",
   "name": "python",
   "nbconvert_exporter": "python",
   "pygments_lexer": "ipython3",
   "version": "3.7.3"
  }
 },
 "nbformat": 4,
 "nbformat_minor": 2
}
