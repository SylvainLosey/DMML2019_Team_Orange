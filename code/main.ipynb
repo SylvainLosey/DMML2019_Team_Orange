{
 "cells": [
  {
   "cell_type": "markdown",
   "metadata": {},
   "source": [
    "# Project Orange: IMDB reviews sentiment analysis\n",
    "\n",
    "The purpose of the project is to build a model that would be able to classify the sentiment of a review of a movie and label if it has a positive or a negative sentiment. This way the opinions could be classified to be either negative or positive, while the medium sentiment is excluded from the analysis. \n",
    "Thus, the goal is to assign and weight either a positive or a negative connotation associated with each word or group of words. In addition, no weight is intended to be assigned to the words that are commonly used is sentence formation and that do not reflect any emotion. "
   ]
  },
  {
   "cell_type": "markdown",
   "metadata": {},
   "source": [
    "# 1. Required Libraries"
   ]
  },
  {
   "cell_type": "markdown",
   "metadata": {},
   "source": [
    "## Setup\n",
    "\n",
    "Install all required dependencies for the future analysis in the current Jupyter kernel."
   ]
  },
  {
   "cell_type": "code",
   "execution_count": 278,
   "metadata": {},
   "outputs": [
    {
     "name": "stdout",
     "output_type": "stream",
     "text": [
      "Requirement already up-to-date: scikit-learn in c:\\users\\cyrill\\anaconda3\\lib\\site-packages (0.22)\n",
      "Requirement already up-to-date: spacy in c:\\users\\cyrill\\anaconda3\\lib\\site-packages (2.2.3)\n",
      "Requirement already up-to-date: pandas in c:\\users\\cyrill\\anaconda3\\lib\\site-packages (0.25.3)\n",
      "Requirement already up-to-date: seaborn in c:\\users\\cyrill\\anaconda3\\lib\\site-packages (0.9.0)\n",
      "Requirement already up-to-date: sklearn in c:\\users\\cyrill\\anaconda3\\lib\\site-packages (0.0)\n",
      "Requirement already satisfied, skipping upgrade: numpy>=1.11.0 in c:\\users\\cyrill\\anaconda3\\lib\\site-packages (from scikit-learn) (1.16.4)\n",
      "Requirement already satisfied, skipping upgrade: joblib>=0.11 in c:\\users\\cyrill\\anaconda3\\lib\\site-packages (from scikit-learn) (0.13.2)\n",
      "Requirement already satisfied, skipping upgrade: scipy>=0.17.0 in c:\\users\\cyrill\\anaconda3\\lib\\site-packages (from scikit-learn) (1.2.1)\n",
      "Requirement already satisfied, skipping upgrade: murmurhash<1.1.0,>=0.28.0 in c:\\users\\cyrill\\anaconda3\\lib\\site-packages (from spacy) (1.0.2)\n",
      "Requirement already satisfied, skipping upgrade: thinc<7.4.0,>=7.3.0 in c:\\users\\cyrill\\anaconda3\\lib\\site-packages (from spacy) (7.3.1)\n",
      "Requirement already satisfied, skipping upgrade: cymem<2.1.0,>=2.0.2 in c:\\users\\cyrill\\anaconda3\\lib\\site-packages (from spacy) (2.0.3)\n",
      "Requirement already satisfied, skipping upgrade: catalogue<1.1.0,>=0.0.7 in c:\\users\\cyrill\\anaconda3\\lib\\site-packages (from spacy) (0.0.8)\n",
      "Requirement already satisfied, skipping upgrade: plac<1.2.0,>=0.9.6 in c:\\users\\cyrill\\anaconda3\\lib\\site-packages (from spacy) (1.1.3)\n",
      "Requirement already satisfied, skipping upgrade: setuptools in c:\\users\\cyrill\\anaconda3\\lib\\site-packages (from spacy) (41.0.1)\n",
      "Requirement already satisfied, skipping upgrade: blis<0.5.0,>=0.4.0 in c:\\users\\cyrill\\anaconda3\\lib\\site-packages (from spacy) (0.4.1)\n",
      "Requirement already satisfied, skipping upgrade: requests<3.0.0,>=2.13.0 in c:\\users\\cyrill\\anaconda3\\lib\\site-packages (from spacy) (2.22.0)\n",
      "Requirement already satisfied, skipping upgrade: wasabi<1.1.0,>=0.4.0 in c:\\users\\cyrill\\anaconda3\\lib\\site-packages (from spacy) (0.4.0)\n",
      "Requirement already satisfied, skipping upgrade: srsly<1.1.0,>=0.1.0 in c:\\users\\cyrill\\anaconda3\\lib\\site-packages (from spacy) (0.2.0)\n",
      "Requirement already satisfied, skipping upgrade: preshed<3.1.0,>=3.0.2 in c:\\users\\cyrill\\anaconda3\\lib\\site-packages (from spacy) (3.0.2)\n",
      "Requirement already satisfied, skipping upgrade: pytz>=2017.2 in c:\\users\\cyrill\\anaconda3\\lib\\site-packages (from pandas) (2019.1)\n",
      "Requirement already satisfied, skipping upgrade: python-dateutil>=2.6.1 in c:\\users\\cyrill\\anaconda3\\lib\\site-packages (from pandas) (2.8.0)\n",
      "Requirement already satisfied, skipping upgrade: matplotlib>=1.4.3 in c:\\users\\cyrill\\anaconda3\\lib\\site-packages (from seaborn) (3.1.0)\n",
      "Requirement already satisfied, skipping upgrade: tqdm<5.0.0,>=4.10.0 in c:\\users\\cyrill\\anaconda3\\lib\\site-packages (from thinc<7.4.0,>=7.3.0->spacy) (4.32.1)\n",
      "Requirement already satisfied, skipping upgrade: importlib-metadata>=0.20; python_version < \"3.8\" in c:\\users\\cyrill\\anaconda3\\lib\\site-packages (from catalogue<1.1.0,>=0.0.7->spacy) (0.23)\n",
      "Requirement already satisfied, skipping upgrade: urllib3!=1.25.0,!=1.25.1,<1.26,>=1.21.1 in c:\\users\\cyrill\\anaconda3\\lib\\site-packages (from requests<3.0.0,>=2.13.0->spacy) (1.24.2)\n",
      "Requirement already satisfied, skipping upgrade: certifi>=2017.4.17 in c:\\users\\cyrill\\anaconda3\\lib\\site-packages (from requests<3.0.0,>=2.13.0->spacy) (2019.6.16)\n",
      "Requirement already satisfied, skipping upgrade: idna<2.9,>=2.5 in c:\\users\\cyrill\\anaconda3\\lib\\site-packages (from requests<3.0.0,>=2.13.0->spacy) (2.8)\n",
      "Requirement already satisfied, skipping upgrade: chardet<3.1.0,>=3.0.2 in c:\\users\\cyrill\\anaconda3\\lib\\site-packages (from requests<3.0.0,>=2.13.0->spacy) (3.0.4)\n",
      "Requirement already satisfied, skipping upgrade: six>=1.5 in c:\\users\\cyrill\\anaconda3\\lib\\site-packages (from python-dateutil>=2.6.1->pandas) (1.12.0)\n",
      "Requirement already satisfied, skipping upgrade: cycler>=0.10 in c:\\users\\cyrill\\anaconda3\\lib\\site-packages (from matplotlib>=1.4.3->seaborn) (0.10.0)\n",
      "Requirement already satisfied, skipping upgrade: kiwisolver>=1.0.1 in c:\\users\\cyrill\\anaconda3\\lib\\site-packages (from matplotlib>=1.4.3->seaborn) (1.1.0)\n",
      "Requirement already satisfied, skipping upgrade: pyparsing!=2.0.4,!=2.1.2,!=2.1.6,>=2.0.1 in c:\\users\\cyrill\\anaconda3\\lib\\site-packages (from matplotlib>=1.4.3->seaborn) (2.4.0)\n",
      "Requirement already satisfied, skipping upgrade: zipp>=0.5 in c:\\users\\cyrill\\anaconda3\\lib\\site-packages (from importlib-metadata>=0.20; python_version < \"3.8\"->catalogue<1.1.0,>=0.0.7->spacy) (0.5.1)\n",
      "Requirement already satisfied: en_core_web_sm==2.2.5 from https://github.com/explosion/spacy-models/releases/download/en_core_web_sm-2.2.5/en_core_web_sm-2.2.5.tar.gz#egg=en_core_web_sm==2.2.5 in c:\\users\\cyrill\\anaconda3\\lib\\site-packages (2.2.5)\n",
      "Requirement already satisfied: spacy>=2.2.2 in c:\\users\\cyrill\\anaconda3\\lib\\site-packages (from en_core_web_sm==2.2.5) (2.2.3)\n",
      "Requirement already satisfied: srsly<1.1.0,>=0.1.0 in c:\\users\\cyrill\\anaconda3\\lib\\site-packages (from spacy>=2.2.2->en_core_web_sm==2.2.5) (0.2.0)\n",
      "Requirement already satisfied: blis<0.5.0,>=0.4.0 in c:\\users\\cyrill\\anaconda3\\lib\\site-packages (from spacy>=2.2.2->en_core_web_sm==2.2.5) (0.4.1)\n",
      "Requirement already satisfied: murmurhash<1.1.0,>=0.28.0 in c:\\users\\cyrill\\anaconda3\\lib\\site-packages (from spacy>=2.2.2->en_core_web_sm==2.2.5) (1.0.2)\n",
      "Requirement already satisfied: cymem<2.1.0,>=2.0.2 in c:\\users\\cyrill\\anaconda3\\lib\\site-packages (from spacy>=2.2.2->en_core_web_sm==2.2.5) (2.0.3)\n",
      "Requirement already satisfied: setuptools in c:\\users\\cyrill\\anaconda3\\lib\\site-packages (from spacy>=2.2.2->en_core_web_sm==2.2.5) (41.0.1)\n",
      "Requirement already satisfied: plac<1.2.0,>=0.9.6 in c:\\users\\cyrill\\anaconda3\\lib\\site-packages (from spacy>=2.2.2->en_core_web_sm==2.2.5) (1.1.3)\n",
      "Requirement already satisfied: thinc<7.4.0,>=7.3.0 in c:\\users\\cyrill\\anaconda3\\lib\\site-packages (from spacy>=2.2.2->en_core_web_sm==2.2.5) (7.3.1)\n",
      "Requirement already satisfied: preshed<3.1.0,>=3.0.2 in c:\\users\\cyrill\\anaconda3\\lib\\site-packages (from spacy>=2.2.2->en_core_web_sm==2.2.5) (3.0.2)\n",
      "Requirement already satisfied: catalogue<1.1.0,>=0.0.7 in c:\\users\\cyrill\\anaconda3\\lib\\site-packages (from spacy>=2.2.2->en_core_web_sm==2.2.5) (0.0.8)\n",
      "Requirement already satisfied: numpy>=1.15.0 in c:\\users\\cyrill\\anaconda3\\lib\\site-packages (from spacy>=2.2.2->en_core_web_sm==2.2.5) (1.16.4)\n",
      "Requirement already satisfied: requests<3.0.0,>=2.13.0 in c:\\users\\cyrill\\anaconda3\\lib\\site-packages (from spacy>=2.2.2->en_core_web_sm==2.2.5) (2.22.0)\n",
      "Requirement already satisfied: wasabi<1.1.0,>=0.4.0 in c:\\users\\cyrill\\anaconda3\\lib\\site-packages (from spacy>=2.2.2->en_core_web_sm==2.2.5) (0.4.0)\n",
      "Requirement already satisfied: tqdm<5.0.0,>=4.10.0 in c:\\users\\cyrill\\anaconda3\\lib\\site-packages (from thinc<7.4.0,>=7.3.0->spacy>=2.2.2->en_core_web_sm==2.2.5) (4.32.1)\n",
      "Requirement already satisfied: importlib-metadata>=0.20; python_version < \"3.8\" in c:\\users\\cyrill\\anaconda3\\lib\\site-packages (from catalogue<1.1.0,>=0.0.7->spacy>=2.2.2->en_core_web_sm==2.2.5) (0.23)\n",
      "Requirement already satisfied: urllib3!=1.25.0,!=1.25.1,<1.26,>=1.21.1 in c:\\users\\cyrill\\anaconda3\\lib\\site-packages (from requests<3.0.0,>=2.13.0->spacy>=2.2.2->en_core_web_sm==2.2.5) (1.24.2)\n",
      "Requirement already satisfied: idna<2.9,>=2.5 in c:\\users\\cyrill\\anaconda3\\lib\\site-packages (from requests<3.0.0,>=2.13.0->spacy>=2.2.2->en_core_web_sm==2.2.5) (2.8)\n",
      "Requirement already satisfied: certifi>=2017.4.17 in c:\\users\\cyrill\\anaconda3\\lib\\site-packages (from requests<3.0.0,>=2.13.0->spacy>=2.2.2->en_core_web_sm==2.2.5) (2019.6.16)\n",
      "Requirement already satisfied: chardet<3.1.0,>=3.0.2 in c:\\users\\cyrill\\anaconda3\\lib\\site-packages (from requests<3.0.0,>=2.13.0->spacy>=2.2.2->en_core_web_sm==2.2.5) (3.0.4)\n",
      "Requirement already satisfied: zipp>=0.5 in c:\\users\\cyrill\\anaconda3\\lib\\site-packages (from importlib-metadata>=0.20; python_version < \"3.8\"->catalogue<1.1.0,>=0.0.7->spacy>=2.2.2->en_core_web_sm==2.2.5) (0.5.1)\n",
      "[+] Download and installation successful\n"
     ]
    },
    {
     "name": "stdout",
     "output_type": "stream",
     "text": [
      "You can now load the model via spacy.load('en_core_web_sm')\n",
      "Collecting pyenchant\n",
      "  Using cached https://files.pythonhosted.org/packages/9e/54/04d88a59efa33fefb88133ceb638cdf754319030c28aadc5a379d82140ed/pyenchant-2.0.0.tar.gz\n"
     ]
    },
    {
     "name": "stderr",
     "output_type": "stream",
     "text": [
      "    ERROR: Complete output from command python setup.py egg_info:\n",
      "    ERROR: Traceback (most recent call last):\n",
      "      File \"<string>\", line 1, in <module>\n",
      "      File \"C:\\Users\\Cyrill\\AppData\\Local\\Temp\\pip-install-npemp53d\\pyenchant\\setup.py\", line 212, in <module>\n",
      "        import enchant\n",
      "      File \"C:\\Users\\Cyrill\\AppData\\Local\\Temp\\pip-install-npemp53d\\pyenchant\\enchant\\__init__.py\", line 92, in <module>\n",
      "        from enchant import _enchant as _e\n",
      "      File \"C:\\Users\\Cyrill\\AppData\\Local\\Temp\\pip-install-npemp53d\\pyenchant\\enchant\\_enchant.py\", line 145, in <module>\n",
      "        raise ImportError(msg)\n",
      "    ImportError: The 'enchant' C library was not found. Please install it via your OS package manager, or use a pre-built binary wheel from PyPI.\n",
      "    ----------------------------------------\n",
      "ERROR: Command \"python setup.py egg_info\" failed with error code 1 in C:\\Users\\Cyrill\\AppData\\Local\\Temp\\pip-install-npemp53d\\pyenchant\\\n"
     ]
    }
   ],
   "source": [
    "import sys\n",
    "!{sys.executable} -m pip install -U scikit-learn spacy pandas seaborn sklearn\n",
    "!{sys.executable} -m spacy download en_core_web_sm\n",
    "!{sys.executable} -m pip install pyenchant"
   ]
  },
  {
   "cell_type": "code",
   "execution_count": 279,
   "metadata": {},
   "outputs": [],
   "source": [
    "import pandas as pd\n",
    "import matplotlib.pyplot as plt\n",
    "import numpy as np\n",
    "import seaborn as sns\n",
    "import re\n",
    "import spacy\n",
    "\n",
    "\n",
    "from sklearn.feature_extraction.text import CountVectorizer,TfidfVectorizer\n",
    "from sklearn.linear_model import LogisticRegression\n",
    "from sklearn.neighbors import KNeighborsClassifier\n",
    "from sklearn import metrics\n",
    "from sklearn.model_selection import train_test_split\n",
    "from sklearn.pipeline import Pipeline\n",
    "from sklearn.preprocessing import LabelEncoder, OneHotEncoder\n",
    "from sklearn.tree import DecisionTreeClassifier\n",
    "from sklearn.utils.multiclass import unique_labels\n",
    "from sklearn.metrics import confusion_matrix, plot_confusion_matrix, average_precision_score\n",
    "from sklearn.metrics import precision_recall_curve, plot_precision_recall_curve\n",
    "\n",
    "\n",
    "%matplotlib inline\n",
    "sns.set_style(\"darkgrid\")\n",
    "sp = spacy.load('en_core_web_sm')"
   ]
  },
  {
   "cell_type": "markdown",
   "metadata": {},
   "source": [
    "# 2. EDA"
   ]
  },
  {
   "cell_type": "markdown",
   "metadata": {},
   "source": [
    "### Import dataset"
   ]
  },
  {
   "cell_type": "code",
   "execution_count": 280,
   "metadata": {},
   "outputs": [
    {
     "data": {
      "text/html": [
       "<div>\n",
       "<style scoped>\n",
       "    .dataframe tbody tr th:only-of-type {\n",
       "        vertical-align: middle;\n",
       "    }\n",
       "\n",
       "    .dataframe tbody tr th {\n",
       "        vertical-align: top;\n",
       "    }\n",
       "\n",
       "    .dataframe thead th {\n",
       "        text-align: right;\n",
       "    }\n",
       "</style>\n",
       "<table border=\"1\" class=\"dataframe\">\n",
       "  <thead>\n",
       "    <tr style=\"text-align: right;\">\n",
       "      <th></th>\n",
       "      <th>review</th>\n",
       "      <th>sentiment</th>\n",
       "    </tr>\n",
       "  </thead>\n",
       "  <tbody>\n",
       "    <tr>\n",
       "      <th>0</th>\n",
       "      <td>One of the other reviewers has mentioned that ...</td>\n",
       "      <td>positive</td>\n",
       "    </tr>\n",
       "    <tr>\n",
       "      <th>1</th>\n",
       "      <td>A wonderful little production. &lt;br /&gt;&lt;br /&gt;The...</td>\n",
       "      <td>positive</td>\n",
       "    </tr>\n",
       "    <tr>\n",
       "      <th>2</th>\n",
       "      <td>I thought this was a wonderful way to spend ti...</td>\n",
       "      <td>positive</td>\n",
       "    </tr>\n",
       "    <tr>\n",
       "      <th>3</th>\n",
       "      <td>Basically there's a family where a little boy ...</td>\n",
       "      <td>negative</td>\n",
       "    </tr>\n",
       "    <tr>\n",
       "      <th>4</th>\n",
       "      <td>Petter Mattei's \"Love in the Time of Money\" is...</td>\n",
       "      <td>positive</td>\n",
       "    </tr>\n",
       "  </tbody>\n",
       "</table>\n",
       "</div>"
      ],
      "text/plain": [
       "                                              review sentiment\n",
       "0  One of the other reviewers has mentioned that ...  positive\n",
       "1  A wonderful little production. <br /><br />The...  positive\n",
       "2  I thought this was a wonderful way to spend ti...  positive\n",
       "3  Basically there's a family where a little boy ...  negative\n",
       "4  Petter Mattei's \"Love in the Time of Money\" is...  positive"
      ]
     },
     "execution_count": 280,
     "metadata": {},
     "output_type": "execute_result"
    }
   ],
   "source": [
    "data = pd.read_csv(\"../data/imdb_dataset.csv\") \n",
    "\n",
    "# Keep the first 100 elements to reduce the load on cpu\n",
    "data=data[:50]\n",
    "data.head()"
   ]
  },
  {
   "cell_type": "code",
   "execution_count": 281,
   "metadata": {},
   "outputs": [
    {
     "name": "stdout",
     "output_type": "stream",
     "text": [
      "The base rate is 0.54\n"
     ]
    }
   ],
   "source": [
    "# Base rate, delete later\n",
    "a=data[data[\"sentiment\"]==\"positive\"].shape\n",
    "b=data[data[\"sentiment\"]==\"negative\"].shape\n",
    "base_rate=max(a[0], b[0])/data.shape[0]\n",
    "print(\"The base rate is \"+ str(base_rate))"
   ]
  },
  {
   "cell_type": "markdown",
   "metadata": {},
   "source": [
    "## Cleaning\n",
    "\n",
    "#### Text to lowercase"
   ]
  },
  {
   "cell_type": "code",
   "execution_count": 282,
   "metadata": {
    "scrolled": true
   },
   "outputs": [],
   "source": [
    "def to_lower(this_review):\n",
    "    this_review=this_review.lower()\n",
    "    return this_review"
   ]
  },
  {
   "cell_type": "markdown",
   "metadata": {},
   "source": [
    "#### Remove HTML elements"
   ]
  },
  {
   "cell_type": "code",
   "execution_count": 283,
   "metadata": {},
   "outputs": [],
   "source": [
    "REMOVE_HTML = re.compile(\"(<br\\s*/><br\\s*/>)|(\\-)|(\\/)\")\n",
    "\n",
    "def remove_html(review):\n",
    "    return REMOVE_HTML.sub(\" \", review) "
   ]
  },
  {
   "cell_type": "markdown",
   "metadata": {},
   "source": [
    "#### Identify and remove entities"
   ]
  },
  {
   "cell_type": "code",
   "execution_count": 284,
   "metadata": {},
   "outputs": [],
   "source": [
    "def recognize_it(this_review):\n",
    "    doc=sp(this_review)\n",
    "    \n",
    "    for i in doc.ents:\n",
    "            i=str(i)\n",
    "            this_review=this_review.replace(\" \"+i,\"\")\n",
    "    return this_review"
   ]
  },
  {
   "cell_type": "markdown",
   "metadata": {},
   "source": [
    "#### Lemmatization"
   ]
  },
  {
   "cell_type": "code",
   "execution_count": 285,
   "metadata": {},
   "outputs": [],
   "source": [
    "# Implementing lemmatization\n",
    "def lemmatize_it(this_review):\n",
    "    filtered_sent=[]\n",
    "\n",
    "    #  \"nlp\" Object is used to create documents with linguistic annotations.\n",
    "    lem = sp(this_review)\n",
    "    \n",
    "   # finding lemma for each word\n",
    "    for word in lem:\n",
    "        filtered_sent.append(word.lemma_)\n",
    "    return filtered_sent"
   ]
  },
  {
   "cell_type": "markdown",
   "metadata": {},
   "source": [
    "#### Tokenization (not used)"
   ]
  },
  {
   "cell_type": "code",
   "execution_count": 286,
   "metadata": {},
   "outputs": [],
   "source": [
    "# \"nlp\" Object is used to create documents with linguistic annotations.\n",
    "nlp = spacy.lang.en.English()\n",
    "\n",
    "def tokenize_review(this_review):\n",
    "    my_doc = nlp(this_review)\n",
    "    \n",
    "    # Create list of word tokens\n",
    "    token_list = []\n",
    "    for token in my_doc:\n",
    "        token_list.append(token.text)\n",
    "    return token_list"
   ]
  },
  {
   "cell_type": "markdown",
   "metadata": {},
   "source": [
    "#### Adapt spacy stopwords list to our topic"
   ]
  },
  {
   "cell_type": "code",
   "execution_count": 287,
   "metadata": {},
   "outputs": [],
   "source": [
    "#print stopword list from spacy\n",
    "spacy_stopwords = list(spacy.lang.en.stop_words.STOP_WORDS)\n",
    "\n",
    "remove_from_stopwordlist=[\"n't\", \"most\", \"much\", \"never\", \"no\", \"not\", \"nothing\", \"n‘t\", \"n’t\", \"really\", \"top\", \"very\", \"well\"]\n",
    "for word in spacy_stopwords:\n",
    "    if word in remove_from_stopwordlist:\n",
    "         spacy_stopwords.remove(word)\n",
    "\n",
    "add_to_stopwords=['.', ',', '!', '?', ':', '&', '...', '(', ')','-', '/', '\"', ';', '-PRON-', ' ', \"'\", '....', '  ', '*']\n",
    "for word in add_to_stopwords:\n",
    "    spacy_stopwords.append(word)"
   ]
  },
  {
   "cell_type": "markdown",
   "metadata": {},
   "source": [
    "####  Remove stopwords and punctuation"
   ]
  },
  {
   "cell_type": "code",
   "execution_count": 288,
   "metadata": {},
   "outputs": [],
   "source": [
    "def eliminate_stopwords(this_review):\n",
    "    \n",
    "    filtered_sent=[]\n",
    "\n",
    "    #  \"nlp\" Object is used to create documents with linguistic annotations.\n",
    "    doc = this_review\n",
    "    \n",
    "    # filtering stop words\n",
    "    for word in doc:\n",
    "        if word not in spacy_stopwords:\n",
    "            filtered_sent.append(word)\n",
    "    return filtered_sent\n",
    "    "
   ]
  },
  {
   "cell_type": "markdown",
   "metadata": {},
   "source": []
  },
  {
   "cell_type": "code",
   "execution_count": null,
   "metadata": {
    "scrolled": true
   },
   "outputs": [],
   "source": [
    "\n"
   ]
  },
  {
   "cell_type": "markdown",
   "metadata": {},
   "source": [
    "## Final dataset"
   ]
  },
  {
   "cell_type": "code",
   "execution_count": 289,
   "metadata": {},
   "outputs": [],
   "source": [
    "def MASTA_CLEAN(this_review):\n",
    "    this_review=to_lower(this_review)\n",
    "    this_review=remove_html(this_review)\n",
    "    this_review=recognize_it(this_review)\n",
    "    this_review=lemmatize_it(this_review)\n",
    "    this_review=eliminate_stopwords(this_review)\n",
    "    return this_review"
   ]
  },
  {
   "cell_type": "code",
   "execution_count": 327,
   "metadata": {},
   "outputs": [
    {
     "data": {
      "text/html": [
       "<div>\n",
       "<style scoped>\n",
       "    .dataframe tbody tr th:only-of-type {\n",
       "        vertical-align: middle;\n",
       "    }\n",
       "\n",
       "    .dataframe tbody tr th {\n",
       "        vertical-align: top;\n",
       "    }\n",
       "\n",
       "    .dataframe thead th {\n",
       "        text-align: right;\n",
       "    }\n",
       "</style>\n",
       "<table border=\"1\" class=\"dataframe\">\n",
       "  <thead>\n",
       "    <tr style=\"text-align: right;\">\n",
       "      <th></th>\n",
       "      <th>review</th>\n",
       "      <th>sentiment</th>\n",
       "      <th>mastacleaned_reviews</th>\n",
       "    </tr>\n",
       "  </thead>\n",
       "  <tbody>\n",
       "    <tr>\n",
       "      <th>0</th>\n",
       "      <td>One of the other reviewers has mentioned that ...</td>\n",
       "      <td>positive</td>\n",
       "      <td>[reviewer, mention, watch, oz, episode, hook, ...</td>\n",
       "    </tr>\n",
       "    <tr>\n",
       "      <th>1</th>\n",
       "      <td>A wonderful little production. &lt;br /&gt;&lt;br /&gt;The...</td>\n",
       "      <td>positive</td>\n",
       "      <td>[wonderful, little, production, filming, techn...</td>\n",
       "    </tr>\n",
       "    <tr>\n",
       "      <th>2</th>\n",
       "      <td>I thought this was a wonderful way to spend ti...</td>\n",
       "      <td>positive</td>\n",
       "      <td>[think, wonderful, way, spend, time, hot, sit,...</td>\n",
       "    </tr>\n",
       "    <tr>\n",
       "      <th>3</th>\n",
       "      <td>Basically there's a family where a little boy ...</td>\n",
       "      <td>negative</td>\n",
       "      <td>[basically, family, little, boy, jake, think, ...</td>\n",
       "    </tr>\n",
       "    <tr>\n",
       "      <th>4</th>\n",
       "      <td>Petter Mattei's \"Love in the Time of Money\" is...</td>\n",
       "      <td>positive</td>\n",
       "      <td>[petter, love, time, money, visually, stunning...</td>\n",
       "    </tr>\n",
       "  </tbody>\n",
       "</table>\n",
       "</div>"
      ],
      "text/plain": [
       "                                              review sentiment  \\\n",
       "0  One of the other reviewers has mentioned that ...  positive   \n",
       "1  A wonderful little production. <br /><br />The...  positive   \n",
       "2  I thought this was a wonderful way to spend ti...  positive   \n",
       "3  Basically there's a family where a little boy ...  negative   \n",
       "4  Petter Mattei's \"Love in the Time of Money\" is...  positive   \n",
       "\n",
       "                                mastacleaned_reviews  \n",
       "0  [reviewer, mention, watch, oz, episode, hook, ...  \n",
       "1  [wonderful, little, production, filming, techn...  \n",
       "2  [think, wonderful, way, spend, time, hot, sit,...  \n",
       "3  [basically, family, little, boy, jake, think, ...  \n",
       "4  [petter, love, time, money, visually, stunning...  "
      ]
     },
     "execution_count": 327,
     "metadata": {},
     "output_type": "execute_result"
    }
   ],
   "source": [
    "data['mastacleaned_reviews'] = data['review'].map(MASTA_CLEAN)\n",
    "data.head()"
   ]
  },
  {
   "cell_type": "code",
   "execution_count": 337,
   "metadata": {},
   "outputs": [
    {
     "name": "stdout",
     "output_type": "stream",
     "text": [
      "['reviewer', 'mention', 'watch', 'oz', 'episode', 'hook', 'right', 'exactly', 'happen', 'thing', 'strike', 'oz', 'brutality', 'unflinche', 'scene', 'violence', 'set', 'right', 'word', 'trust', 'not', 'faint', 'hearted', 'timid', 'pull', 'no', 'punch', 'regard', 'drug', 'sex', 'violence', 'hardcore', 'classic', 'use', 'word', 'oz', 'nickname', 'oswald', 'maximum', 'security', 'state', 'penitentary', 'focus', 'mainly', 'emerald', 'city', 'experimental', 'section', 'prison', 'cell', 'glass', 'face', 'inward', 'privacy', 'not', 'high', 'agenda', 'city', 'home', '..', 'aryan', 'latinos', 'scuffle', 'death', 'stare', 'dodgy', 'dealing', 'shady', 'agreement', 'never', 'far', 'away', 'main', 'appeal', 'fact', 'not', 'dare', 'forget', 'pretty', 'picture', 'paint', 'mainstream', 'audience', 'forget', 'charm', 'forget', 'romance', 'oz', 'not', 'mess', 'episode', 'strike', 'nasty', 'surreal', 'not', 'ready', 'watch', 'develop', 'taste', 'oz', 'accustomed', 'high', 'level', 'graphic', 'violence', 'not', 'violence', 'injustice', 'crooked', 'guard', 'sell', 'nickel', 'inmate', 'kill', 'order', 'away', 'well', 'mannered', 'middle', 'class', 'inmate', 'turn', 'prison', 'bitch', 'lack', 'street', 'skill', 'prison', 'experience', 'watch', 'oz', 'comfortable', 'uncomfortable', 'view', 'touch', 'dark', 'wonderful', 'little', 'production', 'filming', 'technique', 'very', 'unassuming', 'very', 'old', 'time', 'fashion', 'comforting', 'discomforte', 'sense', 'realism', 'entire', 'piece', 'actor', 'extremely', 'well', 'choose', 'not', 'polari', 'voice', 'truly', 'seamless', 'editing', 'guide', 'reference', 'diary', 'entry', 'not', 'well', 'worth', 'watching', 'terrificly', 'write', 'perform', 'piece', 'masterful', 'production', 'great', 'master', 'comedy', 'life', 'realism', 'really', 'come', 'home', 'little', 'thing', 'fantasy', 'guard', 'use', 'traditional', 'dream', 'technique', 'remain', 'solid', 'disappear', 'play', 'knowledge', 'sense', 'particularly', 'scene', 'concern', 'orton', 'halliwell', 'set', 'particularly', 'flat', 'halliwell', 'mural', 'decorate', 'surface', 'terribly', 'well', 'think', 'wonderful', 'way', 'spend', 'time', 'hot', 'sit', 'air', 'condition', 'theater', 'watch', 'light', 'hearted', 'comedy', 'plot', 'simplistic', 'dialogue', 'witty', 'character', 'likable', 'well', 'bread', 'suspect', 'serial', 'killer', 'disappoint', 'realize', 'not', 'match', 'point', 'risk', 'addiction', 'think', 'proof', 'fully', 'control', 'style', 'grow', 'love', 'laugh', 'comedy', 'dare', 'decade', 'never', 'impress', 'manage', 'tone', 'sexy', 'image', 'jump', 'right', 'average', 'spirit', 'young', 'woman', 'not', 'crown', 'career', 'witty', 'devil', 'wear', 'prada', 'interesting', 'superman', 'great', 'comedy', 'friend', 'petter', 'love', 'time', 'money', 'visually', 'stunning', 'film', 'watch', 'mr', 'offer', 'vivid', 'portrait', 'human', 'relation', 'movie', 'tell', 'money', 'power', 'success', 'people', 'different', 'situation', 'encounter', 'variation', 'play', 'theme', 'director', 'transfer', 'action', 'present', 'time', 'different', 'character', 'meet', 'connect', 'connect', 'way', 'person', 'no', 'know', 'previous', 'point', 'contact', 'stylishly', 'film', 'sophisticated', 'luxurious', 'look', 'people', 'live', 'world', 'live', 'habitat', 'thing', 'soul', 'picture', 'different', 'stage', 'loneliness', 'inhabit', 'big', 'city', 'not', 'exactly', 'good', 'place', 'human', 'relation', 'find', 'sincere', 'fulfillment', 'discern', 'case', 'people', 'encounter', 'acting', 'good', 'mr', 'direction', 'rest', 'talented', 'cast', 'character', 'come', 'alive', 'wish', 'mr', 'good', 'luck', 'await', 'anxiously', 'work', 'probably', 'time', 'favorite', 'movie', 'story', 'selflessness', 'sacrifice', 'dedication', 'noble', 'cause', 'not', 'preachy', 'boring', 'never', 'old', 'despite', 'time', 'performance', 'bring', 'tear', 'eye', 'very', 'truly', 'sympathetic', 'role', 'delight', 'kid', 'grandma', 'like', 'dress', 'midget', 'child', 'fun', 'watch', 'mother', 'slow', 'awakening', 'happen', 'world', 'roof', 'believable', 'startling', 'thumb', 'movie', 'sure', 'like', 'resurrection', 'dated', 'seahunt', 'series', 'tech', 'bring', 'kid', 'excitement', 'me.i', 'grow', 'black', 'white', 'tv', 'seahunt', 'gunsmoke', 'hero', 'week.you', 'vote', 'comeback', 'new', 'sea', 'hunt.we', 'need', 'change', 'pace', 'tv', 'work', 'world', 'water', 'adventure.oh', 'way', 'thank', 'outlet', 'like', 'view', 'viewpoint', 'tv', 'movies.so', 'ole', 'way', 'believe', 'wanna', 'say.would', 'nice', 'read', 'plus', 'point', 'sea', 'hunt.if', 'rhyme', 'line', 'let', 'submit', 'leave', 'doubt', 'quit', 'let', 'like', 'original', 'gut', 'wrenching', 'laughter', 'like', 'movie', 'young', 'old', 'love', 'movie', 'hell', 'mom', 'like', 'great', 'camp', 'fantastic', 'movie', 'prisoner', 'famous', 'actor', 'not', 'fan', 'roll', 'not', 'bad', 'good', 'thing', 'movie', 'soundtrack', 'man', 'constant', 'sorrow', 'recommand', 'movie', 'everybody', 'greeting', 'film', 'simply', 'not', 'remake', 'not', 'bad', 'film', 'fail', 'capture', 'flavor', 'terror', 'film', 'title', 'excellent', 'cast', 'hold', 'exception', 'not', 'bring', 'right', 'feel', 'character', 'major', 'fault', 'version', 'stray', 'far', 'story', 'attempt', 'grandiose', 'lose', 'thrill', 'early', 'film', 'trade', 'snazzy', 'special', 'effect', 'not', 'bad', 'film', 'enjoy', 'friction', 'terror', 'old', 'version', 'much', 'remember', 'film', 'film', 'watch', 'cinema', 'picture', 'dark', 'place', 'very', 'nervous', 'dad', 'brother', 'sister', 'cinema', 'berkshire', 'recall', 'tiger', 'lot', 'snow', 'film', 'appearance', 'grizzly', 'adams', 'actor', 'think', 'tiger', 'shoot', 'die', 'know', 'find', 'dvd', 'etc', 'let', 'know.the', 'cinema', 'turn', 'fitness', 'club', 'very', 'big', 'shame', 'near', 'cinema', 'away', 'love', 'hear', 'film', 'like', 'success', 'die', 'hard', 'sequel', 'no', 'surprise', 'really', 'glut', 'die', 'hard', '.....', 'movie', 'cash', 'wrong', 'guy', 'wrong', 'place', 'wrong', 'time', 'concept', 'die', 'hard', 'mountain', 'time', 'rescue', 'sly', 'stop', 'mom', 'shoot', 'career', 'big', 'nit', 'picker', 'dream', 'especially', 'expert', 'mountain', 'climbing', 'base', 'jumping', 'aviation', 'facial', 'expression', 'act', 'skill', 'excuse', 'dismiss', 'film', 'overblown', 'pile', 'junk', 'manage', 'act', 'horse', 'forget', 'nonsense', 'actually', 'very', 'lovable', 'undeniably', 'entertaining', 'romp', 'deliver', 'plenty', 'thrill', 'unintentionally', 'plenty', 'laugh', 'love', 'sneery', 'evilness', 'tick', 'box', 'band', 'baddie', 'good', 'permanently', 'harassed', 'hapless', 'turncoat', 'agent', 'traver', 'henry', 'portrait', 'serial', 'killer', 'noteworthy', 'cringe', 'worthy', 'performance', 'hal', 'insist', 'constantly', 'shriek', 'painful', 'disbelief', 'captor', 'man', 'never', 'hurt', 'anybody', 'whilst', 'surely', 'not', 'really', 'look', 'like', 'grin', 'girl', 'plummet', 'death', 'mention', 'london', 'burn', 'actor', 'craig', 'fairbrass', 'brit', 'bad', 'guy', 'come', 'cropper', 'whilst', 'use', 'hal', 'human', 'football', 'yes', 'not', 'help', 'enjoy', 'bit', 'hal', 'need', 'good', 'kicking', 'forget', 'well', 'judgement', 'care', 'never', 'happen', 'lower', 'acting', 'expectation', 'turn', 'volume', 'enjoy', 'look', 'qaulen', 'wear', 'helicopter', 'absolutely', 'stunning', 'movie', 'hr', 'kill', 'watch', 'not', 'regret', 'much', 'fun', 'carry', 'movie', 'shoulder', 'not', 'like', 'music', 'time', 'grow', 'hear', 'time', 'really', 'start', 'like', 'carpenter', 'story', 'little', 'singer', 'complex', 'life', 'fail', 'accurate', 'fact', 'detail', 'portray', 'not', 'fine', 'election', 'good', 'actress', 'play', 'very', 'naive', 'sort', 'think', 'role', 'need', 'strong', 'character', 'strong', 'personality', 'role', 'carpenter', 'terrific', 'great', 'job', 'mother', 'great', 'song', 'include', 'soundtrack', 'album', 'unfortunately', 'not', 'movie', 'top', 'rating', 'usa', 'country', 'cell', 'exotic', 'masterpiece', 'dizzying', 'trip', 'not', 'vast', 'mind', 'serial', 'killer', 'very', 'talented', 'director', 'conclusive', 'evidence', 'achieve', 'human', 'unleash', 'uninhibited', 'imagination', 'boldness', 'work', 'push', 'aside', 'thought', 'fall', 'formula', 'cliche', 'create', 'truly', 'magnificent', 'good', 'movie', 'read', 'numerous', 'complaint', 'film', 'style', 'no', 'substance', 'poorly', 'cast', 'character', 'bad', 'acting', 'negatively', 'criticize', 'film', 'miss', 'point', 'movie', 'landmark', 'tradition', 'future', 'movie', 'hopefully', 'follow', 'cell', 'open', 'door', 'world', 'imagination', 'slam', 'door', 'face', 'tell', 'director', 'not', 'want', 'personally', 'welcome', 'movie', 'tarsem', 'love', 'try', 'challenge', 'hear', 'talk', 'inside', 'mind', 'serial', 'killer', 'yes', 'agree', 'genre', 'bit', 'overworked', 'movie', 'try', 'depict', 'serial', 'killer', 'tick', 'work', 'fail', 'cell', 'not', 'blaze', 'trail', 'new', 'twist', 'physically', 'transport', 'mind', 'present', 'nothing', 'fascinating', 'journey', 'mysterious', 'subject', 'matter', 'study', 'like', 'movie', 'not', 'bog', 'much', 'scientific', 'jargon', 'try', 'explain', 'actually', 'enter', 'brain', 'instead', 'lie', 'laboratory', 'table', 'wrap', 'look', 'like', 'really', 'long', 'twizzler', 'jaunt', 'entity', 'cell', 'want', 'let', 'not', 'guess', 'people', 'not', 'like', 'true', 'like', 'explanation', 'movie', 'movie', 'venture', 'new', 'ground', 'let', 'desire', 'simply', 'notice', 'film', 'very', 'dark', 'reality', 'maybe', 'contrast', 'bright', 'visual', 'inside', 'brain', 'nonetheless', 'set', 'design', 'simply', 'astonishing', 'not', 'surprised', 'film', 'home', 'oscar', 'cinematography', 'good', 'costume', 'good', 'director', 'like', 'nominate', 'good', 'picture', 'notice', 'kind', 'repeat', 'not', 'nothing', 'not', 'stress', 'fantastic', 'think', 'cell', 'walk', 'movie', 'very', 'open', 'mind', 'wonder', 'eye', 'popping', 'feast', 'assure', 'good', 'time', 'guess', 'film', 'little', 'much', 'people', 'write', 'weird', 'crazy', 'very', 'much', 'psychology', 'imagination', 'human', 'mind', 'right', 'alley', 'leave', 'theater', 'hear', 'audience', 'member', 'movie', 'sure', 'lot', 'good', 'drug', 'want', 'smoke', 'war', 'movie', 'genre', 'redone', 'time', 'clichéd', 'dialogue', 'rehash', 'plot', 'top', 'action', 'sequence', 'unavoidable', 'conflict', 'deal', 'large', 'scale', 'combat', 'war', 'movie', 'come', 'grain', 'bring', 'truly', 'original', 'compelling', 'story', 'life', 'silver', 'screen', 'era', 'cold', 'mountain', 'star', 'film', 'cold', 'mountain', 'war', 'movie', 'not', 'entirely', 'accurate', 'true', 'film', 'open', 'literally', 'quick', 'dirty', 'battle', 'sequence', 'glory', 'director', 'shame', 'cold', 'mountain', 'not', 'much', 'period', 'people', 'time', 'story', 'center', 'disgruntle', 'confederate', 'soldier', 'play', 'disgusted', 'homesick', 'beautiful', 'hamlet', 'cold', 'mountain', 'equally', 'beautiful', 'leave', 'play', 'glance', 'setup', 'appear', 'formulaic', 'romantic', 'interest', 'home', 'audience', 'sympathy', 'root', 'reluctant', 'soldier', 'tribulation', 'battlefield', 'early', 'segment', 'film', 'relatively', 'unimpressive', 'somewhat', 'contrived', 'cold', 'mountain', 'soon', 'drastic', 'turn', 'intrepid', 'hero', 'turn', 'deserter', 'incidentally', 'save', 'audience', 'potentially', 'confusing', 'scenario', 'want', 'root', 'confederate', 'begin', 'long', 'odyssey', 'homeward', 'farm', 'cultured', 'way', 'prove', 'little', 'use', 'field', 'soon', 'transform', 'wilderbeast', 'come', 'rescue', 'course', 'tough', 'nails', 'thewes', 'play', 'help', 'farm', 'importantly', 'cope', 'loneliness', 'isolation', 'war', 'bring', 'setting', 'vivid', 'compelling', 'time', 'very', 'disturbing', 'portrait', 'war', 'tear', 'south', 'unfold', 'character', 'interact', 'surprisingly', 'complex', 'enhance', 'wonderful', 'performance', 'deadbeat', 'father', 'unrepentant', 'lawman', 'deeply', 'troubled', 'isolate', 'young', 'mother', 'greatly', 'affect', 'change', 'war', 'northern', 'aggression', 'bad', 'dark', 'pervade', 'anti', 'war', 'message', 'accent', 'effective', 'haunt', 'score', 'chillingly', 'beautiful', 'shot', 'communicate', 'audience', 'not', 'much', 'gruesome', 'battle', 'scene', 'scar', 'land', 'traumatize', 'people', 'war', 'fight', 'weapon', 'tactic', 'war', 'change', 'much', 'hellish', 'effect', 'land', 'timelessly', 'relevant', 'director', 'manage', 'maintain', 'gloomy', 'mood', 'film', 'atmosphere', 'unfortunately', 'denigrate', 'tepid', 'climax', 'little', 'justice', 'wonderfully', 'form', 'character', 'love', 'story', 'awkwardly', 'tack', 'beginning', 'end', 'film', 'inherently', 'distant', 'abstract', 'absurd', 'nature', 'relationship', 'way', 'fit', 'dismal', 'nature', 'rest', 'plot', 'no', 'mistake', 'cold', 'mountain', 'trait', 'feel', 'good', 'romance', 'inspiring', 'war', 'drama', 'unique', 'vision', 'era', 'sure', 'not', 'entertain', 'truly', 'absorb', 'audience', 'life', 'people', 'tear', 'apart', 'war', 'entirely', 'desperate', 'rid', 'terrible', 'repercussion', 'altogether', 'taut', 'organically', 'grip', 'crossfire', 'distinctive', 'suspense', 'thriller', 'unlikely', 'message', 'movie', 'use', 'look', 'device', 'noir', 'cycle', 'bivouac', 'company', 'soldier', 'cope', 'restlessness', 'hang', 'bar', 'end', 'stranger', 'apartment', 'drunk', 'belligerent', 'beat', 'host', 'sam', 'levene', 'death', 'happen', 'police', 'detective', 'investigate', 'help', 'assign', 'outfit', 'suspicion', 'fall', 'george', 'cooper', 'vanish', 'slay', 'buddy', 'steve', 'brodie', 'insure', 'silence', 'young', 'close', 'abet', 'superior', 'script', 'dmytryk', 'draw', 'precise', 'performance', 'starring', 'bobs', 'naturally', 'prototypical', 'angry', 'white', 'male', 'hilt', 'mitchum', 'underplay', 'characteristic', 'alert', 'nonchalance', 'role', 'not', 'central', 'young', 'never', 'well', 'fully', 'fledge', 'rendition', 'smart', 'mouthed', 'vulnerable', 'tramp', 'sad', 'sack', 'leech', 'life', 'haunt', 'small', 'peripheral', 'role', 'memorable', 'politically', 'engage', 'dmytryk', 'inevitably', 'succumb', 'sermonize', 'pretty', 'much', 'confine', 'young', 'reminiscence', 'grandfather', 'die', 'hand', 'incidentally', 'stretch', 'chronology', 'limit', 'no', 'attempt', 'render', 'explanation', 'glib', 'hate', 'jews', 'hillbilly', 'curiously', 'crossfire', 'survive', 'major', 'change', 'work', '   ', 'novel', 'base', 'richard', 'brooks', 'brick', 'foxhole', 'deal', 'gay', 'bash', 'murder', 'homosexuality', 'pale', 'news', 'holocaust', 'begin', 'emerge', 'ashe', 'feel', 'embolden', 'register', 'protest', 'anti', 'semitism', 'studio', 'quake', 'prospect', 'offend', 'potential', 'ticket', 'buyer', 'change', 'anti', 'semitism', 'work', 'general', 'specific', 'not', 'fit', 'smoothly', 'victim', 'chat', 'lonesome', 'drunk', 'young', 'soldier', 'invite', 'home', 'look', 'odd', 'especially', 'girlfriend', 'tow', 'raise', 'question', 'scenario', 'retain', 'inadvertently', 'leave', 'discreet', 'tip', 'original', 'engine', 'generate', 'murderous', 'rage', 'ardh', 'satya', 'fine', 'film', 'cinema', 'direct', 'great', 'director', 'successful', 'hard', 'hit', 'parallel', 'cinema', 'turn', 'commercial', 'success', 'inspiration', 'lead', 'director', 'film', 'tell', 'real', 'life', 'scenario', 'police', 'unlike', 'police', 'city', 'police', 'encompass', 'different', 'system', 'altogether', 'create', 'very', 'practical', 'outlay', 'real', 'life', 'approach', 'police', 'environment', 'police', 'film', 'describe', 'story', 'young', 'hot', 'blooded', 'cop', 'come', 'poor', 'family', 'father', 'harsh', 'police', 'constable', 'suffer', 'father', 'ideology', 'incidence', 'father', 'atrocity', 'mother', 'approach', 'immediate', 'action', 'crime', 'inert', 'craving', 'job', 'satisfaction', 'film', 'revolve', 'plot', 'constant', 'effort', 'crime', 'trample', 'seniors.this', 'lead', 'frustration', 'not', 'achieve', 'desire', 'job', 'satisfaction', 'result', 'frustration', 'anger', 'express', 'excessive', 'violence', 'turn', 'alcoholic', 'spirit', 'alive', 'constantly', 'fight', 'system', 'aware', 'system', 'inertly', 'associate', 'far', 'end', 'compromise', 'unethical', 'practice', 'negative', 'finally', 'suspend', 'direction', 'master', 'piece', 'thoroughly', 'hard', 'core', 'good', 'memorable', 'scene', 'break', 'underworld', 'gangster', 'house', 'arrest', 'follow', 'short', 'conversation', 'fantastic', 'scene', 'film', 'hair', 'raise', 'moment', 'practical', 'approach', 'script', 'major', 'punch', 'alcoholism', 'corruption', 'political', 'influence', 'courage', 'deception', 'integral', 'police', 'aspect', 'deal', 'brilliantly', 'finally', 'film', 'belong', 'man', 'om', 'puri', 'portray', 'traverse', 'emotion', 'absolutely', 'brilliantly', 'significant', 'quote', 'entire', 'film', 'pronounce', 'halfway', 'protagonist', 'middle', 'man', 'di', 'physically', 'non', 'descript', 'middle', 'aged', 'man', 'originally', 'southern', 'introduce', 'start', 'film', 'live', 'non', 'life', 'elegant', 'sterile', 'hotel', 'speaking', 'conduct', 'business', 'gradually', 'introduce', 'pivotal', 'apparently', 'unremarkable', 'scene', 'place', 'employee', 'bank', 'normally', 'count', 'di', 'cash', 'tell', 'miss', 'usual', 'suitcase', 'tightly', 'stack', 'banknote', 'news', 'quietly', 'icily', 'threaten', 'coax', 'bank', 'manager', 'want', 'close', 'account', 'tell', 'spectator', 'bluff', 'bluff', 'right', 'end', 'fear', 'catch', 'appear', 'ridiculous', 'not', 'bluff', 'halfway', 'tell', 'truth', 'eventually', 'bluff', 'halfway', 'tell', 'truth', 'accept', 'consequence', 'life', 'ultimately', 'love', 'exactly', 'reason', 'beginning', 'di', 'trouble', 'initially', 'unsympathetic', 'character', 'scowling', 'taciturn', 'curt', 'man', 'verge', 'man', 'not', 'reply', 'kind', 'chambermaid', 'waitress', 'hello', 'goodbye', 'point', 'spectator', 'care', 'deeply', 'point', 'non', 'life', 'decide', 'feel', 'concern', 'appear', 'ridiculous', 'film', 'describe', 'slow', 'reveal', 'di', 'hotel', 'oddly', 'disjoin', 'deliberate', 'pace', 'reveal', 'seemingly', 'mundane', 'irrelevant', 'detail', 'scene', 'unnecessary', 'reveal', 'essential', 'masterfully', 'construct', 'innovative', 'film', 'unfold', 'eye', 'existence', 'di', 'man', 'no', 'imagination', 'identity', 'life', 'unsympathetic', 'character', 'unexpectedly', 'end', 'love', 'feel', 'think', 'convey', 'elegantly', 'edit', 'sequence', 'very', 'interesting', 'use', 'music', 'theme', 'especially', 'stand', 'never', 'contrast', 'way', 'treat', 'mobster', 'odd', 'release', 'film', 'interesting', 'element', 'way', 'film', 'use', 'protagonist', 'insomnia', 'not', 'unlike', 'machinist', 'far', 'explicit', 'way', 'al', 'pacino', 'film', 'insomnia', 'use', 'condition', 'symbolise', 'deep', 'emotional', 'malaise', 'ram', 'deep', 'obscurity', 'unconscious', 'impossible', 'pin', 'point', 'cause', 'young', 'sympathetic', 'hotel', 'waitress', 'sofia', 'play', 'grand', 'daughter', 'legendary', 'anna', 'memory', 'good', 'friend', 'man', 'not', 'unexpectedly', 'provide', 'tiny', 'window', 'life', 'eventually', 'tentatively', 'accept', 'look', 'never', 'explicitly', 'spelt', 'spectator', 'know', 'man', 'like', 'accept', 'consequence', 'love', 'unimaginable', 'consequence', 'film', 'single', 'scene', 'sex', 'violence', 'film', 'unfold', 'time', 'concede', 'nothing', 'spectator', 'expectation', 'fine', 'representative', 'small', 'quiet', 'discreet', 'renaissance', 'place', 'cinema', 'decline', 'cinecittà', 'world', 'wait', 'produce', 'postino', 'like', 'fare', 'è', 'bella', 'style', 'film', 'neglect', 'explore', 'fine', 'creation', 'like', 'loss', 'world', 'okay', 'series', 'kind', 'route', 'week', 'week', 'character', 'help', 'ride', 'bit', 'pickle', 'wrong', 'great', 'character', 'actor', 'certainly', 'cool', 'series', 'create', 'great', 'writer', 'heaven', 'lack', 'love', 'not', 'season', 'series', 'never', 'know', 'rubbish', 'baffle', 'let', 'hope', 'good', 'past', 'series', 'movie', 'base', 'book', 'splendored', 'thing', 'tackles', 'issue', 'race', 'relation', 'white', 'topic', 'come', 'personal', 'experience', 'grow', 'background', 'beautiful', 'setting', 'love', 'story', 'unique', 'daring', 'atmosphere', 'time', 'story', 'stereotypical', 'romance', 'memorable', 'song', 'remembered', 'movie', 'beautiful', 'look', 'wonderful', 'oscar', 'nominate', 'performance', 'doctor', 'mixed', 'breed', 'advent', 'communism', 'mainland', 'never', 'look', 'well', 'play', 'romantic', 'lead', 'journalist', 'cover', 'war', 'tear', 'region', 'world', 'acting', 'top', 'notch', 'chemistry', 'lover', 'provide', 'genuine', 'moment', 'silver', 'screen', 'affection', 'sure', 'melt', 'heart', 'romantically', 'incline', 'cinematography', 'really', 'bring', 'especially', 'hilltop', 'overlook', 'harbor', 'lover', 'spend', 'intimate', 'moment', 'ending', 'real', 'tear', 'jerker', 'consider', 'sentimental', 'romance', 'passé', 'enjoy', 'classic', 'love', 'story', 'shine', 'example', 'movie', 'strike', 'home', 'remember', '80', 'father', 'work', 'factory', 'figure', 'work', 'hard', 'pride', 'never', 'dream', 'kid', 'car', 'note', 'degree', 'unlike', 'father', 'quit', 'grade', 'keen', 'sense', 'greed', 'laziness', 'not', 'like', 'know', 'movie', 'tv', 'ic', \"an't\", 'find', 'love', 'friend', 'pseudo', 'friend', 'family', 'relative', 'think', 'remind', 'time', 's', 'work', 'sake', 'feel', 'honor', 'pride', 'accomplish', 'think', 'feeling', 'heavy', 'downward', 'spiral', 'thing', 'overseas', 'disclaimer', 'movie', 'time', 'musical', 'allow', 'judge', 'movie', 'taint', 'not', 'musical', 'taint', 'watch', 'musical', ':)', 'actually', 'believe', 'work', 'well', 'role', 'think', 'let', 'dance', 'scene', 'good', 'movie', 'worthwhile', 'addition', 'compare', 'musical', 'dancer', 'singe', 'movie', 'much', 'superior', 'musical', 'well', 'cast', 'time', 'big', 'easy', 'movie', 'course', 'decor', 'lighting', 'dancing', 'singing', 'much', 'superior', 'movie', 'expect', 'deliver', 'song', 'common', 'musical', 'better', 'movie', 'news', 'good', 'movie', 'deliver', 'musical', 'opinion', 'especially', 'compare', 'musical', 'decor', 'bad', 'point', 'movie', 'obvious', 'cut', 'actor', 'talk', 'dub', 'singer', 'singe', 'portion', 'character', 'dancing', 'impeccable', 'end', 'product', 'enjoyable', 'musical', 'preston', 'power', 'glory', 'unseen', 'public', 'resurface', 'andn', 'television', 'meantime', 'gain', 'notoriety', 'citizen', 'book', 'suggest', 'welle', 'screenplay', 'base', 'screenplay', 'mention', 'beginning', 'thread', 'film', 'imdb', 'web', 'site', 'overstate', 'case', 'narrator', 'turn', 'deal', 'life', 'charles', 'foster', 'newsreel', 'represent', 'memoir', 'susan', 'alexander', 'raymond', 'butler', 'different', 'slant', 'reflect', 'faith', 'disappointment', 'hatred', 'man', 'course', 'reveal', 'failing', 'tell', 'version', 'story', 'method', 'lead', 'frequent', 'overlapping', 'telling', 'incident', 'not', 'situation', 'power', 'glory', 'yes', 'like', 'legendary', 'business', 'leader', 'spencer', 'tracy', 'man', 'rise', 'head', 'successful', 'railroad', 'system', 'country', 'narrator', 'garner', 'right', 'hand', 'man', 'ralph', 'morgan', 'wife', 'sarah', 'padden', 'restrict', 'nearly', 'dimensional', 'view', 'time', 'garner', 'narrate', 'talk', 'boss', 'friend', 'respect', 'love', 'wife', 'like', 'voice', 'skeptical', 'public', 'flaw', 'typical', 'example', 'work', 'way', 'anti', 'labor', 'union', 'troublemaker', 'not', 'care', 'slow', 'shenanigan', 'describes', 'confrontation', 'union', 'major', 'walk', 'preoccupy', 'detriment', 'home', 'life', 'wife', 'remind', 'use', 'scab', 'violence', 'end', 'strike', 'apparently', 'blow', 'union', 'headquarters', 'kill', 'people', 'view', 'man', 'pure', 'white', 'pure', 'black', 'not', 'really', 'knock', 'power', 'glory', 'not', 'duplicate', 'success', 'film', 'include', 'orson', 'welles', 'film', 'aware', 'story', 'present', 'well', 'hold', 'interest', 'end', 'thank', 'performance', 'tracy', 'wife', 'tragedy', 'worldly', 'success', 'pair', 'fully', 'bring', 'home', 'marry', 'want', 'well', 'wife', 'family', 'benefit', 'never', 'great', 'business', 'success', 'come', 'cost', 'deeply', 'involved', 'run', 'railroad', 'empire', 'expand', 'improve', 'constantly', 'away', 'home', 'much', 'lose', 'touch', 'notice', 'helen', 'vinson', 'young', 'woman', 'mistress', 'learn', 'unfaithful', 'behavior', 'destroy', 'similarly', 'shock', 'martyr', 'eye', 'marrie', 'present', 'son', 'turn', 'son', 'son', 'jr', 'philip', 'trent', 'discovery', 'incestuous', 'cuckold', 'cause', 'shoot', 'film', 'not', 'total', 'success', 'action', 'jump', 'time', 'unconvincingly', 'business', 'real', 'note', 'scene', 'tell', 'board', 'director', 'plan', 'purchase', 'small', 'rival', 'train', 'line', 'discuss', 'use', 'debenture', 'finance', 'plan', 'come', 'wealthy', 'background', 'bring', 'type', 'detail', 'rate', 'film', 'no', 'citizen', 'interest', 'movie', 'lover', 'attempt', 'business', 'realism', 'social', 'commentary', 'depression']"
     ]
    },
    {
     "name": "stdout",
     "output_type": "stream",
     "text": [
      "\n"
     ]
    },
    {
     "name": "stdout",
     "output_type": "stream",
     "text": [
      "['basically', 'family', 'little', 'boy', 'jake', 'think', 'zombie', 'closet', 'parent', 'fight', 'time', 'movie', 'slow', 'soap', 'opera', 'suddenly', 'decide', 'rambo', 'kill', 'zombie', 'ok', 'film', 'decide', 'thriller', 'drama', 'drama', 'movie', 'watchable', 'parent', 'divorce', 'argue', 'like', 'real', 'life', 'closet', 'totally', 'ruin', 'film', 'expect', 'boogeyman', 'similar', 'movie', 'instead', 'watch', 'drama', 'meaningless', 'thriller', 'spot', 'well', 'play', 'parent', 'descent', 'dialog', 'shot', 'ignore', 'amazing', 'fresh', 'innovative', 'idea', 'air', '7', '8', 'year', 'brilliant', 'thing', 'drop', 'not', 'really', 'funny', 'anymore', 'continue', 'decline', 'complete', 'waste', 'time', 'truly', 'disgraceful', 'far', 'fall', 'writing', 'painfully', 'bad', 'performance', 'bad', 'not', 'mildly', 'entertaining', 'respite', 'guest', 'host', 'probably', 'not', 'air', 'find', 'hard', 'believe', 'creator', 'hand', 'select', 'original', 'cast', 'choose', 'band', 'hack', 'follow', 'recognize', 'brilliance', 'fit', 'replace', 'mediocrity', 'feel', 'star', 'respect', 'original', 'cast', 'huge', 'success', 'awful', 'not', 'believe', 'air', 'encourage', 'positive', 'comment', 'film', 'look', 'forward', 'watch', 'film', 'bad', 'mistake', 'seen+', 'film', 'truly', 'bad', 'awful', 'way', 'editing', 'pacing', 'storyline', 'acting', 'soundtrack', 'film', 'song', 'lame', 'country', 'tune', 'play', 'time', 'film', 'look', 'cheap', 'nasty', 'bore', 'extreme', 'rarely', 'happy', 'end', 'credit', 'film', 'thing', 'prevent', 'score', 'harvey', 'far', 'good', 'performance', 'bit', 'effort', 'obsessive', 'phil', 'alien', 'quirky', 'film', 'humour', 'base', 'oddness', 'actual', 'punchline', 'very', 'odd', 'pretty', 'funny', 'movie', 'progress', 'not', 'find', 'joke', 'oddness', 'funny', 'anymore', 'low', 'budget', 'film', 's', 'never', 'problem', 'pretty', 'interesting', 'character', 'eventually', 'lose', 'interest', 'imagine', 'film', 'appeal', 'stoner', 'currently', 'partake', 'similar', 'better', 'try', 'brother', 'planet', 'movie', '12', 'come', 'recall', 'scary', 'scene', 'big', 'bird', 'eat', 'man', 'dangle', 'helplessly', 'parachute', 'right', 'air', 'horror', 'horror', 'young', 'kid', 'cheesy', 'b', 'film', 'afternoon', 'tired', 'formula', 'monster', 'type', 'movie', 'usually', 'include', 'hero', 'beautiful', 'woman', 'daughter', 'professor', 'happy', 'resolution', 'monster', 'die', 'end', 'not', 'care', 'much', 'romantic', 'angle', 'predictable', 'plot', 'love', 'unintentional', 'humor', 'psycho', 'come', 'love', 'star', 'bump', 'early', 'film', 'sit', 'notice', 'point', 'screenwriter', 'story', 'scary', 'possible', 'not', 'well', 'wear', 'formula', 'no', 'rule', 'not', 'big', 'fan', 'boll', 'work', 'not', 'enjoy', 'movie', 'postal', 'maybe', 'boll', 'apparently', 'buy', 'right', 'use', 'far', 'cry', 'long', 'ago', 'game', 'finsishe', 'people', 'enjoy', 'kill', 'mercs', 'infiltrate', 'secret', 'research', 'lab', 'locate', 'tropical', 'island', 'warn', 'not', 'far', 'cry', 'mr', 'boll', 'scheme', 'legion', 'schmuck', '..', 'feel', 'loneley', 'set', 'mr', 'boll', 'invite', 'countryman', 'play', 'player', 'actually', 'self', 'pretty', 'big', 'movie', 'biz', 'tale', 'like', 'play', 'yes', 'carver', 'hail', 'bratwurst', 'eat', 'dude', 'find', 'til', 'act', 'movie', 'pretty', 'badass', '..', 'people', 'complain', 'not', 'really', 'stay', 'true', 'carver', 'agenda', 'carver', 'person', 'perspective', 'not', 'really', 'know', 'look', 'like', 'kick', '..', 'storyline', 'film', 'demente', 'evil', 'mad', 'scientist', 'dr', 'play', 'genetically', 'mutate', 'soldier', 'gms', 'perform', 'top', 'secret', 'research', 'island', 'remind', 'spoiler', 'vancouver', 'reason', 's', 'right', 'no', 'palm', 'tree', 'instead', 'nice', 'rich', 'lumberjack', 'wood', 'not', 'far', 'start', 'cry', 'mehehe', 'not', '..', 'wanna', 'stay', 'true', 'boll', 'movie', 'not', 'disappoint', 'deliver', 'true', 'boll', 'experience', 'mean', 'suck', 'thing', 'worth', 'mention', 'imply', 'boll', 'good', 'work', 'area', 'film', 'nice', 'boat', 'fight', 'scene', 'crome', 'albino', 'gms', 'squad', 'enter', 'scene', 'laugh', '..', 'movie', 'far', 'cry', 'reek', 'scheisse', 'poop', 'simpleton', 'fa', 'r', 'wanna', 'wiff', 'ahead', '..', 'very', 'annoying', 'sidekick', 'wanna', 'shoot', 'minute', 'screen', 'cast', 'play', 'lose', 'appreciate', 'try', 'bring', 'masse', 'ruin', 'good', 'play', 'favorite', 'not', 'know', 'know', 'certain', 'rev', 'bowdler', 'bowdlerization', 'try', 'similar', 'victorian', 'era', 'word', 'not', 'improve', 'perfection', 'no', 'write', 'write', 'line', 'text', 'composition', 'never', 'forte', 'movie', 'saying', 'not', 'cut', 'kind', 'draw', 'erotic', 'scene', 'realize', 'amateurish', 'unbelievable', 'bit', 'film', 'sort', 'like', 'high', 'school', 'film', 'project', 'rosanna', 'arquette', 'thinking', 'stock', 'character', 'bizarre', 'suppose', 'town', 'pretty', 'hard', 'involve', 'no', 'lesson', 'learn', 'no', 'brilliant', 'insight', 'stilted', 'ridiculous', 'lot', 'skin', 'intrigue', 'videotape', 'nonsense', 'bisexual', 'relationship', 'heterosexual', 'encounter', 'absurd', 'dance', 'everybody', 'play', 'stereotype', 'role', 'pass', 'like', 'bad', 'waste', 'film', 'money', 'spend', 'starve', 'child', 'aid', '.....', 'movie', 'top', 'awful', 'movie', 'horrible', 'not', 'not', 'fight', 'monster', 'no', 'chance', 'character', 'development', 'busy', 'run', 'sword', 'fight', 'no', 'emotional', 'attachment', 'big', 'bad', 'machine', 'want', 'destroy', 'scene', 'blatantly', 'steal', 'movie', 'star', 'war', 'example', '>', 'ghost', 'scene', 'end', 'steal', 'final', 'scene', 'old', 'star', 'war', 'obee', 'vader', '>', 'spider', 'machine', 'beginning', 'exactly', 'like', 'frodo', 'attack', 'spider', 'return', 'king', 'elijah', 'wood', 'victim', 'film', 'wait', '......', 'hypnotize', 'sting', 'victim', 'wrap', '.....', 'uh', 'hello', '>', 'machine', 'vs.', '..', 'terminator', '.....', 'example', 'waste', 'time', 'tell', 'juvenile', 'story', 'line', 'rush', 'juvenile', 'conclusion', 'movie', 'not', 'decide', 'child', 'movie', 'adult', 'movie', 'not', 'much', 'awful', 'real', 'disappointment', 'save', 'money', 'awful', 'film', 'real', 'stinker', 'nominate', 'golden', 'globe', 'story', 'famous', 'female', 'renaissance', 'painter', 'mangle', 'recognition', 'complaint', 'not', 'liberty', 'fact', 'story', 'good', 'perfectly', 'fine', 'simply', 'bizarre', '   ', 'account', 'true', 'story', 'artist', 'far', 'well', 'film', 'come', 'dishwat', 'dull', 'script', 'suppose', 'not', 'naked', 'people', 'factual', 'version', 'hurriedly', 'cap', 'end', 'summary', 'artist', 'life', '   ', 'save', 'favor', 'rest', 'film', 'brevity', 'terrible', 'misfortune', 'view', 'b', 'movie', 'entirety', '   ', 'save', 'time', 'money', 'bad', 'b', 'movie', 'time', 'not', 'b', 'movie', 'like', 'f', 'movie', 'fail', 'aspect', 'good', 'movie', 'story', 'not', 'interesting', 'actor', 'paper', 'thin', 'not', 'believable', 'bad', 'direction', 'action', 'sequence', 'fake', 'funny', '.......', 'movie', 'pack', 'crappy', 'liner', 'no', 'respectable', 'person', 'find', 'amusing', 'little', 'bit', 'movie', 'suppose', 'gear', 'man', 'woman', 'utterly', 'unattractive', 'especially', 'old', 'wrinkle', 'thing', 'come', 'end', 'try', 'appear', 'sexy', 'weird', 'horrible', 'costume', 'fail', 'miserably', 'ridiculous', 'b', 'movie', 'laugh', 'painful', 'watch', 'let', 'thing', 'straight', 'anime', 'fan', 'matter', 'fact', 'use', 'watch', 'speed', 'racer', 'time', 'preschool', 'b', 'like', 'b', 'movie', 'hilarious', 'c', 'like', 'godzilla', 'movie', 'lot', 'movie', 'come', 'like', 'usual', 'b', 'movie', 'crappy', 'fx', 'sudden', 'boom', 'anime', 'come', 'movie', 'animation', 'very', 'bad', 'cheap', 'bad', 'remember', 'speed', 'racer', 'crissake', 'fact', 'cheap', 'scene', 'movie', 'vividly', 'remember', 'bunch', 'kid', 'run', 'school', 'kid', 'fx', 'terrible', 'look', 'bad', 'godzilla', 'addition', 'transition', 'live', 'action', 'animation', 'unorganized', 'voices(especially', 'dub', 'view', 'beg', 'dad', 'tape', 'dvd', 'player', 'thing', 'survive', 'crack', 'joke', 'comment', 'like', 'robots', 'joel', 'mike', 'pick', 'season', 'honestly', 'way', 'barely', 'enjoy', 'movie', 'survive', 'time', 'heck', 'plan', 'fellow', 'otaku', 'pal', 'stupid', 'pretty', 'painful', 'watch', 'unintentionally', 'hilarious', 'time', 'movie', 'improvement', 'originally', 'accord', 'grade', 'scale', 'mean', 'pretty', 'much', 'boring', 'bad', 'fun', 'count', 'find', 'way', 'fun', 'fun', 'count', 'bad', 'movie', 'worldfest', 'receive', 'applause', 'think', 'receive', 'recognition', 'base', 'know', 'actor', 'film', 'great', 'j.beals', 'movie', 'm.parker', 'much', 'well', 'actress', 'allow', 'rest', 'acting', 'hard', 'judge', 'movie', 'ridiculous', 'predictable', 'main', 'character', 'totally', 'unsympathetic', 'bore', 'watch', 'no', 'real', 'emotional', 'depth', 'story', 'movie', 'revolve', 'actor', 'not', 'work', 'not', 'feel', 'very', 'original', 'development', 'cop', 'feel', 'like', 'straight', 'video', 'movie', 'not', 'good', 'standard', 'film', 'try', 'thing', 'sting', 'political', 'satire', 'blockbuster', 'sappy', 'romantic', 'comedy', 'family', 'value', 'promo', 'list', 'fail', 'miserably', 'interest', 'turn', 'end', 'appreciate', 'spirit', 'depress', 'clumsy', 'effort', 'especially', 'target', 'reflect', 'lack', 'existence', 'critique', 'simply', 'poor', 'writing', 'direction', 'production', 'particular', 'film', 'critique', 'corporatization', 'war', 'poke', 'fun', 'way', 'diminish', 'true', 'atrocity', 'happen', 'remind', 'bit', 'king', 'similarly', 'trivialize', 'genuine', 'cause', 'concern', 'movie', 'frustrating', 'energetic', 'totally', 'prepared', 'good', 'time', 'think', 'able', 'stand', 'wrong', 'weird', 'looping', 'like', 'watch', 'america', 'funniest', 'home', 'video', 'damn', 'parent', 'hate', 'much', 'stereo', 'typical', 'latino', 'family', 'need', 'speak', 'person', 'responsible', 'need', 'talk', 'little', 'girl', 'hang', 'hate', 'mention', 'final', 'scene', 'transcend', 'gloriously', 'bad', 'badness', 'movie', 'crappy', 'dancing', 'horrible', 'beautiful', 'exposure', 'templario', 'not', 'good', 'excited', 'find', 'title', 'offering', 'anchor', 'bay', 'video', 'bring', 'cult', 'classic', 'spider', 'baby', 'print', 'quality', 'excellent', 'not', 'hide', 'fact', 'film', 'deadly', 'dull', 'thrilling', 'open', 'sequence', 'villager', 'exact', 'terrible', 'revenge', 'templar', 'set', 'thing', 'motion', 'movie', 'slow', 'ponderous', 'ultimately', 'unfulfille', 'add', 'insult', 'injury', 'movie', 'dub', 'not', 'subtitle', 'promise', 'video', 'jacket', 'watch', 'film', 'not', 'really', 'expect', 'much', 'pack', 'film', 'pretty', 'terrible', 'way', 'fiver', 'expect', 'know', 'right', 'terrible', 'movie', 'stretch', 'interesting', 'point', 'occasional', 'camcorder', 'view', 'nice', 'touch', 'drummer', 'very', 'like', 'drummer', 'i.e', 'damned', 'annoying', 'well', 's', 'actually', 'problem', 'boring', 'assume', 'attempt', 'build', 'tension', 'lot', 'nothing', 'happen', 'utterly', 'tedious', 'thumb', 'fast', 'forward', 'button', 'ready', 'press', 'movie', 'seriously', 'lead', 'singer', 'band', 'great', 'looking', 'coz', 'not', 'mention', 'beautiful', 'hell', 'lot', 'think', 'look', 'bit', 'like', 'meercat', 'not', 'mention', 'killer', 'not', 'not', 'worth', 'explain', 'far', 'concern', 'star', 'reason', 'watch', 'exception', 'actually', 'funny', 'not', 'acting', 'talent', 'certainly', 'lot', 'bad', 'lot', 'well', 'good', 'avoid', 'bored', 'watch', 'paint', 'dry', 'buy', 'film', 'blockbuster', '$', '3.00', 'sound', 'interesting', 'bit', 'ranma', 'esque', 'idea', 'drag', 'skeleton', 'cute', 'girl', 'mini', 'skirt', 'restricted', 'view', 'sticker', 'think', 'sweet', 'sincere', 'come', 'age', 'story', 'weird', 'indie', 'edge', 'wrong', 'watch', 'wonder', 'restrict', 'sticker', 'hardly', 'foul', 'language', 'little', 'violence', 'close', 'thing', 'nudity', 'honestly', 'not', 'usually', 'hope', 'girl', 'nightgown', 'pantie', 'pantie', 'lot', 'movie', 'no', 'matter', 'wear', 'miniskirt', 'sort', 'anti', 'religious', 'humor', 'tame', 'lame', 'caricatured', 'insincere', 'derivative', 'unoriginal', 'bad', 'not', 'funny', 'slight', 'well', 'listen', 'rolex', 'television', 'barely', 'qualify', 'pg', 'not', 'rate', 'blockbuster', 'refuse', 'let', 'age', '17', 'rent', 'pornographic', 'little', 'kid', 'rent', 'edit', 'version', 'requiem', 'dream', 'insist', 'bad', 'not', 'way', 'way', 'worry', 'thing', 'leave', 'offend', 'people', 'idea', 'suicide', 'beginning', 'anybody', 'need', 'movie', 'honestly', 'portray', 'suicide', 'not', 'well', 'like', 'virgin', 'suicides', 'teenager', 'movie', 'rate', 'r', 'purely', 'suicide', 'aspect', 'little', 'chance', 'turn', 'story', 'write', 'pg', 'movie', 'main', 'character', 'suicide', 'top', 'lead', 'cause', 'death', 'teenager', 'think', 'number', 'chance', 'teen', 'affect', 'no', 'movie', '10', 'plot', 'death', 'little', 'child', 'hopper', 'investigate', 'killing', 'movie', 'appear', 'trouble', 'daughter', 'end', 'serial', 'killer', 'catch', 'find', 'dunnit', 'terrible', 'acting', 'actor', 'unbelievable', 'bad', 'actor', 'include', 'hopper', 'like', 'much', 'waste', 'time', 'not', 'watch', 'movie', 'warn', 'watch', 'movie', 'lose', 'plot', 'well', 'not', 'really', 'begin', 'begin', 'achingly', 'tedious', 'scene', 'heroine', 'sit', 'actually', 'no', 'sense', 'menace', 'forebode', 'create', 'apparently', 'constant', 'thunderstorm', 'strangely', 'never', 'actually', 'hear', 'great', 'double', 'glazing', 'apparently', 'town', 'walk', 'away', 'girl', 'serve', 'no', 'purpose', 'plot', 'provide', 'surprisingly', 'quick', 'gory', 'murder', 'tedium', 'unbearable', 'beginning', 'suggest', 'spate', 'of+', 'killing', 'area', 'apparent', 'killer', 'never', 'venture', 'far', 'bizarre', 'ritual', 'pretty', 'much', 'sum', 'film', 'inherent', 'lack', 'direction', 'add', 'lead', 'actress', 'not', 'act', 'willing', 'completely', 'irrelevant', 'nude', 'shower', 'scene', 'video', 'truly', 'nasty', 'not', 'way', 'hope', 'following', 'simply', 'ban', '80', 'final', 'surprisingly', 'extend', 'murder', 'offer', 'nothing', 'curiosity', 'value', 'classic', 'daft', 'murder', 'not', 'worry', 'telegraph', 'walk', 'wood', 'victim', 'come', 'steep', 'upward', 'slope', 'obviously', 'struggle', 'halfway', 'figure', 'top', 'dress', 'black', 'brandish', 'large', 'scythe', 'slide', 'run', 'like', 'rest', 'no', 'course', 'not', 'struggle', 'top', 'stand', 'conveniently', 'nice', 'upright', 'murder', 'weapon', 'really', 'movie', '..', 'sit', 'pile', 'husband', 'wonder', 'actually', 'product', 'experiment', 'computer', 'program', 'produce', 'movie', 'listless', 'propaganda', 'throw', 'face', 'film', 'prove', 'disappointingly', 'work', 'human', 'conspiracy', 'theorist', 'quote', 'like', 'steal', 'declaration', 'independence', 'protect', 'like', 'way', 'justify', 'action', 'like', 'invasion', 'etc', 'fact', 'cage', 'spews', 'line', 'like', 'never', 'use', 'declaration', 'independence', 'bargaining', 'chip', 'straight', 'face', 'husband', 'wonder', 'entire', 'cast', 'valium', 'shoot', 'scene', 'reasoning', 'plot', 'turn', 'new', 'clue', 'truly', 'ridiculous', 'impossible', 'follow', 'bonus', 'plot', 'dr', 'chide', 'involve', 'never', 'shut', 'clearly', 'movie', 'look', 'feel', 'need', 'slap', 'dr', 'title', 'character', 'gravity', 'point', 'cage', 'character', 'not', 'shut', 'camera', 'pan', 'look', 'poutily', 'hand', 'like', 'child', 'truly', 'grotesque', 'benefit', 'movie', 'astonishingly', 'bad', 'laugh', 'really', 'scary', 'thing', 'majority', 'people', 'watch', 'movie', 'enjoy', '.....', 'clichés', 'movie', 'type', 'no', 'substance', 'plot', 'end', 'movie', 'feel', 'like', 'sucker', 'watch', 'production', 'good', 'script', 'acting', 'b', 'movie', 'quality', 'casting', 'poor', 'good', 'actor', 'mix', 'crumby', 'actor', 'good', 'actor', 'not', 'hold', 'lift', 'movie', 'not', 'worthy', 'word', 'meet', 'minimum', 'requirement', 'line', 'gooding', 'play', 'caricature', 'movie', 'look', 'mindless', 'entertainment', 'not', 'recommend', 'movie', 'film', 'rage', 'bad', 'direction', 'logic', 'continuity', 'change', 'plot', 'script', 'dialogde', 'cry', 'pain', 'come', 'crappy', 'know', 'b', 'movie', 'sure', 'w', 'movie', 'w', '=', 'waste', 'example', 'law', 'officer', 'surround', 'trailer', 'house', 'a.', 'inside', 'confuse', 'cop', 'huge', 'gun', 'battle', 'ensue', 'kill', 'straight', 'cop', 'blast', 'away', 'company', 'blast', 'away', 'cop', 'fall', 'like', 'domino', 'drive', 'circle', 'not', 'hit', 'single', 'bullet', 'pellet', 'kill', 'not', 'notice', 'damn', 'guy', 'tough', 'truly', 'miracle', 'not', 'shooter', 'hold', 'bullet', 'miracle', 'hear', 'good', 'thing', 'state', 'grace', 'come', 'open', 'mind', 'think', 'god', 'army', 'okay', 'think', 'maybe', 'improve', 'mature', 'filmmaker', 'film', 'begin', 'shaky', 'acting', 'think', 'well', 'maybe', 'well', 'unfortunately', 'never', 'picture', 'start', 'introduce', 'elder', '   ', 'mormon', 'missionary', '   ', 'audience', 'know', 'grow', 'care', 'instead', 'story', 'degenerate', 'highly', 'improbable', 'series', 'unfortunate', 'event', 'highlight', 'blatant', 'disobedience', 'missionary', 'undeniably', 'exist', 'rarely', 'level', 'portray', 'laughable', 'success', 'movie', 'successful', 'alienation', 'target', 'audience', 'unrealistically', 'inaccurately', 'portray', 'life', 'mormon', 'missionary', 'accomplish', 'nothing', 'anger', 'predominantly', 'mormon', 'audience', 'film', 'no', 'way', 'reflect', 'reality', 'mission', 'nothing', 'like', 'serve', 'mormon', 'mission', 'attest', 'fact', 'gang', 'life', 'certainly', 'contain', 'much', 'explicit', 'language', 'occasional', 'mild', 'vulgarity', 'conclusion', 'assume', 'suppose', 'touch', 'audience', 'inspire', 'believe', 'forgiveness', 'available', 'unbelievable', \"c'mon\", 'entire', 'mission', 'gather', 'elder', 'send', 'home', '   ', 'mom', 'girl', 'stand', 'right', 'cheesy', 'time', 'try', 'movie', 'identify', 'protocol', 'implausible', 'movie', 'save', 'grace', 'star', 'good', 'cast', 'support', 'actor', 'story', 'revolve', 'ditzy', 'cocktail', 'waitress', 'famous', 'inadvertently', 'save', 'life', 'dignitary', 'story', 'downhill', 'halfway', 'movie', 'charm', 'not', 'save', 'movie', 'fan', 'not', 'way', 'film', 'film', 'classify', 'drama', 'no', 'idea', 'try', 'erase', 'cv', 'historically', 'accurate', 'moses', 'meld', 'noah', 'lot', 'nephew', 'lot', 'turn', 'bear', 'canaanite', 'wander', 'really', 'scriptwriter', 'think', 'ignorance', 'remember', 'noah', 'animal', 'lot', 'canaanite', 'stuff', 'school', 'try', 'offend', 'maximum', 'number', 'people', 'planet', 'possible', 'historian', 'archaeologist', 'geologist', 'psychologist', 'linguist', 'matter', 'fact', 'not', 'offend', 'modicum', 'taste', 'wince', 'average', 'surprisingly', 'tame', 'fulci', 'giallo', 'mean', 'bad', 'normal', 'standard', 'redeem', 'solid', 'build', 'nice', 'touch', 'neat', 'time', 'twist', 'issue', 'vision', 'clairvoyance', 'genre', 'well', 'know', 'weakness', 'gear', 'banal', 'dialogue', 'wooden', 'acting', 'illogical', 'plot', 'point', 'finale', 'much', 'long', 'denouement', 'prove', 'lame', 'shall', 'fulci', 'ironic', 'handling', 'giallo', 'norm', 'amusing', 'yellow', 'clue', 'look', 'limp', 'killer']\n"
     ]
    }
   ],
   "source": [
    "pos=data.loc[data['sentiment'] == 'positive', ['mastacleaned_reviews']]\n",
    "neg=data.loc[data['sentiment'] == 'negative', ['mastacleaned_reviews']]\n",
    "\n",
    "pos_wordlist=[]\n",
    "neg_wordlist=[]\n",
    "for i in pos['mastacleaned_reviews']:\n",
    "    pos_wordlist=pos_wordlist + i\n",
    "print(pos_wordlist)\n",
    "for j in neg['mastacleaned_reviews']:\n",
    "    neg_wordlist=neg_wordlist + j\n",
    "print(neg_wordlist)"
   ]
  },
  {
   "cell_type": "code",
   "execution_count": 324,
   "metadata": {},
   "outputs": [],
   "source": [
    "# Process all reviews and save to csv\n",
    "#data = pd.read_csv(\"../data/imdb_dataset.csv\") \n",
    "\n",
    "#data['review'] = data['review'].map(MASTA_CLEAN)\n",
    "\n",
    "#data.to_csv(\"../data/cleaned_dataset.csv\", index=False)\n"
   ]
  },
  {
   "cell_type": "code",
   "execution_count": 293,
   "metadata": {},
   "outputs": [],
   "source": [
    "#data = pd.read_csv(\"../data/cleaned_dataset.csv\") \n",
    "#data.head()"
   ]
  },
  {
   "cell_type": "markdown",
   "metadata": {},
   "source": [
    "# 3. Analysis\n",
    "\n",
    "#### Splitting the dataset into training and test sets"
   ]
  },
  {
   "cell_type": "code",
   "execution_count": 294,
   "metadata": {},
   "outputs": [],
   "source": [
    "X = data['review'] # the features we want to analyze, we can play with others too\n",
    "y = data['sentiment'] # the labels, or answers, we want to test against\n",
    "\n",
    "X_train, X_test, y_train, y_test = train_test_split(X, y, test_size=0.2, random_state=72)"
   ]
  },
  {
   "cell_type": "markdown",
   "metadata": {},
   "source": [
    "### 3.1 Logistic Model"
   ]
  },
  {
   "cell_type": "code",
   "execution_count": 295,
   "metadata": {},
   "outputs": [
    {
     "data": {
      "text/plain": [
       "Pipeline(memory=None,\n",
       "         steps=[('vectorizer',\n",
       "                 CountVectorizer(analyzer='word', binary=False,\n",
       "                                 decode_error='strict',\n",
       "                                 dtype=<class 'numpy.int64'>, encoding='utf-8',\n",
       "                                 input='content', lowercase=True, max_df=1.0,\n",
       "                                 max_features=None, min_df=1,\n",
       "                                 ngram_range=(1, 2), preprocessor=None,\n",
       "                                 stop_words=None, strip_accents=None,\n",
       "                                 token_pattern='(?u)\\\\b\\\\w\\\\w+\\\\b',\n",
       "                                 tokenizer=<function MASTA_CLEAN at 0x000001F9B2248378>,\n",
       "                                 vocabulary=None)),\n",
       "                ('classifier',\n",
       "                 LogisticRegression(C=1.0, class_weight=None, dual=False,\n",
       "                                    fit_intercept=True, intercept_scaling=1,\n",
       "                                    l1_ratio=None, max_iter=100,\n",
       "                                    multi_class='auto', n_jobs=None,\n",
       "                                    penalty='l2', random_state=None,\n",
       "                                    solver='lbfgs', tol=0.0001, verbose=0,\n",
       "                                    warm_start=False))],\n",
       "         verbose=False)"
      ]
     },
     "execution_count": 295,
     "metadata": {},
     "output_type": "execute_result"
    }
   ],
   "source": [
    "classifier = LogisticRegression(solver=\"lbfgs\")\n",
    "\n",
    "count_vector = CountVectorizer(tokenizer = MASTA_CLEAN, ngram_range = (1,2))\n",
    "\n",
    "# Create pipeline using Bag of Words\n",
    "pipe = Pipeline([('vectorizer', count_vector), ('classifier', classifier)])\n",
    "\n",
    "# Fit Model\n",
    "pipe.fit(X_train,y_train)"
   ]
  },
  {
   "cell_type": "markdown",
   "metadata": {},
   "source": [
    "#### Results"
   ]
  },
  {
   "cell_type": "code",
   "execution_count": 296,
   "metadata": {},
   "outputs": [
    {
     "name": "stdout",
     "output_type": "stream",
     "text": [
      "Train set accuracy: 1.0\n",
      "Test set accuracy is: 0.5\n",
      "Train set precision: 1.0\n",
      "Train set recall: 1.0\n",
      "Test set precision: 1.0\n",
      "Test set recall: 0.16666666666666666\n"
     ]
    }
   ],
   "source": [
    "predicted_train = pipe.predict(X_train)\n",
    "predicted_test = pipe.predict(X_test)\n",
    "\n",
    "# train accuracy\n",
    "print(\"Train set accuracy: \" + str(pipe.score(X_train, y_train)))\n",
    "# test accuracy\n",
    "print(\"Test set accuracy is: \" + str(pipe.score(X_test, y_test)))\n",
    "print(\"Train set precision: \" + str(metrics.precision_score(y_train, predicted_train, pos_label=\"positive\")))\n",
    "print(\"Train set recall: \" +  str(metrics.recall_score(y_train, predicted_train, pos_label=\"positive\")))\n",
    "print(\"Test set precision: \" + str(metrics.precision_score(y_test, predicted_test, pos_label=\"positive\")))\n",
    "print(\"Test set recall: \" + str(metrics.recall_score(y_test, predicted_test, pos_label=\"positive\")))"
   ]
  },
  {
   "cell_type": "markdown",
   "metadata": {},
   "source": [
    "#### Confusion matrix"
   ]
  },
  {
   "cell_type": "code",
   "execution_count": 297,
   "metadata": {},
   "outputs": [
    {
     "data": {
      "image/png": "[encoded data removed]",
      "text/plain": [
       "<Figure size 432x288 with 2 Axes>"
      ]
     },
     "metadata": {},
     "output_type": "display_data"
    },
    {
     "data": {
      "image/png": "[encoded data removed]",
      "text/plain": [
       "<Figure size 432x288 with 2 Axes>"
      ]
     },
     "metadata": {},
     "output_type": "display_data"
    }
   ],
   "source": [
    "titles_options = [(\"Confusion matrix, without normalization\", None),\n",
    "                  (\"Normalized confusion matrix\", 'true')]\n",
    "\n",
    "for title, normalize in titles_options:\n",
    "    disp = plot_confusion_matrix(pipe, X_test, y_test, cmap=plt.cm.Greens, normalize=normalize)\n",
    "    disp.ax_.set_title(title)"
   ]
  },
  {
   "cell_type": "markdown",
   "metadata": {},
   "source": [
    "#### Precision Recall Curve\n"
   ]
  },
  {
   "cell_type": "code",
   "execution_count": 298,
   "metadata": {},
   "outputs": [
    {
     "name": "stdout",
     "output_type": "stream",
     "text": [
      "Average precision-recall score: 0.84\n"
     ]
    },
    {
     "data": {
      "text/plain": [
       "Text(0.5, 1.0, '2-class Precision-Recall curve: AP=0.84')"
      ]
     },
     "execution_count": 298,
     "metadata": {},
     "output_type": "execute_result"
    },
    {
     "data": {
      "image/png": "[encoded data removed]",
      "text/plain": [
       "<Figure size 432x288 with 1 Axes>"
      ]
     },
     "metadata": {},
     "output_type": "display_data"
    }
   ],
   "source": [
    "y_score = pipe.decision_function(X_test)\n",
    "average_precision = average_precision_score(y_test, y_score, pos_label=\"positive\")\n",
    "\n",
    "print('Average precision-recall score: {0:0.2f}'.format(\n",
    "      average_precision))\n",
    "\n",
    "disp = plot_precision_recall_curve(pipe, X_test, y_test)\n",
    "disp.ax_.set_title('2-class Precision-Recall curve: '\n",
    "                   'AP={0:0.2f}'.format(average_precision))"
   ]
  },
  {
   "cell_type": "markdown",
   "metadata": {},
   "source": [
    "### 3.2 Decision Trees"
   ]
  },
  {
   "cell_type": "code",
   "execution_count": 299,
   "metadata": {},
   "outputs": [],
   "source": [
    "X = count_vector.fit_transform(data['review'])\n",
    "y = data['sentiment']\n",
    "\n",
    "X_train, X_test, y_train, y_test = train_test_split(X, y, test_size=0.2, random_state=72)"
   ]
  },
  {
   "cell_type": "code",
   "execution_count": 300,
   "metadata": {},
   "outputs": [
    {
     "data": {
      "text/plain": [
       "DecisionTreeClassifier(ccp_alpha=0.0, class_weight=None, criterion='entropy',\n",
       "                       max_depth=2, max_features=None, max_leaf_nodes=None,\n",
       "                       min_impurity_decrease=0.0, min_impurity_split=None,\n",
       "                       min_samples_leaf=1, min_samples_split=2,\n",
       "                       min_weight_fraction_leaf=0.0, presort='deprecated',\n",
       "                       random_state=None, splitter='best')"
      ]
     },
     "execution_count": 300,
     "metadata": {},
     "output_type": "execute_result"
    }
   ],
   "source": [
    "tree = DecisionTreeClassifier(criterion='entropy', max_depth=2)\n",
    "tree.fit(X_train, y_train)"
   ]
  },
  {
   "cell_type": "code",
   "execution_count": 301,
   "metadata": {},
   "outputs": [
    {
     "data": {
      "text/plain": [
       "0.6"
      ]
     },
     "execution_count": 301,
     "metadata": {},
     "output_type": "execute_result"
    }
   ],
   "source": [
    "tree.score(X_test,y_test)"
   ]
  },
  {
   "cell_type": "code",
   "execution_count": 302,
   "metadata": {},
   "outputs": [
    {
     "data": {
      "text/plain": [
       "2"
      ]
     },
     "execution_count": 302,
     "metadata": {},
     "output_type": "execute_result"
    }
   ],
   "source": [
    "tree.get_depth()"
   ]
  },
  {
   "cell_type": "markdown",
   "metadata": {},
   "source": [
    "#### Tuning the depth of the tree"
   ]
  },
  {
   "cell_type": "code",
   "execution_count": 303,
   "metadata": {},
   "outputs": [],
   "source": [
    "scores = []\n",
    "for d in range(1, 21):\n",
    "    test_tree = DecisionTreeClassifier(criterion='entropy', max_depth=d)\n",
    "    test_tree.fit(X_train, y_train)\n",
    "    scores.append(test_tree.score(X_test, y_test))"
   ]
  },
  {
   "cell_type": "code",
   "execution_count": 304,
   "metadata": {},
   "outputs": [
    {
     "data": {
      "text/plain": [
       "Text(0.5, 0, 'depth')"
      ]
     },
     "execution_count": 304,
     "metadata": {},
     "output_type": "execute_result"
    },
    {
     "data": {
      "image/png": "[encoded data removed]",
      "text/plain": [
       "<Figure size 432x288 with 1 Axes>"
      ]
     },
     "metadata": {},
     "output_type": "display_data"
    }
   ],
   "source": [
    "plt.plot(scores)\n",
    "plt.ylabel('accuracy', fontsize=15)\n",
    "plt.xlabel('depth', fontsize=15)"
   ]
  },
  {
   "cell_type": "code",
   "execution_count": 305,
   "metadata": {},
   "outputs": [
    {
     "data": {
      "text/plain": [
       "0"
      ]
     },
     "execution_count": 305,
     "metadata": {},
     "output_type": "execute_result"
    }
   ],
   "source": [
    "np.argmax(scores)"
   ]
  },
  {
   "cell_type": "markdown",
   "metadata": {},
   "source": [
    "#### Confusion matrix"
   ]
  },
  {
   "cell_type": "code",
   "execution_count": 306,
   "metadata": {},
   "outputs": [
    {
     "data": {
      "image/png": "[encoded data removed]",
      "text/plain": [
       "<Figure size 432x288 with 2 Axes>"
      ]
     },
     "metadata": {},
     "output_type": "display_data"
    },
    {
     "data": {
      "image/png": "[encoded data removed]",
      "text/plain": [
       "<Figure size 432x288 with 2 Axes>"
      ]
     },
     "metadata": {},
     "output_type": "display_data"
    }
   ],
   "source": [
    "titles_options = [(\"Confusion matrix, without normalization\", None),\n",
    "                  (\"Normalized confusion matrix\", 'true')]\n",
    "\n",
    "for title, normalize in titles_options:\n",
    "    disp = plot_confusion_matrix(tree, X_test, y_test, cmap=plt.cm.Greens, normalize=normalize)\n",
    "    disp.ax_.set_title(title)"
   ]
  },
  {
   "cell_type": "markdown",
   "metadata": {},
   "source": [
    " We need to have: \n",
    "* Precision & Recall for all methods \n",
    "* Precision-Recall curve \n",
    "* Cross-validation for all methods \n"
   ]
  },
  {
   "cell_type": "markdown",
   "metadata": {},
   "source": [
    "###  3.3 KNN Classification"
   ]
  },
  {
   "cell_type": "code",
   "execution_count": 307,
   "metadata": {},
   "outputs": [],
   "source": [
    "knn = KNeighborsClassifier(n_neighbors= 10, weights='uniform') #here we can change the K-neighbors"
   ]
  },
  {
   "cell_type": "code",
   "execution_count": 308,
   "metadata": {},
   "outputs": [],
   "source": [
    "X = count_vector.fit_transform(data['review'])\n",
    "y = data['sentiment']"
   ]
  },
  {
   "cell_type": "code",
   "execution_count": 309,
   "metadata": {},
   "outputs": [],
   "source": [
    "X_train, X_test, y_train, y_test = train_test_split(X, y, test_size=0.2, random_state=72)"
   ]
  },
  {
   "cell_type": "code",
   "execution_count": 310,
   "metadata": {},
   "outputs": [
    {
     "data": {
      "text/plain": [
       "KNeighborsClassifier(algorithm='auto', leaf_size=30, metric='minkowski',\n",
       "                     metric_params=None, n_jobs=None, n_neighbors=10, p=2,\n",
       "                     weights='uniform')"
      ]
     },
     "execution_count": 310,
     "metadata": {},
     "output_type": "execute_result"
    }
   ],
   "source": [
    "knn.fit(X_train, y_train)"
   ]
  },
  {
   "cell_type": "code",
   "execution_count": 311,
   "metadata": {},
   "outputs": [
    {
     "data": {
      "text/plain": [
       "0.4"
      ]
     },
     "execution_count": 311,
     "metadata": {},
     "output_type": "execute_result"
    }
   ],
   "source": [
    "knn.score(X_test, y_test)"
   ]
  },
  {
   "cell_type": "markdown",
   "metadata": {},
   "source": [
    "#### Confusion matrix"
   ]
  },
  {
   "cell_type": "code",
   "execution_count": 312,
   "metadata": {},
   "outputs": [
    {
     "data": {
      "image/png": "[encoded data removed]",
      "text/plain": [
       "<Figure size 432x288 with 2 Axes>"
      ]
     },
     "metadata": {},
     "output_type": "display_data"
    },
    {
     "data": {
      "image/png": "[encoded data removed]",
      "text/plain": [
       "<Figure size 432x288 with 2 Axes>"
      ]
     },
     "metadata": {},
     "output_type": "display_data"
    }
   ],
   "source": [
    "titles_options = [(\"Confusion matrix, without normalization\", None),\n",
    "                  (\"Normalized confusion matrix\", 'true')]\n",
    "\n",
    "for title, normalize in titles_options:\n",
    "    disp = plot_confusion_matrix(knn, X_test, y_test, cmap=plt.cm.Greens, normalize=normalize)\n",
    "    disp.ax_.set_title(title)"
   ]
  },
  {
   "cell_type": "markdown",
   "metadata": {},
   "source": [
    "### 3.4 Text similarity"
   ]
  },
  {
   "cell_type": "code",
   "execution_count": 313,
   "metadata": {},
   "outputs": [],
   "source": [
    "stopwords = spacy_stopwords\n",
    "\n",
    "# using default tokenizer \n",
    "count = CountVectorizer(ngram_range=(1,2), stop_words = None)\n",
    "bow = count.fit_transform(data)"
   ]
  },
  {
   "cell_type": "markdown",
   "metadata": {},
   "source": [
    "# 4. Conclusion and Recommendation"
   ]
  },
  {
   "cell_type": "markdown",
   "metadata": {},
   "source": [
    "From the analysis shown above we can see that the best performing method of classification of the reviews into binary class positive/negative is Logistic Regression method......"
   ]
  }
 ],
 "metadata": {
  "kernelspec": {
   "display_name": "Python 3",
   "language": "python",
   "name": "python3"
  },
  "language_info": {
   "codemirror_mode": {
    "name": "ipython",
    "version": 3
   },
   "file_extension": ".py",
   "mimetype": "text/x-python",
   "name": "python",
   "nbconvert_exporter": "python",
   "pygments_lexer": "ipython3",
   "version": "3.7.3"
  }
 },
 "nbformat": 4,
 "nbformat_minor": 2
}
