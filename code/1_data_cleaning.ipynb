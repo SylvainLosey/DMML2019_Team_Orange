{
 "cells": [
  {
   "cell_type": "markdown",
   "metadata": {},
   "source": [
    "# Project Orange: IMDB reviews sentiment analysis\n",
    "\n",
    "The purpose of the project is to build a model that would be able to classify the sentiment of a review of a movie and label if it has a positive or a negative sentiment. This way the opinions could be classified to be either negative or positive, while the medium sentiment is excluded from the analysis. \n",
    "Thus, the goal is to assign and weight either a positive or a negative connotation associated with each word or group of words. In addition, no weight is intended to be assigned to the words that are commonly used is sentence formation and that do not reflect any emotion. "
   ]
  },
  {
   "cell_type": "markdown",
   "metadata": {},
   "source": [
    "# 1. Data Cleaning"
   ]
  },
  {
   "cell_type": "markdown",
   "metadata": {},
   "source": [
    "## Setup\n",
    "\n",
    "Install all required dependencies for the future analysis in the current Jupyter kernel."
   ]
  },
  {
   "cell_type": "code",
   "execution_count": 61,
   "metadata": {},
   "outputs": [
    {
     "name": "stdout",
     "output_type": "stream",
     "text": [
      "Requirement already up-to-date: scikit-learn in /Users/sylvain/anaconda3/envs/optimize/lib/python3.7/site-packages (0.22)\n",
      "Requirement already up-to-date: spacy in /Users/sylvain/anaconda3/envs/optimize/lib/python3.7/site-packages (2.2.3)\n",
      "Requirement already up-to-date: pandas in /Users/sylvain/anaconda3/envs/optimize/lib/python3.7/site-packages (0.25.3)\n",
      "Requirement already up-to-date: seaborn in /Users/sylvain/anaconda3/envs/optimize/lib/python3.7/site-packages (0.9.0)\n",
      "Requirement already up-to-date: sklearn in /Users/sylvain/anaconda3/envs/optimize/lib/python3.7/site-packages (0.0)\n",
      "Requirement already up-to-date: nltk in /Users/sylvain/anaconda3/envs/optimize/lib/python3.7/site-packages (3.4.5)\n",
      "Requirement already up-to-date: jupyter in /Users/sylvain/anaconda3/envs/optimize/lib/python3.7/site-packages (1.0.0)\n",
      "Requirement already satisfied, skipping upgrade: numpy>=1.11.0 in /Users/sylvain/anaconda3/envs/optimize/lib/python3.7/site-packages (from scikit-learn) (1.16.1)\n",
      "Requirement already satisfied, skipping upgrade: scipy>=0.17.0 in /Users/sylvain/anaconda3/envs/optimize/lib/python3.7/site-packages (from scikit-learn) (1.3.3)\n",
      "Requirement already satisfied, skipping upgrade: joblib>=0.11 in /Users/sylvain/anaconda3/envs/optimize/lib/python3.7/site-packages (from scikit-learn) (0.14.0)\n",
      "Requirement already satisfied, skipping upgrade: srsly<1.1.0,>=0.1.0 in /Users/sylvain/anaconda3/envs/optimize/lib/python3.7/site-packages (from spacy) (0.2.0)\n",
      "Requirement already satisfied, skipping upgrade: requests<3.0.0,>=2.13.0 in /Users/sylvain/anaconda3/envs/optimize/lib/python3.7/site-packages (from spacy) (2.21.0)\n",
      "Requirement already satisfied, skipping upgrade: preshed<3.1.0,>=3.0.2 in /Users/sylvain/anaconda3/envs/optimize/lib/python3.7/site-packages (from spacy) (3.0.2)\n",
      "Requirement already satisfied, skipping upgrade: cymem<2.1.0,>=2.0.2 in /Users/sylvain/anaconda3/envs/optimize/lib/python3.7/site-packages (from spacy) (2.0.3)\n",
      "Requirement already satisfied, skipping upgrade: catalogue<1.1.0,>=0.0.7 in /Users/sylvain/anaconda3/envs/optimize/lib/python3.7/site-packages (from spacy) (0.0.8)\n",
      "Requirement already satisfied, skipping upgrade: blis<0.5.0,>=0.4.0 in /Users/sylvain/anaconda3/envs/optimize/lib/python3.7/site-packages (from spacy) (0.4.1)\n",
      "Requirement already satisfied, skipping upgrade: thinc<7.4.0,>=7.3.0 in /Users/sylvain/anaconda3/envs/optimize/lib/python3.7/site-packages (from spacy) (7.3.1)\n",
      "Requirement already satisfied, skipping upgrade: plac<1.2.0,>=0.9.6 in /Users/sylvain/anaconda3/envs/optimize/lib/python3.7/site-packages (from spacy) (1.1.3)\n",
      "Requirement already satisfied, skipping upgrade: setuptools in /Users/sylvain/anaconda3/envs/optimize/lib/python3.7/site-packages (from spacy) (40.7.3)\n",
      "Requirement already satisfied, skipping upgrade: murmurhash<1.1.0,>=0.28.0 in /Users/sylvain/anaconda3/envs/optimize/lib/python3.7/site-packages (from spacy) (1.0.2)\n",
      "Requirement already satisfied, skipping upgrade: wasabi<1.1.0,>=0.4.0 in /Users/sylvain/anaconda3/envs/optimize/lib/python3.7/site-packages (from spacy) (0.4.0)\n",
      "Requirement already satisfied, skipping upgrade: pytz>=2017.2 in /Users/sylvain/anaconda3/envs/optimize/lib/python3.7/site-packages (from pandas) (2018.9)\n",
      "Requirement already satisfied, skipping upgrade: python-dateutil>=2.6.1 in /Users/sylvain/anaconda3/envs/optimize/lib/python3.7/site-packages (from pandas) (2.8.0)\n",
      "Requirement already satisfied, skipping upgrade: matplotlib>=1.4.3 in /Users/sylvain/anaconda3/envs/optimize/lib/python3.7/site-packages (from seaborn) (3.0.2)\n",
      "Requirement already satisfied, skipping upgrade: six in /Users/sylvain/anaconda3/envs/optimize/lib/python3.7/site-packages (from nltk) (1.12.0)\n",
      "Requirement already satisfied, skipping upgrade: ipywidgets in /Users/sylvain/anaconda3/envs/optimize/lib/python3.7/site-packages (from jupyter) (7.5.1)\n",
      "Requirement already satisfied, skipping upgrade: jupyter-console in /Users/sylvain/anaconda3/envs/optimize/lib/python3.7/site-packages (from jupyter) (6.0.0)\n",
      "Requirement already satisfied, skipping upgrade: ipykernel in /Users/sylvain/anaconda3/envs/optimize/lib/python3.7/site-packages (from jupyter) (5.1.0)\n",
      "Requirement already satisfied, skipping upgrade: nbconvert in /Users/sylvain/anaconda3/envs/optimize/lib/python3.7/site-packages (from jupyter) (5.6.1)\n",
      "Requirement already satisfied, skipping upgrade: qtconsole in /Users/sylvain/anaconda3/envs/optimize/lib/python3.7/site-packages (from jupyter) (4.6.0)\n",
      "Requirement already satisfied, skipping upgrade: notebook in /Users/sylvain/anaconda3/envs/optimize/lib/python3.7/site-packages (from jupyter) (6.0.2)\n",
      "Requirement already satisfied, skipping upgrade: chardet<3.1.0,>=3.0.2 in /Users/sylvain/anaconda3/envs/optimize/lib/python3.7/site-packages (from requests<3.0.0,>=2.13.0->spacy) (3.0.4)\n",
      "Requirement already satisfied, skipping upgrade: idna<2.9,>=2.5 in /Users/sylvain/anaconda3/envs/optimize/lib/python3.7/site-packages (from requests<3.0.0,>=2.13.0->spacy) (2.8)\n",
      "Requirement already satisfied, skipping upgrade: urllib3<1.25,>=1.21.1 in /Users/sylvain/anaconda3/envs/optimize/lib/python3.7/site-packages (from requests<3.0.0,>=2.13.0->spacy) (1.24.1)\n",
      "Requirement already satisfied, skipping upgrade: certifi>=2017.4.17 in /Users/sylvain/anaconda3/envs/optimize/lib/python3.7/site-packages (from requests<3.0.0,>=2.13.0->spacy) (2018.11.29)\n",
      "Requirement already satisfied, skipping upgrade: importlib-metadata>=0.20; python_version < \"3.8\" in /Users/sylvain/anaconda3/envs/optimize/lib/python3.7/site-packages (from catalogue<1.1.0,>=0.0.7->spacy) (0.23)\n",
      "Requirement already satisfied, skipping upgrade: tqdm<5.0.0,>=4.10.0 in /Users/sylvain/anaconda3/envs/optimize/lib/python3.7/site-packages (from thinc<7.4.0,>=7.3.0->spacy) (4.38.0)\n",
      "Requirement already satisfied, skipping upgrade: cycler>=0.10 in /Users/sylvain/anaconda3/envs/optimize/lib/python3.7/site-packages (from matplotlib>=1.4.3->seaborn) (0.10.0)\n",
      "Requirement already satisfied, skipping upgrade: kiwisolver>=1.0.1 in /Users/sylvain/anaconda3/envs/optimize/lib/python3.7/site-packages (from matplotlib>=1.4.3->seaborn) (1.0.1)\n",
      "Requirement already satisfied, skipping upgrade: pyparsing!=2.0.4,!=2.1.2,!=2.1.6,>=2.0.1 in /Users/sylvain/anaconda3/envs/optimize/lib/python3.7/site-packages (from matplotlib>=1.4.3->seaborn) (2.3.1)\n",
      "Requirement already satisfied, skipping upgrade: traitlets>=4.3.1 in /Users/sylvain/anaconda3/envs/optimize/lib/python3.7/site-packages (from ipywidgets->jupyter) (4.3.2)\n",
      "Requirement already satisfied, skipping upgrade: ipython>=4.0.0; python_version >= \"3.3\" in /Users/sylvain/anaconda3/envs/optimize/lib/python3.7/site-packages (from ipywidgets->jupyter) (7.2.0)\n",
      "Requirement already satisfied, skipping upgrade: widgetsnbextension~=3.5.0 in /Users/sylvain/anaconda3/envs/optimize/lib/python3.7/site-packages (from ipywidgets->jupyter) (3.5.1)\n",
      "Requirement already satisfied, skipping upgrade: nbformat>=4.2.0 in /Users/sylvain/anaconda3/envs/optimize/lib/python3.7/site-packages (from ipywidgets->jupyter) (4.4.0)\n",
      "Requirement already satisfied, skipping upgrade: pygments in /Users/sylvain/anaconda3/envs/optimize/lib/python3.7/site-packages (from jupyter-console->jupyter) (2.3.1)\n",
      "Requirement already satisfied, skipping upgrade: jupyter-client in /Users/sylvain/anaconda3/envs/optimize/lib/python3.7/site-packages (from jupyter-console->jupyter) (5.3.4)\n",
      "Requirement already satisfied, skipping upgrade: prompt-toolkit<2.1.0,>=2.0.0 in /Users/sylvain/anaconda3/envs/optimize/lib/python3.7/site-packages (from jupyter-console->jupyter) (2.0.8)\n",
      "Requirement already satisfied, skipping upgrade: tornado>=4.2 in /Users/sylvain/anaconda3/envs/optimize/lib/python3.7/site-packages (from ipykernel->jupyter) (5.1.1)\n",
      "Requirement already satisfied, skipping upgrade: defusedxml in /Users/sylvain/anaconda3/envs/optimize/lib/python3.7/site-packages (from nbconvert->jupyter) (0.6.0)\n",
      "Requirement already satisfied, skipping upgrade: jinja2>=2.4 in /Users/sylvain/anaconda3/envs/optimize/lib/python3.7/site-packages (from nbconvert->jupyter) (2.10.3)\n",
      "Requirement already satisfied, skipping upgrade: jupyter-core in /Users/sylvain/anaconda3/envs/optimize/lib/python3.7/site-packages (from nbconvert->jupyter) (4.6.1)\n",
      "Requirement already satisfied, skipping upgrade: pandocfilters>=1.4.1 in /Users/sylvain/anaconda3/envs/optimize/lib/python3.7/site-packages (from nbconvert->jupyter) (1.4.2)\n",
      "Requirement already satisfied, skipping upgrade: mistune<2,>=0.8.1 in /Users/sylvain/anaconda3/envs/optimize/lib/python3.7/site-packages (from nbconvert->jupyter) (0.8.4)\n",
      "Requirement already satisfied, skipping upgrade: entrypoints>=0.2.2 in /Users/sylvain/anaconda3/envs/optimize/lib/python3.7/site-packages (from nbconvert->jupyter) (0.3)\n",
      "Requirement already satisfied, skipping upgrade: bleach in /Users/sylvain/anaconda3/envs/optimize/lib/python3.7/site-packages (from nbconvert->jupyter) (3.1.0)\n",
      "Requirement already satisfied, skipping upgrade: testpath in /Users/sylvain/anaconda3/envs/optimize/lib/python3.7/site-packages (from nbconvert->jupyter) (0.4.4)\n",
      "Requirement already satisfied, skipping upgrade: ipython-genutils in /Users/sylvain/anaconda3/envs/optimize/lib/python3.7/site-packages (from qtconsole->jupyter) (0.2.0)\n",
      "Requirement already satisfied, skipping upgrade: prometheus-client in /Users/sylvain/anaconda3/envs/optimize/lib/python3.7/site-packages (from notebook->jupyter) (0.7.1)\n",
      "Requirement already satisfied, skipping upgrade: pyzmq>=17 in /Users/sylvain/anaconda3/envs/optimize/lib/python3.7/site-packages (from notebook->jupyter) (17.1.2)\n",
      "Requirement already satisfied, skipping upgrade: Send2Trash in /Users/sylvain/anaconda3/envs/optimize/lib/python3.7/site-packages (from notebook->jupyter) (1.5.0)\n",
      "Requirement already satisfied, skipping upgrade: terminado>=0.8.1 in /Users/sylvain/anaconda3/envs/optimize/lib/python3.7/site-packages (from notebook->jupyter) (0.8.3)\n"
     ]
    },
    {
     "name": "stdout",
     "output_type": "stream",
     "text": [
      "Requirement already satisfied, skipping upgrade: zipp>=0.5 in /Users/sylvain/anaconda3/envs/optimize/lib/python3.7/site-packages (from importlib-metadata>=0.20; python_version < \"3.8\"->catalogue<1.1.0,>=0.0.7->spacy) (0.6.0)\n",
      "Requirement already satisfied, skipping upgrade: decorator in /Users/sylvain/anaconda3/envs/optimize/lib/python3.7/site-packages (from traitlets>=4.3.1->ipywidgets->jupyter) (4.3.2)\n",
      "Requirement already satisfied, skipping upgrade: jedi>=0.10 in /Users/sylvain/anaconda3/envs/optimize/lib/python3.7/site-packages (from ipython>=4.0.0; python_version >= \"3.3\"->ipywidgets->jupyter) (0.13.2)\n",
      "Requirement already satisfied, skipping upgrade: pexpect; sys_platform != \"win32\" in /Users/sylvain/anaconda3/envs/optimize/lib/python3.7/site-packages (from ipython>=4.0.0; python_version >= \"3.3\"->ipywidgets->jupyter) (4.6.0)\n",
      "Requirement already satisfied, skipping upgrade: backcall in /Users/sylvain/anaconda3/envs/optimize/lib/python3.7/site-packages (from ipython>=4.0.0; python_version >= \"3.3\"->ipywidgets->jupyter) (0.1.0)\n",
      "Requirement already satisfied, skipping upgrade: appnope; sys_platform == \"darwin\" in /Users/sylvain/anaconda3/envs/optimize/lib/python3.7/site-packages (from ipython>=4.0.0; python_version >= \"3.3\"->ipywidgets->jupyter) (0.1.0)\n",
      "Requirement already satisfied, skipping upgrade: pickleshare in /Users/sylvain/anaconda3/envs/optimize/lib/python3.7/site-packages (from ipython>=4.0.0; python_version >= \"3.3\"->ipywidgets->jupyter) (0.7.5)\n",
      "Requirement already satisfied, skipping upgrade: jsonschema!=2.5.0,>=2.4 in /Users/sylvain/anaconda3/envs/optimize/lib/python3.7/site-packages (from nbformat>=4.2.0->ipywidgets->jupyter) (3.2.0)\n",
      "Requirement already satisfied, skipping upgrade: wcwidth in /Users/sylvain/anaconda3/envs/optimize/lib/python3.7/site-packages (from prompt-toolkit<2.1.0,>=2.0.0->jupyter-console->jupyter) (0.1.7)\n",
      "Requirement already satisfied, skipping upgrade: MarkupSafe>=0.23 in /Users/sylvain/anaconda3/envs/optimize/lib/python3.7/site-packages (from jinja2>=2.4->nbconvert->jupyter) (1.1.1)\n",
      "Requirement already satisfied, skipping upgrade: webencodings in /Users/sylvain/anaconda3/envs/optimize/lib/python3.7/site-packages (from bleach->nbconvert->jupyter) (0.5.1)\n",
      "Requirement already satisfied, skipping upgrade: ptyprocess; os_name != \"nt\" in /Users/sylvain/anaconda3/envs/optimize/lib/python3.7/site-packages (from terminado>=0.8.1->notebook->jupyter) (0.6.0)\n",
      "Requirement already satisfied, skipping upgrade: more-itertools in /Users/sylvain/anaconda3/envs/optimize/lib/python3.7/site-packages (from zipp>=0.5->importlib-metadata>=0.20; python_version < \"3.8\"->catalogue<1.1.0,>=0.0.7->spacy) (7.2.0)\n",
      "Requirement already satisfied, skipping upgrade: parso>=0.3.0 in /Users/sylvain/anaconda3/envs/optimize/lib/python3.7/site-packages (from jedi>=0.10->ipython>=4.0.0; python_version >= \"3.3\"->ipywidgets->jupyter) (0.3.4)\n",
      "Requirement already satisfied, skipping upgrade: attrs>=17.4.0 in /Users/sylvain/anaconda3/envs/optimize/lib/python3.7/site-packages (from jsonschema!=2.5.0,>=2.4->nbformat>=4.2.0->ipywidgets->jupyter) (19.3.0)\n",
      "Requirement already satisfied, skipping upgrade: pyrsistent>=0.14.0 in /Users/sylvain/anaconda3/envs/optimize/lib/python3.7/site-packages (from jsonschema!=2.5.0,>=2.4->nbformat>=4.2.0->ipywidgets->jupyter) (0.15.6)\n",
      "Requirement already satisfied: en_core_web_sm==2.2.5 from https://github.com/explosion/spacy-models/releases/download/en_core_web_sm-2.2.5/en_core_web_sm-2.2.5.tar.gz#egg=en_core_web_sm==2.2.5 in /Users/sylvain/anaconda3/envs/optimize/lib/python3.7/site-packages (2.2.5)\n",
      "Requirement already satisfied: spacy>=2.2.2 in /Users/sylvain/anaconda3/envs/optimize/lib/python3.7/site-packages (from en_core_web_sm==2.2.5) (2.2.3)\n",
      "Requirement already satisfied: setuptools in /Users/sylvain/anaconda3/envs/optimize/lib/python3.7/site-packages (from spacy>=2.2.2->en_core_web_sm==2.2.5) (40.7.3)\n",
      "Requirement already satisfied: catalogue<1.1.0,>=0.0.7 in /Users/sylvain/anaconda3/envs/optimize/lib/python3.7/site-packages (from spacy>=2.2.2->en_core_web_sm==2.2.5) (0.0.8)\n",
      "Requirement already satisfied: plac<1.2.0,>=0.9.6 in /Users/sylvain/anaconda3/envs/optimize/lib/python3.7/site-packages (from spacy>=2.2.2->en_core_web_sm==2.2.5) (1.1.3)\n",
      "Requirement already satisfied: numpy>=1.15.0 in /Users/sylvain/anaconda3/envs/optimize/lib/python3.7/site-packages (from spacy>=2.2.2->en_core_web_sm==2.2.5) (1.16.1)\n",
      "Requirement already satisfied: murmurhash<1.1.0,>=0.28.0 in /Users/sylvain/anaconda3/envs/optimize/lib/python3.7/site-packages (from spacy>=2.2.2->en_core_web_sm==2.2.5) (1.0.2)\n",
      "Requirement already satisfied: cymem<2.1.0,>=2.0.2 in /Users/sylvain/anaconda3/envs/optimize/lib/python3.7/site-packages (from spacy>=2.2.2->en_core_web_sm==2.2.5) (2.0.3)\n",
      "Requirement already satisfied: wasabi<1.1.0,>=0.4.0 in /Users/sylvain/anaconda3/envs/optimize/lib/python3.7/site-packages (from spacy>=2.2.2->en_core_web_sm==2.2.5) (0.4.0)\n",
      "Requirement already satisfied: blis<0.5.0,>=0.4.0 in /Users/sylvain/anaconda3/envs/optimize/lib/python3.7/site-packages (from spacy>=2.2.2->en_core_web_sm==2.2.5) (0.4.1)\n",
      "Requirement already satisfied: thinc<7.4.0,>=7.3.0 in /Users/sylvain/anaconda3/envs/optimize/lib/python3.7/site-packages (from spacy>=2.2.2->en_core_web_sm==2.2.5) (7.3.1)\n",
      "Requirement already satisfied: preshed<3.1.0,>=3.0.2 in /Users/sylvain/anaconda3/envs/optimize/lib/python3.7/site-packages (from spacy>=2.2.2->en_core_web_sm==2.2.5) (3.0.2)\n",
      "Requirement already satisfied: requests<3.0.0,>=2.13.0 in /Users/sylvain/anaconda3/envs/optimize/lib/python3.7/site-packages (from spacy>=2.2.2->en_core_web_sm==2.2.5) (2.21.0)\n",
      "Requirement already satisfied: srsly<1.1.0,>=0.1.0 in /Users/sylvain/anaconda3/envs/optimize/lib/python3.7/site-packages (from spacy>=2.2.2->en_core_web_sm==2.2.5) (0.2.0)\n",
      "Requirement already satisfied: importlib-metadata>=0.20; python_version < \"3.8\" in /Users/sylvain/anaconda3/envs/optimize/lib/python3.7/site-packages (from catalogue<1.1.0,>=0.0.7->spacy>=2.2.2->en_core_web_sm==2.2.5) (0.23)\n",
      "Requirement already satisfied: tqdm<5.0.0,>=4.10.0 in /Users/sylvain/anaconda3/envs/optimize/lib/python3.7/site-packages (from thinc<7.4.0,>=7.3.0->spacy>=2.2.2->en_core_web_sm==2.2.5) (4.38.0)\n",
      "Requirement already satisfied: idna<2.9,>=2.5 in /Users/sylvain/anaconda3/envs/optimize/lib/python3.7/site-packages (from requests<3.0.0,>=2.13.0->spacy>=2.2.2->en_core_web_sm==2.2.5) (2.8)\n",
      "Requirement already satisfied: certifi>=2017.4.17 in /Users/sylvain/anaconda3/envs/optimize/lib/python3.7/site-packages (from requests<3.0.0,>=2.13.0->spacy>=2.2.2->en_core_web_sm==2.2.5) (2018.11.29)\n",
      "Requirement already satisfied: urllib3<1.25,>=1.21.1 in /Users/sylvain/anaconda3/envs/optimize/lib/python3.7/site-packages (from requests<3.0.0,>=2.13.0->spacy>=2.2.2->en_core_web_sm==2.2.5) (1.24.1)\n",
      "Requirement already satisfied: chardet<3.1.0,>=3.0.2 in /Users/sylvain/anaconda3/envs/optimize/lib/python3.7/site-packages (from requests<3.0.0,>=2.13.0->spacy>=2.2.2->en_core_web_sm==2.2.5) (3.0.4)\n",
      "Requirement already satisfied: zipp>=0.5 in /Users/sylvain/anaconda3/envs/optimize/lib/python3.7/site-packages (from importlib-metadata>=0.20; python_version < \"3.8\"->catalogue<1.1.0,>=0.0.7->spacy>=2.2.2->en_core_web_sm==2.2.5) (0.6.0)\n",
      "Requirement already satisfied: more-itertools in /Users/sylvain/anaconda3/envs/optimize/lib/python3.7/site-packages (from zipp>=0.5->importlib-metadata>=0.20; python_version < \"3.8\"->catalogue<1.1.0,>=0.0.7->spacy>=2.2.2->en_core_web_sm==2.2.5) (7.2.0)\n",
      "\u001b[38;5;2m✔ Download and installation successful\u001b[0m\n",
      "You can now load the model via spacy.load('en_core_web_sm')\n"
     ]
    }
   ],
   "source": [
    "import sys\n",
    "!{sys.executable} -m pip install -U scikit-learn spacy pandas seaborn sklearn nltk jupyter\n",
    "!{sys.executable} -m spacy download en_core_web_sm"
   ]
  },
  {
   "cell_type": "code",
   "execution_count": 62,
   "metadata": {},
   "outputs": [
    {
     "name": "stderr",
     "output_type": "stream",
     "text": [
      "[nltk_data] Downloading package words to /Users/sylvain/nltk_data...\n",
      "[nltk_data]   Package words is already up-to-date!\n"
     ]
    },
    {
     "data": {
      "text/plain": [
       "True"
      ]
     },
     "execution_count": 62,
     "metadata": {},
     "output_type": "execute_result"
    }
   ],
   "source": [
    "import pandas as pd\n",
    "import re\n",
    "import spacy\n",
    "import nltk.corpus\n",
    "\n",
    "sp = spacy.load('en_core_web_sm')\n",
    "nltk.download('words')"
   ]
  },
  {
   "cell_type": "markdown",
   "metadata": {},
   "source": [
    "### Import dataset"
   ]
  },
  {
   "cell_type": "code",
   "execution_count": 63,
   "metadata": {},
   "outputs": [
    {
     "data": {
      "text/html": [
       "<div>\n",
       "<style scoped>\n",
       "    .dataframe tbody tr th:only-of-type {\n",
       "        vertical-align: middle;\n",
       "    }\n",
       "\n",
       "    .dataframe tbody tr th {\n",
       "        vertical-align: top;\n",
       "    }\n",
       "\n",
       "    .dataframe thead th {\n",
       "        text-align: right;\n",
       "    }\n",
       "</style>\n",
       "<table border=\"1\" class=\"dataframe\">\n",
       "  <thead>\n",
       "    <tr style=\"text-align: right;\">\n",
       "      <th></th>\n",
       "      <th>review</th>\n",
       "      <th>sentiment</th>\n",
       "    </tr>\n",
       "  </thead>\n",
       "  <tbody>\n",
       "    <tr>\n",
       "      <th>0</th>\n",
       "      <td>One of the other reviewers has mentioned that ...</td>\n",
       "      <td>positive</td>\n",
       "    </tr>\n",
       "    <tr>\n",
       "      <th>1</th>\n",
       "      <td>A wonderful little production. &lt;br /&gt;&lt;br /&gt;The...</td>\n",
       "      <td>positive</td>\n",
       "    </tr>\n",
       "    <tr>\n",
       "      <th>2</th>\n",
       "      <td>I thought this was a wonderful way to spend ti...</td>\n",
       "      <td>positive</td>\n",
       "    </tr>\n",
       "    <tr>\n",
       "      <th>3</th>\n",
       "      <td>Basically there's a family where a little boy ...</td>\n",
       "      <td>negative</td>\n",
       "    </tr>\n",
       "    <tr>\n",
       "      <th>4</th>\n",
       "      <td>Petter Mattei's \"Love in the Time of Money\" is...</td>\n",
       "      <td>positive</td>\n",
       "    </tr>\n",
       "  </tbody>\n",
       "</table>\n",
       "</div>"
      ],
      "text/plain": [
       "                                              review sentiment\n",
       "0  One of the other reviewers has mentioned that ...  positive\n",
       "1  A wonderful little production. <br /><br />The...  positive\n",
       "2  I thought this was a wonderful way to spend ti...  positive\n",
       "3  Basically there's a family where a little boy ...  negative\n",
       "4  Petter Mattei's \"Love in the Time of Money\" is...  positive"
      ]
     },
     "execution_count": 63,
     "metadata": {},
     "output_type": "execute_result"
    }
   ],
   "source": [
    "data = pd.read_csv(\"../data/imdb_dataset.csv\") \n",
    "\n",
    "# Keep the first 100 elements to reduce the load on cpu\n",
    "data=data[:100]\n",
    "data.head()"
   ]
  },
  {
   "cell_type": "markdown",
   "metadata": {},
   "source": [
    "## Cleaning\n",
    "\n",
    "In the following cells, we will define various cleaning methods. Each review will then be passed through each of those methods sequentially.\n"
   ]
  },
  {
   "cell_type": "code",
   "execution_count": 64,
   "metadata": {},
   "outputs": [],
   "source": [
    "cleaning_methods = []"
   ]
  },
  {
   "cell_type": "markdown",
   "metadata": {},
   "source": [
    "#### Remove HTML elements"
   ]
  },
  {
   "cell_type": "code",
   "execution_count": 65,
   "metadata": {},
   "outputs": [],
   "source": [
    "def remove_html(review):\n",
    "    return re.compile(\"(<br\\s*/><br\\s*/>)|(\\-)|(\\/)\").sub(\" \", review) \n",
    "\n",
    "cleaning_methods.append(remove_html)"
   ]
  },
  {
   "cell_type": "markdown",
   "metadata": {},
   "source": [
    "#### Spacy processing"
   ]
  },
  {
   "cell_type": "code",
   "execution_count": 66,
   "metadata": {},
   "outputs": [],
   "source": [
    "# Remove the following stopwords from default list\n",
    "sp.Defaults.stop_words -= {\"n't\", \"most\", \"much\", \"never\", \"no\", \"not\", \"nothing\", \"n‘t\", \"n’t\", \"really\", \"top\", \"very\", \"well\"}\n",
    "\n",
    "# Remove the following stopwords from default list\n",
    "sp.Defaults.stop_words |= {'.', ',', '!', '?', ':', '&', '...', '(', ')','-', '/', '\"', ';', '-PRON-', ' ', \"'\", '....', '  ', '*'}\n",
    "\n",
    "def spacy_processing(review):\n",
    "    doc = sp(review.lower())\n",
    "    \n",
    "    # Remove stopwords\n",
    "    tokens_without_stopwords = [token for token in doc if not token.is_stop]\n",
    "    \n",
    "    # Remove entities\n",
    "    entities = [ent.text for ent in doc.ents]\n",
    "    tokens_without_entities = [token for token in tokens_without_stopwords if not token.text in entities]\n",
    "    \n",
    "    # Lemmatization\n",
    "    lemmatized_tokens = [token.lemma_ for token in tokens_without_entities]\n",
    "\n",
    "    return lemmatized_tokens\n",
    "\n",
    "cleaning_methods.append(spacy_processing)"
   ]
  },
  {
   "cell_type": "markdown",
   "metadata": {},
   "source": [
    "#### Check if tokens are words and remove those that aren't (using NLTK)"
   ]
  },
  {
   "cell_type": "code",
   "execution_count": 67,
   "metadata": {
    "scrolled": true
   },
   "outputs": [],
   "source": [
    "nltk_corpus = set(nltk.corpus.words.words())\n",
    "\n",
    "def remove_non_words(tokens):\n",
    "    non_words_removed = [token for token in tokens if token in nltk_corpus]  \n",
    "    return \" \".join(non_words_removed)\n",
    "\n",
    "cleaning_methods.append(remove_non_words)"
   ]
  },
  {
   "cell_type": "markdown",
   "metadata": {},
   "source": [
    "## Final dataset"
   ]
  },
  {
   "cell_type": "code",
   "execution_count": 68,
   "metadata": {},
   "outputs": [],
   "source": [
    "def cleaning(review):\n",
    "    for cleaning_method in cleaning_methods:\n",
    "        review = cleaning_method(review)\n",
    "    return review"
   ]
  },
  {
   "cell_type": "code",
   "execution_count": 69,
   "metadata": {},
   "outputs": [
    {
     "name": "stderr",
     "output_type": "stream",
     "text": [
      "100%|██████████| 100/100 [00:04<00:00, 23.76it/s]\n"
     ]
    }
   ],
   "source": [
    "from tqdm import tqdm\n",
    "tqdm.pandas()\n",
    "data['review'] = data['review'].progress_map(cleaning)"
   ]
  },
  {
   "cell_type": "code",
   "execution_count": 70,
   "metadata": {},
   "outputs": [
    {
     "name": "stdout",
     "output_type": "stream",
     "text": [
      "reviewer mention watch episode hook right exactly happen thing strike brutality scene violence set right word trust faint hearted timid pull no punch regard drug sex violence classic use word call nickname give maximum security state focus mainly emerald city experimental section prison cell glass front face inward privacy high agenda city home scuffle death stare dodgy dealing shady agreement never far away main appeal fact go show dare forget pretty picture paint audience forget charm forget romance mess episode see strike nasty ready watch develop taste get accustomed high level graphic violence violence injustice crooked guard sell nickel inmate kill order away well mannered middle class inmate turn prison bitch lack street skill prison experience watch comfortable uncomfortable view that touch dark\n",
      "wonderful little production technique very unassuming very old time fashion give comforting sense realism entire piece actor extremely well choose sheen get voice truly seamless guide reference diary entry well worth watching terrificly write perform piece masterful production great master comedy life realism really come home little thing fantasy guard use traditional dream technique remain solid disappear play knowledge sense particularly scene concern set particularly flat mural decorate surface terribly well\n",
      "think wonderful way spend time hot summer weekend sit air condition theater watch light hearted comedy plot simplistic dialogue witty character likable well bread suspect serial killer disappoint realize match point risk addiction think proof fully control style grow love most laugh comedy dare decade never scarlet manage tone sexy image jump right average spirit young woman crown career witty devil wear interesting superman great comedy friend\n",
      "basically family little boy think zombie closet parent fight time movie slow soap opera suddenly decide kill zombie go film decide thriller drama drama movie watchable parent divorce argue like real life closet totally ruin film expect similar movie instead watch drama meaningless thriller spot well play parent descent shot ignore\n",
      "petter love time money visually stunning film watch offer vivid portrait human relation movie tell money power success people different situation encounter variation play theme director transfer action present time new york different character meet connect connect way person no know previous point contact stylishly film sophisticated luxurious look take people live world live habitat thing get soul picture different stage loneliness inhabit big city exactly good place human relation find sincere fulfillment discern case most people encounter acting good direction rosario carol rest talented cast character come alive wish good luck await anxiously work\n",
      "probably time favorite movie story selflessness sacrifice dedication noble cause preachy boring never get old despite have see time year performance bring tear eye very truly sympathetic role delight grandma say like dress midget child make fun watch mother slow awakening happen world roof believable startling dozen thumb movie\n",
      "sure like resurrection series tech bring excitement grow black white hero vote comeback new sea need change pace work world water way thank outlet like view viewpoint way believe get nice read plus point sea rhyme line let submit leave doubt quit let\n",
      "amazing fresh innovative idea air year brilliant thing drop really funny continue decline complete waste time truly disgraceful far fall writing painfully bad performance bad mildly entertaining respite guest host probably air find hard believe creator hand select original cast choose band hack follow recognize brilliance fit replace mediocrity feel star respect original cast huge success awful believe air\n",
      "encourage positive comment film look forward watch film bad mistake see film truly bad awful way acting film song lame country tune play no time film look cheap nasty bore extreme rarely happy end credit film thing prevent give score far good performance make bit effort obsessive\n",
      "like original gut laughter like movie young old love movie hell like great camp\n",
      "alien quirky film humour base oddness actual very odd pretty funny movie progress find joke oddness funny low budget film s never problem pretty interesting character eventually lose interest imagine film appeal stoner currently partake similar better try brother planet\n",
      "see movie come recall scary scene big bird eat man dangle helplessly parachute right air horror horror young go cheesy b film afternoon tired formula monster type movie usually include hero beautiful woman daughter professor happy resolution monster die end care much romantic angle year old predictable plot love unintentional humor year later see come love star bump early film sit take notice point screenwriter make story scary possible well wear formula no rule\n",
      "be big fan boll work enjoy movie postal maybe be boll apparently buy right use far cry long ago game people enjoy kill infiltrate secret research lab locate tropical island warn far cry boll scheme legion feel set boll invite countryman play player name til udo kier name actually self pretty big movie biz tale go like jack carver play til yes carver hail eat dude find til act movie pretty people complain really stay true carver agenda see carver person perspective really know look like kick film evil mad scientist play udo kier make genetically mutate soldier call perform top secret research island remind spoiler reason s right no palm tree instead get nice rich lumberjack wood go far start cry stay true boll movie disappoint deliver true boll experience mean most suck thing worth mention imply boll good work area film nice boat fight scene crome albino squad enter scene make laugh movie far cry reek poop simpleton fa r ahead carver get very annoying make shoot minute screen\n",
      "cast play lose appreciate try bring masse ruin good play favorite know know certain rev bowdlerization try similar era word improve perfection no write write line text composition never forte go movie saying go cut\n",
      "fantastic movie prisoner famous actor fan roll bad good thing movie man constant sorrow recommand movie everybody greeting\n",
      "kind draw erotic scene realize most amateurish unbelievable bit film see sort like high school film project thinking stock character bizarre suppose town pretty hard involve no lesson learn no brilliant insight stilted ridiculous lot skin intrigue nonsense bisexual relationship heterosexual encounter absurd dance everybody play stereotype role pass like million mile bad waste film money spend starve child\n",
      "film simply remake bad film fail capture flavor terror film title excellent most cast hold exception bring right feel character major fault version stray far story attempt grandiose lose thrill early film trade special effect bad film enjoy friction terror old version much\n",
      "movie top most awful movie horrible continuous minute fight monster no chance character development busy run sword fight no emotional attachment big bad machine want destroy scene blatantly steal movie star example ghost scene end steal final scene old star war spider machine beginning exactly like attack spider return king wood victim film wait hypnotize sting victim wrap hello machine human theme terminator example waste time tell juvenile story line rush juvenile conclusion movie decide child movie adult movie much awful real disappointment save money\n",
      "remember film film watch cinema picture dark place very nervous dad take brother sister cinema recall tiger lot snow film appearance grizzly actor dan think tiger get shoot die know find let cinema turn fitness club very big shame near cinema mile away love hear see film like\n",
      "awful film real stinker nominate golden globe take story famous female renaissance painter mangle recognition complaint take liberty fact story good perfectly fine simply bizarre account true story artist far well film come dull script suppose naked people factual version hurriedly cap end summary artist life save couple hour favor rest film brevity\n",
      "success die hard sequel no surprise really glut die hard movie cash wrong guy wrong place wrong time concept die hard mountain time rescue sly stop shoot career big nit picker dream especially expert mountain climbing base aviation facial expression act skill excuse dismiss film overblown pile junk manage act horse forget nonsense actually very lovable undeniably entertaining romp deliver plenty thrill unintentionally plenty laugh get love sneery evilness tick box band good permanently hapless turncoat agent rex linn henry portrait serial killer rooker noteworthy cringe worthy performance insist constantly shriek painful disbelief captor man never hurt anybody whilst surely really look like ralph frank character grin girl plummet death mention burn actor brit bad guy come cropper whilst human football yes help enjoy bit need good kicking forget well care never happen lower acting expectation turn volume enjoy look wear helicopter\n",
      "terrible misfortune have view b movie entirety save time money get bad b movie time call b movie like f movie fail aspect good movie story interesting actor paper thin believable bad direction action sequence fake funny movie pack liner no respectable person find amusing little bit movie suppose gear man woman utterly unattractive especially old wrinkle thing come end try appear sexy weird horrible costume fail miserably most ridiculous b movie laugh painful watch\n",
      "absolutely stunning movie kill watch will regret much fun carry movie shoulder like music take time grow hear time really start like\n",
      "let thing straight anime fan matter fact watch speed racer time preschool b like b movie hilarious c like movie lot move movie come like go usual b movie sudden boom anime come movie go downhill animation very bad cheap bad remember speed racer fact cheap scene movie vividly remember bunch run school terrible look bad addition transition live action animation unorganized dialogue dub view horrid beg dad tape player thing keep survive crack joke comment like mike pick season honestly way barely enjoy movie survive time heck plan fellow pal b movie night stupid pretty painful watch unintentionally hilarious time give movie improvement originally go accord grade scale mean pretty much boring bad fun count find way fun fun count\n",
      "bad movie see receive applause think receive recognition base know actor film great movie minute much well actress allow rest acting hard judge movie ridiculous predictable main character totally unsympathetic bore watch no real emotional depth story movie revolve actor work feel very original development cop feel like straight video movie see good standard\n",
      "carpenter story show little singer carpenter complex life fail give accurate fact detail fine election good actress play very naive sort dumb carpenter think role need strong character strong personality fletcher role carpenter terrific great job mother great song include album unfortunately movie top rating country\n",
      "cell exotic masterpiece trip vast mind serial killer very talented director conclusive evidence achieve human being unleash uninhibited imagination boldness work push aside thought fall formula cliche create truly magnificent good movie year date read numerous complaint film style no substance poorly cast character bad acting negatively criticize film miss point movie landmark tradition future movie hopefully follow cell open door world imagination slam door face tell director singh want personally welcome movie love try challenge hear talk go inside mind serial killer yes agree genre bit movie try depict make serial killer tick work most fail cell blaze trail give new twist physically transport mind present nothing fascinating journey most mysterious subject matter study like movie bog much scientific jargon try explain actually get enter brain instead lie laboratory table wrap look like really long jaunt entity cell want let guess people like true like explanation movie movie venture new ground let desire simply notice film very dark show reality maybe contrast bright visual inside brain nonetheless set design simply astonishing film take home cinematography good costume good director like nominate good picture notice kind repeat nothing stress fantastic think cell walk movie very open mind take wonder eye feast assure good time guess film little much people write weird crazy very much psychology imagination human mind right alley leave theater hear audience member movie sure lot good drug want smoke\n",
      "film try thing sting political satire blockbuster sappy romantic comedy family value list go fail miserably interest turn end appreciate spirit war depress clumsy effort especially take target reflect lack existence critique simply poor writing direction production particular film critique war poke fun way diminish true atrocity happen remind bit king similarly trivialize genuine cause concern\n",
      "movie energetic totally prepared good time think able stand wrong weird looping like watch home video damn parent hate much stereo typical family need speak person responsible need talk little girl hate mention final scene transcend gloriously bad badness movie dancing horrible beautiful\n",
      "war movie genre time dialogue rehash plot top action sequence unavoidable conflict deal large scale combat war movie come go grain bring truly original compelling story life silver screen civil war era cold mountain star law film call cold mountain war movie entirely accurate true film open literally quick dirty battle sequence put glory director shame cold mountain much civil war period people time story center disgruntle confederate soldier play law disgusted gruesome war homesick beautiful hamlet cold mountain north equally beautiful leave play glance setup appear formulaic romantic interest home give audience sympathy root reluctant soldier tribulation battlefield early segment film relatively unimpressive somewhat cold mountain soon take drastic turn intrepid hero turn deserter incidentally save audience potentially scenario want root confederate begin long homeward farm cultured way prove little use field soon transform come rescue course tough play help farm importantly cope loneliness isolation war bring setting vivid compelling time very disturbing portrait war tear south unfold character interact surprisingly complex enhance wonderful performance deadbeat father ray unrepentant lawman portman deeply isolate young mother greatly affect change war northern aggression bad dark pervade anti war message accent effective haunt score chillingly beautiful shot north communicate audience much gruesome battle scene scar land traumatize people war fight weapon tactic war change much past century hellish effect land timelessly relevant director manage maintain gloomy mood most film atmosphere unfortunately denigrate tepid climax little justice wonderfully form character love story awkwardly tack beginning end film inherently distant abstract absurd nature relationship way fit dismal nature rest plot no mistake cold mountain trait feel good romance inspiring war drama unique vision era sure entertain truly absorb audience life people tear apart war entirely desperate rid terrible repercussion altogether\n",
      "taut organically grip distinctive suspense thriller unlikely message movie look device noir cycle bivouac company soldier cope restlessness bar end stranger apartment drunk belligerent beat host sam death happen police detective young investigate help assign outfit suspicion fall cooper vanish slay buddy insure silence young close abet superior script draw precise performance starring naturally prototypical angry white male hilt underplay characteristic alert nonchalance role central young never well give fully fledge rendition smart mouthed vulnerable tramp sad sack leech life kelly haunt small peripheral role make memorable politically engage inevitably succumb sermonize pretty much confine young reminiscence grandfather die hand bigot century incidentally stretch chronology limit no attempt render explanation glib hate hillbilly curiously survive major change work novel base brick foxhole deal gay bash murder homosexuality pale news holocaust begin emerge feel embolden register protest anti studio quake prospect offend potential ticket buyer change anti work general specific fit smoothly victim chat lonesome drunk young soldier invite home look odd especially tow raise question scenario retain inadvertently leave discreet tip original engine generate murderous rage\n",
      "fine film cinema direct great director most successful hard hit parallel cinema turn commercial success inspiration lead director film tell real life scenario police unlike police city police encompass different system altogether create very practical outlay real life approach police environment police officer colleague film describe story young hot blooded cop come poor family father harsh police constable suffer father ideology incidence father atrocity mother approach immediate action crime inert craving job satisfaction film revolve plot constant effort crime trample lead frustration achieve desire job satisfaction result frustration anger express excessive violence remand room bar turn alcoholic spirit alive constantly fight system aware system police politician inertly associate far end compromise unethical practice negative finally get suspend direction master piece thoroughly hard core good memorable scene break underworld gangster house arrest follow short conversation fantastic scene film hair raise moment practical approach script major punch alcoholism corruption political influence courage deception integral police aspect deal brilliantly finally film belong man om traverse emotion absolutely brilliantly\n",
      "exposure good excited find title offering anchor bay video bring cult classic spider baby print quality excellent hide fact film deadly dull thrilling open sequence villager exact terrible revenge templar set thing motion movie slow ponderous ultimately add insult injury movie dub subtitle promise video jacket\n",
      "most significant quote entire film pronounce halfway protagonist middle man di physically non descript middle aged man originally southern introduce start film live non life elegant sterile hotel speak year conduct business gradually introduce pivotal apparently unremarkable scene take place employee bank normally count di cash tell dollar miss usual suitcase tightly stack news quietly icily threaten coax bank manager want close account tell spectator bluff bluff right end fear catch appear ridiculous say bluff halfway tell truth have eventually bluff halfway tell truth have accept consequence life ultimately love exactly reason beginning di trouble initially unsympathetic character scowling taciturn curt man verge man will reply kind chambermaid waitress hello point spectator care deeply point non life decide feel concern appear ridiculous half film describe slow reveal di hotel oddly disjoin deliberate pace reveal seemingly mundane irrelevant detail scene unnecessary reveal essential masterfully construct innovative film unfold eye existence di man no imagination identity life unsympathetic character unexpectedly end love feel think convey elegantly edit sequence very interesting use music theme band board canada especially stand never contrast way treat mobster odd release film interesting element way film use protagonist insomnia unlike machinist far explicit way al film insomnia use condition deep emotional malaise ram deep obscurity unconscious impossible pin point cause young sympathetic hotel waitress play grand daughter legendary anna memory good friend man see year unexpectedly provide tiny window life eventually tentatively accept look never explicitly spelt spectator know man like accept consequence love unimaginable consequence film single scene sex violence film unfold time concede nothing spectator expectation fine representative small quiet discreet renaissance take place cinema decline second half world wait produce like fare la vita style film neglect explore fine creation like loss world\n",
      "watch film really expect much get pack film pretty terrible way fiver expect know right terrible movie stretch interesting point occasional view nice touch drummer very like drummer damned annoying well s actually problem boring assume attempt build tension lot nothing happen utterly tedious thumb fast forward button ready press most movie give seriously lead singer band great looking coz mention beautiful hell lot think look bit like mention killer go to worth explain far concern star reason watch exception actually funny acting talent certainly see lot bad see lot well good avoid watch paint dry\n",
      "buy film blockbuster sound interesting bit idea drag skeleton cute girl skirt restricted view sticker think go sweet sincere come age story weird edge wrong have watch wonder get restrict sticker hardly foul language little violence close thing nudity honestly usually hope girl nightgown pantie pantie lot movie no matter wear sort anti religious humor tame lame insincere derivative unoriginal bad funny slight well listen ray wear television barely qualify rate blockbuster refuse let age rent pornographic little rent edit version requiem dream insist bad way way worry thing leave offend people idea suicide beginning anybody need movie honestly portray suicide well one like virgin movie rate r purely suicide aspect little chance turn story write movie main character half suicide top lead cause death think number chance most teen affect no movie\n",
      "plot death little child hopper investigate killing movie appear trouble daughter end serial killer catch find terrible acting actor unbelievable bad actor include hopper like much waste time watch movie warn\n",
      "watch movie lose plot well really begin begin achingly tedious scene heroine sit actually no sense menace forebode create apparently constant thunderstorm strangely never actually hear great double glazing apparently mile town hour walk away girl serve no purpose plot provide surprisingly quick gory murder tedium unbearable beginning suggest spate killing area apparent killer never venture far bizarre ritual salt pepper pretty much sum most film inherent lack direction add lead actress act willing completely irrelevant nude shower scene video truly nasty way hope give following simply ban final surprisingly extend murder offer nothing curiosity value classic daft murder worry telegraph minute walk wood victim come steep upward slope obviously struggle halfway figure top dress black brandish large scythe slide run like rest no course struggle top stand conveniently nice upright murder weapon really movie\n",
      "series kind take route week week morse character help ride bit pickle wrong morse great character actor certainly cool series create great writer heaven lack love go season series never know rubbish baffle let hope good past series\n",
      "sit pile husband wonder actually product experiment computer program produce movie listless propaganda throw face film prove disappointingly work human conspiracy theorist quote like steal declaration independence protect like way justify action like invasion fact cage line like never use declaration independence chip straight face husband wonder entire cast take shoot scene reasoning plot turn new clue truly ridiculous impossible follow bonus plot chide involve never shut clearly movie look feel need slap title character gravity point cage character say shut camera pan look hand like child truly grotesque benefit movie astonishingly bad laugh really scary thing majority people watch movie enjoy\n",
      "movie type no substance plot go end movie feel like sucker watch production good script acting b movie quality casting poor good actor mix crumby actor good actor hold lift movie worthy word meet minimum requirement line wood gooding play caricature movie look mindless entertainment recommend movie\n",
      "movie base book thing issue race relation white topic come personal experience grow background beautiful hong setting give love story unique daring atmosphere time story stereotypical romance memorable song movie beautiful look give wonderful nominate performance doctor mixed breed communism holden never look well play romantic lead journalist cover war tear region world acting top notch chemistry lover provide genuine moment silver screen affection sure melt heart romantically incline cinematography really bring hong especially hilltop overlook harbor lover spend most intimate moment ending real tear jerker consider sentimental romance enjoy classic love story shine example\n",
      "film see rage get bad direction logic continuity change plot script cry pain come know b movie sure w movie w waste example dozen local law officer surround trailer house inside confuse cop huge gun battle ensue kill straight cop blast away company blast away cop fall like domino drive circle hit single bullet pellet kill notice damn guy tough truly miracle shooter hold bullet miracle\n",
      "hear good thing state grace come open mind think god army think maybe improve mature film begin shaky acting think well maybe well unfortunately never picture start introduce elder mormon missionary audience know grow care instead story degenerate highly improbable series unfortunate event highlight blatant disobedience missionary undeniably exist rarely level portray laughable success movie successful alienation target audience inaccurately portray life mormon missionary accomplish nothing anger predominantly mormon audience film no way reflect reality mission nothing like show have serve mormon mission attest fact gang life certainly contain much explicit language occasional mild vulgarity conclusion assume suppose touch audience inspire believe forgiveness available unbelievable entire mission gather elder send home girl stand right cheesy time try make movie identify\n",
      "movie strike home remember father work factory figure work hard pride never give dream car note degree unlike father quit grade keen sense greed laziness like know movie see hour ago find love friend pseudo friend family relative think remind time work sake feel honor pride accomplish think feeling heavy downward spiral thing overseas\n",
      "disclaimer see movie time year see musical week allow judge movie taint musical taint watch musical actually believe work well role think let dance scene good part movie addition compare musical dancer singe movie much superior musical well cast time big easy movie course lighting dancing singing much superior movie expect deliver song common musical better movie new one good one movie deliver musical opinion especially compare musical bad point movie obvious cut actor talk dub singer singe portion character dancing impeccable end product enjoyable musical\n",
      "protocol implausible movie save grace star good cast support actor story revolve cocktail waitress famous inadvertently save life dignitary story go downhill halfway movie charm save movie fan way film\n",
      "film drama no idea mary try erase historically accurate get meld lot nephew lot turn thousand year bear wander really think ignorance remember animal lot stuff school try offend maximum number people planet possible historian archaeologist geologist psychologist linguist matter fact offend modicum taste wince\n",
      "power glory unseen public nearly thirty year late resurface show television gain notoriety citizen book suggest screenplay base screenplay mention beginning thread film web site overstate case narrator turn deal life foster newsreel represent luce clone jed butler different slant reflect faith disappointment hatred man course reveal failing tell version story method lead frequent telling incident situation power glory yes like legendary business leader garner spencer man rise head most successful railroad system country narrator garner right hand man ralph morgan wife restrict nearly dimensional view time garner narrate talk boss friend respect love wife like voice skeptical public see flaw typical example work way anti labor later year union troublemaker care slow shenanigan describe confrontation union major walk preoccupy detriment home life wife remind violence end strike apparently blow union headquarters kill people view man pure white pure black really knock power glory duplicate success film include film aware story present well hold interest end thank performance colleen wife tragedy worldly success pair fully bring home marry want well wife family benefit never great business success come cost get deeply involved run railroad empire expand improve constantly take away home much lose touch notice young woman mistress learn unfaithful behavior destroy similarly get shock make martyr eye marry present son turn son son discovery incestuous cuckold cause shoot film total success action jump time unconvincingly business real note scene tell board director plan purchase small rival train line discuss use debenture finance plan come wealthy background bring type detail rate film no citizen interest movie lover attempt business realism social commentary depression\n",
      "average surprisingly tame mean bad normal standard redeem solid build nice touch neat time twist issue vision clairvoyance genre well know weakness gear banal dialogue wooden acting illogical plot point finale go much long denouement prove lame shall limp affair handling norm amusing yellow clue look limp killer\n",
      "return chamber classic kung fu movie produce genre equivalent spaghetti western protagonist counterpart western clint digitally new print fantastic film f present scope like good old day film simple story good versus evil tell act sum narrative martial art film era act set premise worker dye mill small village unhappy lot have wage cut incoming gangster much exploitation martial art skilled gangster boss minor success get impersonate highly skilled monk good comedy sequence rouse get expose push limit credibility impersonate time act show protagonist want mob real martial art embark journey temple try infiltrate learn martial art sly slapstick moment finally get accept abbot impersonate disappoint teaching method like style karate instead paint fence get erect scaffolding temple nothing good man unwittingly build strength endurance learn kung fu unorthodox way act fight f begin cheesy sound effect obvious non contact film give maximum impact treatment refreshing watch fight scene wide angled shot highlight clarity detail spar partner use slow motion showcase stunt different angle find speed fight tad slow pause move wo ping style ad flick sure fight scene like return chamber get repeat screening game nostalgic trip memory lane wait\n",
      "spoiler real life well movie familiar story happen young man war zone gun rifle hand case young innocent never handle fire gun tone repeat time century man like force arm country want kick encourage stay belt mouth good friend spencer end line unit pin machine gun nest single commission pick half dozen soldier safety nearby church steeple gun survive raise arm surrender artillery shell hit steeple seriously wound recover wound hospital fall love volunteer nurse really love good friend happy lucky despite obnoxious antic lose fighting western think kill fall love later married unexpectedly show town fully recover wound station thing get very sticky accept proposal marriage marrying leave love bitter resentful young man accident run street new york city discover shock surprise completely change meek non violent person know send war western smug sure ability shoot gun top mobster new york city underworld later find wife no idea really involve tell work law abide inoffensive insurance adjuster life crime come circle find secret life rat police prevent execute valentine day like massacre gang member dress cop rival mobster trial come sense admit guilt willing face music year sentence life spoiler alert hear rumor fellow convict good friend have affair break prison end fugitive law circus work manger barker see well true like trial sudden change heart thought go prison year add sentence much decide end let police track job heart\n",
      "appear low budget chiller studio vanish well one play mad scientist kidnap young bride kill extract fluid body age wife look young reporter doctor stay night home discover responsible bride death follow morning report murder police mad scientist shoot drop dead shortly get movie scientist assistant consist old hag hunchback dwarf son thunderstorm spooky passage house wife find sleep better coffin bed movie vanish worth look especially fan great fun rating star\n",
      "believe enjoy much anthology story well par link story surprise ending hook familiar face ask see forget running time list new line tape be no minute accord timer space maggot douse campfire special way hike\n",
      "percent nation nitwit support bush well movie show aftermath revolution terror strikingly similar post political landscape maybe stop worry save face deserve really shame politician ruin country vote deny right vote clearly show no sense character really stand movie ambiguity character hopelessly doctrinaire man simplistic reductive ideology help elucidate boundary safety totalitarianism execution murder self defense patriotism legalistic litmus test aggravate hopeless situation help create sound like belligerent retard cheerleader know blow slovenly screen sympathetic plight comfort know shortly film end jaw shoot send guillotine\n",
      "mention board very difficult fake documentary require tremendous skill patience directorial distance plausible premise narrative flow really believable acting aka great acting case love machine start hand minute mark minute leave watch viewer start realize take downhill director simply peak soon fair problem start early explain extra begin want real doc settle cheap way make film premise people secret life post interesting film lot tricky stuff host hand hold camera zoom grainy black white guess elicit sense authenticity work film force ultimately bring believability actor pretty awful dialogue\n",
      "hill eye expect nothing course go nominate film pure entertainment lose minute plot basically group national guard find battle notorious mutate hillbilly day training desert fight film include lot violence basically film blood gut constantly fly thing graphic rape scene pointlessly throw shock audience hill eye pure entertainment find look watch film go begin drag fact continue try shock audience graphic occasional jump scene sure audience stay awake hill eye decent entertainment pass time nothing\n",
      "laugh way rotten movie unbelievable woman leave husband year marriage breakdown real estate office happen office manager come outside offer job hilarious thing know woman go yep nothing ring true lifetime woman nothing well movie dialogue like want spend rest life feel like chance happy help wealthy distant mother disapprove daughter new relationship black maid unbelievable year film get black maid turn grave woman husband freak want custody snotty teenage no cliche leave unturned\n",
      "no spoiler successful film base lush novel romance intrigue return familiar theme early period mistaken identity espionage settle world war large scale war effort civilian building plane weaponry necessary militia booming film entertainment business begin turn paranoid jingoistic thriller war time theme thriller involve network deceptive skilled operator work shadow good law abide citizen know director home espionage genre producer jack approach direct property own deal corruption war time sabotage helpless hero thrust vortex coincidence mistaken identity dark element narrative sharp wit parker brief stint return root author script perfect match sensibility neglect film tell story unfortunate year old work airplane factory meet new employee frank moment later commit sabotage flee authority believe far fetched story meet character way soda city finally new york city memorable character include circus caravan car helpful freak popular billboard model martin lane bad crisis life well national security fall madly love course land kidnap supposed saboteur fall captor add romantic tension mix good form outing brew national network demure old lady average joe respectable businessman double secret agent terrorist harbor criminal pull gun detonate bomb thing move terrific plot take time move forward ignite culminate memorable finale look incredibly life like tourist attraction recreate art director war time shoot ban public attraction saboteur most well know film popular b movie certainly solid engage plenty clever plot twist usual terrific villain remember look cameo appearance outside drug store second half film original cameo idea shoot fight sign language deaf wife axe bureau practice afraid offend deaf\n",
      "watch dresser evening have see dozen year ago big movie try big splash god brilliance lead leave speechless nothing amazing movie dresser story sir age actor dresser sort valet put production king blitz world war man dependent sir helpless aid cajole wheedle bully get performance live life vicariously sir sir need nothing think character drive film plot secondary interaction character require actor high caliber bring life year old completely believable very old very sick petulant bullying brilliant stage actor hiss fume fellow actor take bow no convincing mince dresser act mother valet elderly employer employer really wrong term use technically relationship employer employee most time sir act like nothing much old married couple yes cast movie no question true star marvelous script fine performance most notably long suffer stage manager wonderful scene sir talk old desire old regret talk day worth remember dresser nominate academy award good actor nomination good picture good director peter best adapt screenplay remember good movie prepared completely mesmerize begin end want example great acting hugely entertain encourage dresser\n",
      "happen basically solid plausible premise decent talented cast movie lose actually never really get go little excitement find really pregnant find martin very talented person usually bring lot movie dreadful entire character close important movie longer really like interaction main character maybe try pure comedy unfortunately maybe drama comedic element think movie very funny actress funny way sit think numerous scenario riot\n",
      "watch fingersmith average rating plot difficult follow character development randomly apply actor adequate process attempt create twist turn character render entirely dimensional happen story really fall flat tedious case predictable undertone way hammer home most banal term end film end scene disappointing sit go carpet muncher evening star tonsil hockey early scene bit rest\n",
      "let begin movie original movie usually appear intention certainly actress lovely usual cutie movie interesting entertaining follow rest cast extremely impressive kind miscast star array recommend confidence\n",
      "bore scene oppressive dark movie try portray kind moral fall flat message redeem quality top think librarian look unglamorous\n",
      "unmarried woman name get pregnant wealthy man collins offer marry sense obligation turn flat decide raise thing child name thing gradually predictably bad see silent version sound version affect much cry easily well date try remake stupid idea guess power incomprehensible success beach predictably bomb story laughable date standard good performance film really drag bore silly end collins mason good actor help support role flimsy dull really think work version instead\n",
      "torture duckling early honestly term story line well film typical know very unique enjoyable film story surround small town series child murder occur colorful character involve investigation suspect help investigation case include town police force small time reporter beautiful rich ex drug addict young priest mother old man practice witchcraft female mentally handicapped townsman deaf mute little girl people interweave plot create twist turn actual killer reveal torture duckling classical typical film contain element old fashioned murder mystery dark subject matter scene graphic violence nothing nearly strong later work well write film lot twist keep guess end recommend murder mystery fan look check non splatter film despair torture fair share violence subject child killing main female character strange habit hit very young boy kind disconcert type material bother definitely look\n",
      "beauty play clothe bad ass bitch faithful acolyte faust evil entity trap hell determine free master malevolent minx break warehouse steal magical gem vital success whilst conduct satanic ritual summon faust silly mare accidentally enter pentagram draw floor result loss gem release diminutive troll like creature call lite dark find replacement gem go easy stone trick wear neck ex lover police detective investigate warehouse robbery know well evil capable wise cracking inter dimensional pint lite dark sort zany trouble try find way home warped movie world female big breast babe fashion sense cheap hooker no exception woman police captain curator antiquity mental patient hot hot hot wear lot fact make totally unwatchable piece crap bearable warn presence semi naked quality crumpet make go slightly easy plenty film warrant label ordeal acting wooden dialogue painful black humour blurb describe funny knee knacker comedic banter lite dark particularly cringe worthy special effect bargain basement consist rubbery creature visual effect look date year solely high quotient\n",
      "really like really disappointed see movie much plot appealing look good movie look young refresh worth price music bad nice usually movie hour long very short movie film actress play movie television hit series hero acting lot desire look good dress wear movie lot desire hope lot better movie thank\n",
      "sure producer need trade somewhat successful movie franchise title suggest sequel movie appear play totally different character year old film most talented carry film trade franchise sort reference albeit minor early movie sure want hoodwink thinking see sequel totally different film familiar sorry funny hold candle late robin ketty curry early film good substantial visual diversion thumb name film minute furthermore brother produce movie involve making film\n",
      "film labour most predictable story line shallow character see writer obviously buy playbook write space disaster movie follow play play particular stereo typical use astronaut talk love one outer space put brave face disaster time time q appear write hope producer throw million project judge half film contain numerous lame attempt special effect producer muster thousand learn film nominate special visual effect absolutely gob smack think handful high school student pass medium study create believable effect plot hole numerous mention pick example no expert surely highly implausible worker attach shuttle simulator suddenly hold position power control room thing start pear shape program surely experienced mission control program director year old control room save grace film work bill manage good attempt salvage train wreck script film average work bill lead role save low mark\n",
      "good movie compare original not stack stack horrible replacement ted knight mason funny not compete rodney funny character original most character movie lack punch original henry example funny lawyer peter blunt play randy line say remind original humor especially scene office law suit motion find live come house beat door baseball bat bonfire maybe roast golden retriever eat upstairs junior grab cram brand new tight understanding offset small role dan obviously no replacement bill voice irritate not funny stupid overall good movie comparison awesome original not cut\n",
      "honestly short film suck dummy scene pretty well phony look ruin view experience unearthed crisp clear mind help hinder film little grainy add creepiness factor go no idea film much surround subject matter honest scene film like visitor q shocking aftermath talk film loneliness manner deep philosophy bull expensive beautifully film turd shocking disgusting insist view rent fact people explicit movie definitely big selection good watch rubbery look doll cut open consider absolutely nothing go mess hand sequel aftermath available double feature release unearthed film absolute masterpiece short film really show good director really give right material care aftermath well forgive definitely eye future\n",
      "think wonderfully write entertainment subtle message think try bring yes watch time bet u notice use character movie right really character relate like bossy prostitute chick snooker pad turn religious wife pious man future absolutely love voice over crude awakeningly fresh like take shot gamin signboard suddenly voice say scene climb tree capture mild way snigger pathetic portray character example really sharp shrill annoying voice simply bad mouth movie long busybody talk ur life sort movie totally reach expectation exceed keep glue screen eye cinema ha ha\n",
      "golf fan mean movie start scene late old movie like golf scene young boy harry awaken voice man go outside inquire tell go build golf turn television stir movie excellent young boy man professional golf player haunt vision childhood meet true focus movie decision make golf meet mother father want protect class thing obvious period little lowery caddy encouraging word little push instrumental win want away much super movie\n",
      "view tobe hooper gem crocodile develop great interest college crocodile niche exploitation monster genre look forward wayward producer follow sequel delightful bonbon camp goodness wood bring subtle sense flair dignity remarkable script write script room create crocodile special effect computer need cast crocky fodder pectoral implant tobe hooper crocky opus reference movie blood surf choose dish bunch age theme chum bucket movie look past revenge sequel set find allusion homage off temple doom crusade convent bond movie try find ready fade editor give make sense stock disappoint crock try tenor soliloquy environmentalism crocky appreciation quasi captain story tour de force come year crock gallop golden sunset hopefully monkey flush crocky toilet international space station midget enjoy exploitative waltz g monkey midget crocodile lack bar surf music irk\n",
      "try epic adventure century cast like lee really perfect b adventure time actually pretty fun swashbuckle adventure flaw capture interest feel big movie people modern feel feeling old movie big adventure movie big thing afraid feeling never old movie hand real feeling hate think adventure movie really love damn want theme song\n",
      "hard man find outlaw long sentence break free chain gang friend head border jail safety no mission revenge kill peace officer bring process kill woman peace officer retire know explain daughter hole shack involve like standoff woman kill hail bullet fire collateral casualty lest feel sorry let know well evil man truly usual stalwart hero act honor hard man blow screen get bright idea make sure trail kidnap take reservation white authority touch know personal gang include morgan larry son law hard man nasty brutal western direct think project originally intend sam sure show lot influence liberal use slow motion accentuate violence lot little lite hard man film\n",
      "maybe title trailer certainly interview director keep say hi camera like buffoon expectation entrail virgin bit sleazy fun good sex scene brutal bloody killing weird penetrator turn way sleazy good bad problem flick holocaust similar respect have balance sex violence much sex turn prototypical much production quality comparison most professional movie kill scene little tack maybe smidgen ingenuity create creature killer entrail virgin safe pretty soulless movie very bad horn dog fetishist girl trouble man brain head case give photo team guy take shot girl nothing salacious way dense fog stay house night pick murderer credit director decide quota random sex scene early splice phone pick clip photographer have sex girl look like movie settle house wrestling scene poorly choreograph shoot yeah really need rape killing rape photographer promise girl job time murderer like creature simply cover mud give stupid facial unknown reason kill man rape woman take consider highlight movie like say good wretchedly taste salad eye gouge scene spike throw like event scene actually kind cool finally overly sex craze girl inconsequential remember disappointing correct title top sex scene tedious indulgence long take cutaway censor blur dub actor think enjoy need let speak overall feeling entrail virgin lumpy gawk shred suspense true horror watch girl leave alive virgin picture try stop murderer get last minute keep throw stick want hate woman mantra ease rid altogether\n",
      "scene actually attempt depiction revolutionary struggle resemble hirsute boy scout troop meander tentatively swim hole god try hand fiery oratory sound like swallow bug display strategic brilliance incorporate map replete smile ocean positively hypothesis bay pig come pass leave comical dentistry scene surfeit uppity peasant address camera move train limit manic unremitting cigar fellatio never trust busted clock right twice day historically awful movie\n",
      "film take surprise habit find little possible film attend trailer review provide spoiler spoiler know enter theater documentary long married couple reader give rotten tomato user rank critic average amazing underrate little gem block decide record parent posterity beginning film treat requisite interview parent outspoken mother mina forthcoming dad immediately find couple interesting no idea mina son go matter fact doubt know go life take unexpected twist turn beautifully expressive film follow journey difficult verbalize move story unique way tell absolutely rivet begin end really fan documentary genre film think life evoke memory think long forget birch street rare filmgoing experience make deep impression never leave good news hand production instead play limited art house audience eventually people chance view incredible piece work bravo\n",
      "genius king genius watch movie make feel dumb great movie highly entertaining very very intriguing movie center bind man make look average theory scientific discovery universe time galaxy black hole really intense high come moment think get universe cosmos figure swear soon sober write well man actually hold feeling hour man despite suffer disease great mind world see watch listen formulate theory black hole awesome will\n",
      "story psychic woman return begin relive traumatic childhood past death childhood friend abusive father discover friend string murder occur psychic power help solve crime stop continue murder really need find oh god bad know fan flock movie ton rest score actually think movie worth watch fool ending predictable act terrible start southern accent story trite remember warn\n",
      "oh god see ask young stupid bad movie nasty gross very silly see impressive effect see well performance school play see convincing crocodile zoo nothing sit water ignore child tap glass story set northern handful ambitious young people try new water sport surf shark fill water soon evident dangerous water learn help grizzly middle aged fisherman want kill animal avenge eating family think see crocodile film year good lake placid bad sequel blood surf bad croc flick think primeval crocodile tail closely most dangerous creature result injury death year movie like blood surf ruin ferocious image creature good hour half viewer life really want avoid blood surf\n",
      "fate lead sparrow come possession mysterious novel eerie similarity connection life base number story unfold real life fiction sparrow figure connection book story eventually end number offer intriguing premise undo weak execution film fail different level pretty disappointing hold much potential screenplay probably bad fill silly sequence laughable kill mood movie like screenwriter good idea know develop stretch ninety minute running time second half film run low idea twist pretty obvious ending awful responsible bad movie redeem little phone booth film number remind capable make stinker movie drench style good focus move film slow pace switch reality actually happen book quickly get annoying actual book film title number awful detective story audience get stuck listen narrate bore tear finally book stuck watch run try solve mystery point audience lose interest no real tension impatiently wait movie reach horrible ending unconvincing explanation celebrate film finally finish acting average pretty forgettable clearly sleepwalk performance try completely top scene very wooden narration complete bore listen no life inside character good limited role need pick well script pretty bland overall number awful thriller offer laugh suspense thrill rate\n",
      "bring film joke friend bad joke play film barely watchable acting dire bad child actor give substandard performance plot disgraceful point wonder hell go try gruesome place laughable terrible\n",
      "probably bad movie see life stupid no plot special affect ridiculous never see bad acting life good movie hot draw fuller know people think movie want finish thing point movie guy bed touch mean like kind sick twisted kiddy advise hear movie interested see forget find movie watch very disappointed movie complete waste time opinion\n",
      "typical novel production people undergo sort tragedy manage despite odd spoiler read novel know end want know much plot read character woman decent lose husband son accident need stop film require accent good actress realistically pull kind accent brad excellent actor recover nasty divorce gentle convincing compelling role meet beach daughter pip initially accuse child molester talk art friend episode couple fall love chemistry lead great talent people opinion question good predictable plot script border stereotypical people meet tragedy big tragedy secret reveal tragedy wish nutshell want mindless entertainment get regard genre romantic film fail memorable secret affair turner far superior book early book turn film\n",
      "oh no attack ghost girl movie remember see maybe sell scary horror movie very similar see pull scene time horror movie scene nothing new guy get hit train suck mean lack listen rock think unique let tell million d see bad will miss see\n",
      "walker local town marry ally habitual womanizer decide fake death run away current affair get bout film sally hand crazy old coot pine good shade misery type way sad pretty good cast waste like bit savage horridly forgettable role shoddy private investigator film bill black comedy bring element say movie bring spade sadly contain furthermore emphasize character absolutely no interest technically bad movie extremely forgettable eye candy get topless sally show skin grade c see showcase\n",
      "movie industry lazy entire world need single hit flood theater old crap invent superhero example x man daredevil ghost rider hulk horror remake bad take ring pitch perfect gore bring ton look alike woman base horror ring eye dark water fine pointless grudge grudge entirely bad scary most way expect plus plot brain mix narrative grudge exactly like previous good thing hey boy man black nice thing entire screenplay change villain grudge critic go way tired scare bad acting amber place story place different place time investigate drive sister death take colleague visit house incident depict movie take place finally family witness strange stuff happen apartment door glad mean tie end rely end good picture simply tiresome dull chill girl locker enter house dig deep ghost kill kill killing deadly world war epidemic hey like bad remake call pulse yeah day day get easy hold grudge\n",
      "periscope library arrive acquire digital cinema quirky flick militarily overboard pro con foremost comedy vehicle main character sequel never offer movie gain following border cult obsession very young aware visit drum group cub grandson take role movie plan relive board fun romp make rare company thank grammar holly rob schneider make unremarkable movie great entertainment\n",
      "come see film curious feel really profusely apologize film cross eye moment hear no cure retinal bleeding report case like rent movie believe stupid b movie blade think sure use good laugh stupid movie creator film positive comment creation thank remove right hand corner screen distraction see movie record see movie watch dialogue incoherent most scene take place grandmother trailer swear god know write painful\n",
      "nan grey read smart girl universal film introduce film audience star ray king sweet story young woman live divorce mother hear father marry have see year know mother love board ship help housekeeper nanny determine stop wedding realize intend call precious nothing gold digger aid abet mother arrange introduce wealthy count arrange father accountant king man choose time drunk girl mistake actual wealthy count mess delightful film cloy overly sugary nice performance particularly young woman pretty good work emphasis course young natural actress beautifully train singer fact voice youngster much adult no trouble high note later much weight middle voice sing delightful police station nice thing film father play want child see get know gold digger young girl mother look way inference probably old man seek youth young glamorous woman fact find youth seek daughter universal give big star buildup final shot movie ray point pay due probably surprise film fan young attractive very entertaining course lead sequel big stardom\n",
      "wonder no make movie like conversation character simple theme friendship struggle evolve new well different folk need film top notch writing direct act meld wonderful evening observation thing day time funnel terrific comedy entertainment walker josie major role brush stroke direction mike actor accomplish vividly memorable performance photograph sublimely subtle painter eye reminiscent theatrical bedroom farce turn century film call friendship farce experience growth romantic nature character viewer artistic telegram importance care\n",
      "watch series curiosity want possibly modern technology classic epic star sir course let yes character correct spectacular theatrical scene hold interest movie go series scene burn bush part red army build pyramid today technology scale blockbuster movie lord ring matrix obviously want leave lasting impression faith sacrifice much need trouble time\n",
      "day most versatile actor alive aristocratic snob room view passionate thief father impudent violent butcher gang new york performance time strong pianist outrageous brown cerebral palsy left foot role influence utterly unique change completely character take begin believe act brown stunning ridicule character pity character difficult achievement brown come life smart man outrageous man human movie despite small scene transition fault like inspiration yes predictable stupidly sentimental no laugh cry single moment cheese proof movie scene scene restaurant discuss painter friend day reach act climax kick anatomy animate wheel cripple performance never slow never falter beautiful simply lot screen time watch never tired perspicacious eye guttural speech sho\n",
      "guess originally go part quarter longer explain confused never completely lose partially lose usually unclear character motivation movie feel join plot point drop squeeze time slot long sense much good movie most interesting idea war war male female movie drop ball make follower fairly horrible clear follower believe movie interesting god no real certainty exist get couple intriguing idea useful bad cardboard character interesting scene involve antagonistic son unwatchable worth watch\n",
      "well like watch bad horror b movie cause think interesting stupidity unability creator shoot seriously good movie compare movie example work understand huge difference like wood movie cause inept very funny people chilling funny interesting extremely boring horror movie make bad movie watchable no acting no screenplay no direction no thrill blood extremely inept amateurish film definitely bad movie see see lot bad movie believe warn\n",
      "bad movie see well bad probably no need rehash say previously forewarn bad movie think want watch want able fun plain bad bad bad bad bad movie equivalent have pet rock friend wait wait wait wait wait wait wait wait happen unfortunately never pet rock know get gate completely deceive bombshell no disaster watch film swear bush hand making film yes idiotic stay away course want watch bad movie time probably gate figure money piece tripe\n",
      "fan long remember very memory play super world game bring memory add new super galaxy late installment amazing franchise much very different game keep intact great element noticeable difference story take place space story begin much like game receive letter princess invite celebration castle mushroom kingdom arrive castle find son attack castle airship princess lift castle space midst castle lift space fall land unknown planet find talk star name take home float space station meet meet leader woman name tell take away space station power star scatter universe help find save adventure begin way play game fly space station galaxy galaxy consist multiple planet travel level shoot star retrieve power star time walk way planet lose gravity planet small big planet similar classic environment good thing game control stuff like jump unique way game shake remote perform spin primary attack game well activate shooting star point remote screen use pointer fire star bit enemy object environment graphic far good graphic hard describe great game look probably look good game minor gripe go upside effect take get story pretty weak bad lose life turn game no matter quit restart life minor problem aside superb game highly entertaining very type game wait perfect\n"
     ]
    }
   ],
   "source": [
    "for review in data['review']:\n",
    "    print(review)"
   ]
  },
  {
   "cell_type": "code",
   "execution_count": 71,
   "metadata": {},
   "outputs": [],
   "source": [
    "# Save to csv\n",
    "#data.to_csv(\"../data/clean_dataset.csv\", index=False)"
   ]
  }
 ],
 "metadata": {
  "kernelspec": {
   "display_name": "Python 3",
   "language": "python",
   "name": "python3"
  },
  "language_info": {
   "codemirror_mode": {
    "name": "ipython",
    "version": 3
   },
   "file_extension": ".py",
   "mimetype": "text/x-python",
   "name": "python",
   "nbconvert_exporter": "python",
   "pygments_lexer": "ipython3",
   "version": "3.7.2"
  }
 },
 "nbformat": 4,
 "nbformat_minor": 2
}
